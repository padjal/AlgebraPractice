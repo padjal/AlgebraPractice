{
  "nbformat": 4,
  "nbformat_minor": 0,
  "metadata": {
    "kernelspec": {
      "display_name": "Python 3",
      "language": "python",
      "name": "python3"
    },
    "language_info": {
      "codemirror_mode": {
        "name": "ipython",
        "version": 3
      },
      "file_extension": ".py",
      "mimetype": "text/x-python",
      "name": "python",
      "nbconvert_exporter": "python",
      "pygments_lexer": "ipython3",
      "version": "3.8.6"
    },
    "colab": {
      "name": "Dzhalev_Pavel_Alg_7_2020_tasks.ipynb",
      "provenance": [],
      "include_colab_link": true
    }
  },
  "cells": [
    {
      "cell_type": "markdown",
      "metadata": {
        "id": "view-in-github",
        "colab_type": "text"
      },
      "source": [
        "<a href=\"https://colab.research.google.com/github/padjal/AlgebraPractice/blob/main/Dzhalev_Pavel_Alg_7_2020_tasks.ipynb\" target=\"_parent\"><img src=\"https://colab.research.google.com/assets/colab-badge.svg\" alt=\"Open In Colab\"/></a>"
      ]
    },
    {
      "cell_type": "code",
      "metadata": {
        "colab": {
          "base_uri": "https://localhost:8080/"
        },
        "id": "p_utvSVAyT1p",
        "outputId": "961925b4-afbb-4b33-ae83-b8df71dd4588"
      },
      "source": [
        "!python -m pip install sympy --upgrade"
      ],
      "execution_count": null,
      "outputs": [
        {
          "output_type": "stream",
          "text": [
            "Collecting sympy\n",
            "\u001b[?25l  Downloading https://files.pythonhosted.org/packages/ff/69/b16fc81b939d3efdd0b552f2e3e54f7fa1423d0c320cced2e69e675dde26/sympy-1.7.1-py3-none-any.whl (5.9MB)\n",
            "\u001b[K     |████████████████████████████████| 5.9MB 5.2MB/s \n",
            "\u001b[?25hRequirement already satisfied, skipping upgrade: mpmath>=0.19 in /usr/local/lib/python3.6/dist-packages (from sympy) (1.1.0)\n",
            "Installing collected packages: sympy\n",
            "  Found existing installation: sympy 1.1.1\n",
            "    Uninstalling sympy-1.1.1:\n",
            "      Successfully uninstalled sympy-1.1.1\n",
            "Successfully installed sympy-1.7.1\n"
          ],
          "name": "stdout"
        }
      ]
    },
    {
      "cell_type": "code",
      "metadata": {
        "colab": {
          "base_uri": "https://localhost:8080/",
          "height": 35
        },
        "id": "2tUHkcDgyIOF",
        "outputId": "03eab28c-c25b-4aec-e3b8-8c6d5ed40f47"
      },
      "source": [
        "import sympy\n",
        "from sympy import  Point, Line, Plane, Point3D, solve, solveset"
      ],
      "execution_count": null,
      "outputs": [
        {
          "output_type": "execute_result",
          "data": {
            "application/vnd.google.colaboratory.intrinsic+json": {
              "type": "string"
            },
            "text/plain": [
              "'1.7.1'"
            ]
          },
          "metadata": {
            "tags": []
          },
          "execution_count": 2
        }
      ]
    },
    {
      "cell_type": "markdown",
      "metadata": {
        "id": "CdrqAZ3lyIOJ"
      },
      "source": [
        "# Лабораторная работа 7\n",
        "# Алгебра\n",
        "https://docs.sympy.org/latest/search.html?q=geometry\n",
        "\n",
        "## Прямые и плоскости в пространстве. Модуль Geometry\n",
        "### Задание 1.\n",
        "Даны точки: $A(3, -2, 3)$,  $B(-2, 3, 1)$, $C(1, -8, 6)$, $D(1, 2, 4)$, $F(-7, 8, -1)$.\n",
        "\n",
        "Проверить, различны ли прямые $AB$ и $AF$, $BC$ и $CD$, $ABC$ и $ACF$, $ABC$ и $ACD$. "
      ]
    },
    {
      "cell_type": "code",
      "metadata": {
        "colab": {
          "base_uri": "https://localhost:8080/"
        },
        "id": "KMeDCqfYyIOK",
        "outputId": "00982674-f3ca-4677-e14b-d12906155e54"
      },
      "source": [
        "A = Point(3, -2, 3)\n",
        "B = Point(-2, 3, 1)\n",
        "C = Point(1, -8, 6)\n",
        "D = Point(1, 2, 4)\n",
        "F = Point(-7, 8, -1)\n",
        "AB = Line(A, B)\n",
        "AF = Line(A, F)\n",
        "BC = Line(B, C)\n",
        "CD = Line(C, D)\n",
        "ABC = Plane(A, B, C)\n",
        "ACF = Plane(A, C, F)\n",
        "ABC = Plane(A, B, C)\n",
        "ACD = Plane(A, C, D)\n",
        "\n",
        "print('различны ли прямые 𝐴𝐵 и  𝐴𝐹: ', AB.equals(AF))\n",
        "print('различны ли прямые BC и  CD: ', BC.equals(CD))\n",
        "print('различны ли плоскосты 𝐴𝐵C и  𝐴CF: ', ABC.equals(ACF))\n",
        "print('различны ли плоскосты 𝐴𝐵C и  ACD: ', ABC.equals(ACD))"
      ],
      "execution_count": null,
      "outputs": [
        {
          "output_type": "stream",
          "text": [
            "различны ли прямые 𝐴𝐵 и  𝐴𝐹:  True\n",
            "различны ли прямые BC и  CD:  False\n",
            "различны ли плоскосты 𝐴𝐵C и  𝐴CF:  True\n",
            "различны ли плоскосты 𝐴𝐵C и  ACD:  False\n"
          ],
          "name": "stdout"
        }
      ]
    },
    {
      "cell_type": "code",
      "metadata": {
        "id": "NTDlZ4q1yRoz"
      },
      "source": [
        ""
      ],
      "execution_count": null,
      "outputs": []
    },
    {
      "cell_type": "markdown",
      "metadata": {
        "id": "QU3XurEtyIOL"
      },
      "source": [
        "###  Задание 2\n",
        "Вывести на экран уравнение обеих биссектрис двугранных углов, образованных при пересечении плоскостей АВС и АСD.\n",
        "\n",
        "Указание: расстояние от любой точки на биссектрисе до каждой из плоскостей АВС и АСD одинаково, полученное из этого уравнение описывает обе биссектрисы, упрощать его не нужно."
      ]
    },
    {
      "cell_type": "code",
      "metadata": {
        "id": "2qlYwi_LyIOL"
      },
      "source": [
        ""
      ],
      "execution_count": null,
      "outputs": []
    },
    {
      "cell_type": "markdown",
      "metadata": {
        "id": "IhmUWbfhyIOL"
      },
      "source": [
        "###  Задание 3\n",
        "Построить плоскость, перпендикулярную плоскости АВС, проходящую через D и начало координат. Найти линию пересечения АВС и этой плоскости."
      ]
    },
    {
      "cell_type": "code",
      "metadata": {
        "id": "0F2HFwPDyIOM"
      },
      "source": [
        ""
      ],
      "execution_count": null,
      "outputs": []
    },
    {
      "cell_type": "markdown",
      "metadata": {
        "id": "9YNm987JyIOM"
      },
      "source": [
        "###  Задание 4\n",
        "Найти пересечение плоскости АВС и прямой DK, где K(3,-2, 3)."
      ]
    },
    {
      "cell_type": "code",
      "metadata": {
        "id": "Da12cd7VyIOM",
        "colab": {
          "base_uri": "https://localhost:8080/"
        },
        "outputId": "384dd9e4-8ec9-4f6c-93d5-2bb777f4e182"
      },
      "source": [
        "i = ABC.intersection(Line(D, Point(3, -2, 3)))\n",
        "i"
      ],
      "execution_count": 6,
      "outputs": [
        {
          "output_type": "execute_result",
          "data": {
            "text/plain": [
              "[Point3D(3, -2, 3)]"
            ]
          },
          "metadata": {
            "tags": []
          },
          "execution_count": 6
        }
      ]
    },
    {
      "cell_type": "markdown",
      "metadata": {
        "id": "r-L_DvrkyIOM"
      },
      "source": [
        "###  Задание 5\n",
        "Проверить, что точка пересечения из Задания 4 лежит в плоскости AFC."
      ]
    },
    {
      "cell_type": "code",
      "metadata": {
        "id": "r8v9lXWryION"
      },
      "source": [
        ""
      ],
      "execution_count": null,
      "outputs": []
    },
    {
      "cell_type": "markdown",
      "metadata": {
        "id": "j5jrT5NcyION"
      },
      "source": [
        "###  Задание 6\n",
        "Даны точки: A(3, -2, 3),  B(-2, 3, 1), C(1, -8, 6), D(1, 2, 4), F(-7, 8, -1).\n",
        "\n",
        "Составить словарь всех прямых (в нем должны быть и прямая АВ, и ВА!), каждая из которых проходит хотя бы через две заданные точки, ключ - сама прямая (Line), значение - список из имен ВСЕХ точек, лежащих на этой прямой. Вывести на экран имена только тех прямых, на которых лежит не менее трех точек из условия, а также список точек, лежащих на прямой."
      ]
    },
    {
      "cell_type": "code",
      "metadata": {
        "id": "GyXK2BqeyION"
      },
      "source": [
        ""
      ],
      "execution_count": null,
      "outputs": []
    },
    {
      "cell_type": "markdown",
      "metadata": {
        "id": "MOKAhr55yION"
      },
      "source": [
        "### Индивидуальное задание\n",
        "\n",
        "Даны точки: $A(3, 2, 1)$,  $B(2, -3, 1)$, $C(0, -4, 6)$, $D(4, 7, 1)$, $F(1, -8, 1)$.\n",
        "\n",
        "Составить список lines_list, состоящий из  tuple из троек прямых, каждая из которых проходит через две (или более) заданные точки, причем все прямые пересекаются в одной точке. Совпадающие прямые не учитывать. "
      ]
    },
    {
      "cell_type": "code",
      "metadata": {
        "id": "-rSwnYcRyION"
      },
      "source": [
        ""
      ],
      "execution_count": null,
      "outputs": []
    }
  ]
}