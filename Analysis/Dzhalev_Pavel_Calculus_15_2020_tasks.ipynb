{
  "nbformat": 4,
  "nbformat_minor": 0,
  "metadata": {
    "kernelspec": {
      "display_name": "Python 3",
      "language": "python",
      "name": "python3"
    },
    "language_info": {
      "codemirror_mode": {
        "name": "ipython",
        "version": 3
      },
      "file_extension": ".py",
      "mimetype": "text/x-python",
      "name": "python",
      "nbconvert_exporter": "python",
      "pygments_lexer": "ipython3",
      "version": "3.7.3"
    },
    "colab": {
      "name": "Dzhalev_Pavel_Calculus_15_2020_tasks.ipynb",
      "provenance": [],
      "collapsed_sections": []
    }
  },
  "cells": [
    {
      "cell_type": "code",
      "metadata": {
        "id": "WFKJ886uaQpU"
      },
      "source": [
        "import sympy\n",
        "from sympy import S, Symbol, symbols, simplify, nonlinsolve, Matrix, diff, factor, sqrt"
      ],
      "execution_count": 12,
      "outputs": []
    },
    {
      "cell_type": "markdown",
      "metadata": {
        "id": "jZqHUR8UaQpV"
      },
      "source": [
        "## Занятие 15\n",
        "## Математический анализ\n",
        "## Экстремум функции нескольких переменных \n",
        "### Задание 1\n",
        "Найти точки экстремума:\n",
        "\n",
        "1) $z = x^2 + xy + y^2 - 2x - y$\n",
        "\n",
        "2) $z = x^3y^2(6 - x - y)$, $(x, y > 0)$\n",
        "\n",
        "3) $z = \\frac{8}{x} + \\frac{x}{y} + y$\n",
        "\n",
        "4) $z = \\frac{1 + x - y}{\\sqrt{1 + x^2 + y^2}}$\n",
        "###### Указание.\n",
        "Вначале найти стационарные точки. Составить определитель из вторых производных в произвольной точке. Подставляя найденные (вещественные) стационарные точки, решить вопрос о наличии экстремума."
      ]
    },
    {
      "cell_type": "code",
      "metadata": {
        "colab": {
          "base_uri": "https://localhost:8080/",
          "height": 74
        },
        "id": "00QRbdXlaQpV",
        "outputId": "89ce7a8a-34c1-4f79-b29d-979e08bd37cb"
      },
      "source": [
        "x, y = symbols('x y')\n",
        "z1 = x**2 + x*y + y**2 - 2*x - y\n",
        "stat_points1 = nonlinsolve([z1.diff(x), z1.diff(y)], [x, y]) \n",
        "display(*stat_points1)\n",
        "\n",
        "print('Достаточность:')\n",
        "Delta = Matrix([[z1.diff(x, 2), z1.diff(x, y)], [z1.diff(x, y), z1.diff(y, 2)]]).det()\n",
        "x0, y0 = tuple(*stat_points1)\n",
        "Delta.subs({x: x0, y: y0})"
      ],
      "execution_count": 25,
      "outputs": [
        {
          "output_type": "display_data",
          "data": {
            "text/latex": "$\\displaystyle \\left( 1, \\  0\\right)$",
            "text/plain": [
              "(1, 0)"
            ]
          },
          "metadata": {
            "tags": []
          }
        },
        {
          "output_type": "stream",
          "text": [
            "Достаточность:\n"
          ],
          "name": "stdout"
        },
        {
          "output_type": "execute_result",
          "data": {
            "text/latex": "$\\displaystyle 3$",
            "text/plain": [
              "3"
            ]
          },
          "metadata": {
            "tags": []
          },
          "execution_count": 25
        }
      ]
    },
    {
      "cell_type": "code",
      "metadata": {
        "colab": {
          "base_uri": "https://localhost:8080/",
          "height": 118
        },
        "id": "lBJNhmnwbY6e",
        "outputId": "2f88181d-8d52-404c-fb4b-a6205404d8a8"
      },
      "source": [
        "x, y = symbols('x y', positive=True)\n",
        "z2 = x**3*y**2*(6-x-y)\n",
        "stat_points2 = nonlinsolve([z2.diff(x), z2.diff(y)], [x, y]) \n",
        "display(*stat_points2)\n",
        "\n",
        "print('Достаточность:')\n",
        "Delta = Matrix([[z2.diff(x, 2), z2.diff(x, y)], [z2.diff(x, y), z2.diff(y, 2)]]).det()\n",
        "for points in stat_points2:\n",
        "  x0, y0 = points\n",
        "  display(Delta.subs({x: x0, y: y0}))"
      ],
      "execution_count": 52,
      "outputs": [
        {
          "output_type": "display_data",
          "data": {
            "text/latex": "$\\displaystyle \\left( 0, \\  y\\right)$",
            "text/plain": [
              "(0, y)"
            ]
          },
          "metadata": {
            "tags": []
          }
        },
        {
          "output_type": "display_data",
          "data": {
            "text/latex": "$\\displaystyle \\left( x, \\  0\\right)$",
            "text/plain": [
              "(x, 0)"
            ]
          },
          "metadata": {
            "tags": []
          }
        },
        {
          "output_type": "stream",
          "text": [
            "Достаточность:\n"
          ],
          "name": "stdout"
        },
        {
          "output_type": "display_data",
          "data": {
            "text/latex": "$\\displaystyle 0$",
            "text/plain": [
              "0"
            ]
          },
          "metadata": {
            "tags": []
          }
        },
        {
          "output_type": "display_data",
          "data": {
            "text/latex": "$\\displaystyle 0$",
            "text/plain": [
              "0"
            ]
          },
          "metadata": {
            "tags": []
          }
        }
      ]
    },
    {
      "cell_type": "code",
      "metadata": {
        "colab": {
          "base_uri": "https://localhost:8080/",
          "height": 278
        },
        "id": "oeQgeMRLbwsK",
        "outputId": "cc1d8c30-d669-4ced-a6f0-bfc7018b5040"
      },
      "source": [
        "x, y = symbols('x y')\n",
        "z3 = 8/x + x/y + y\n",
        "stat_points3 = nonlinsolve([z3.diff(x), z3.diff(y)], [x, y]) \n",
        "display(*stat_points3)\n",
        "\n",
        "print('Достаточность:')\n",
        "Delta = Matrix([[z3.diff(x, 2), z3.diff(x, y)], [z3.diff(x, y), z3.diff(y, 2)]]).det()\n",
        "for points in stat_points3:\n",
        "  x0, y0 = points\n",
        "  display(Delta.subs({x: x0, y: y0}))"
      ],
      "execution_count": 53,
      "outputs": [
        {
          "output_type": "display_data",
          "data": {
            "text/latex": "$\\displaystyle \\left( 4, \\  2\\right)$",
            "text/plain": [
              "(4, 2)"
            ]
          },
          "metadata": {
            "tags": []
          }
        },
        {
          "output_type": "display_data",
          "data": {
            "text/latex": "$\\displaystyle \\left( \\left(-1 + \\sqrt{3} i\\right)^{2}, \\  -1 + \\sqrt{3} i\\right)$",
            "text/plain": [
              "((-1 + sqrt(3)*I)**2, -1 + sqrt(3)*I)"
            ]
          },
          "metadata": {
            "tags": []
          }
        },
        {
          "output_type": "display_data",
          "data": {
            "text/latex": "$\\displaystyle \\left( \\left(-1 - \\sqrt{3} i\\right)^{2}, \\  -1 - \\sqrt{3} i\\right)$",
            "text/plain": [
              "((-1 - sqrt(3)*I)**2, -1 - sqrt(3)*I)"
            ]
          },
          "metadata": {
            "tags": []
          }
        },
        {
          "output_type": "stream",
          "text": [
            "Достаточность:\n"
          ],
          "name": "stdout"
        },
        {
          "output_type": "display_data",
          "data": {
            "text/latex": "$\\displaystyle \\frac{3}{16}$",
            "text/plain": [
              "3/16"
            ]
          },
          "metadata": {
            "tags": []
          }
        },
        {
          "output_type": "display_data",
          "data": {
            "text/latex": "$\\displaystyle \\frac{-32 - \\left(-1 + \\sqrt{3} i\\right)^{4} + 32 \\sqrt{3} i}{\\left(-1 + \\sqrt{3} i\\right)^{8}}$",
            "text/plain": [
              "(-32 - (-1 + sqrt(3)*I)**4 + 32*sqrt(3)*I)/(-1 + sqrt(3)*I)**8"
            ]
          },
          "metadata": {
            "tags": []
          }
        },
        {
          "output_type": "display_data",
          "data": {
            "text/latex": "$\\displaystyle \\frac{-32 - 32 \\sqrt{3} i - \\left(-1 - \\sqrt{3} i\\right)^{4}}{\\left(-1 - \\sqrt{3} i\\right)^{8}}$",
            "text/plain": [
              "(-32 - 32*sqrt(3)*I - (-1 - sqrt(3)*I)**4)/(-1 - sqrt(3)*I)**8"
            ]
          },
          "metadata": {
            "tags": []
          }
        }
      ]
    },
    {
      "cell_type": "code",
      "metadata": {
        "colab": {
          "base_uri": "https://localhost:8080/",
          "height": 37
        },
        "id": "-K5NY0Myb9gr",
        "outputId": "fd6f1b03-309b-4f14-bea4-f620c32ff14a"
      },
      "source": [
        "z4 = (1 + x - y)/(sqrt(1 + x**2 + y**2))\n",
        "stat_points4 = nonlinsolve([z4.diff(x), z4.diff(y)], [x, y]) \n",
        "display(*stat_points4)"
      ],
      "execution_count": 13,
      "outputs": [
        {
          "output_type": "display_data",
          "data": {
            "text/latex": "$\\displaystyle \\left( 1, \\  -1\\right)$",
            "text/plain": [
              "(1, -1)"
            ]
          },
          "metadata": {
            "tags": []
          }
        }
      ]
    },
    {
      "cell_type": "markdown",
      "metadata": {
        "id": "IUFBy8NeaQpW"
      },
      "source": [
        "### Задание 2.\n",
        "С помощью метода Лагранжа найти условный экстремум функции\n",
        "$z = x + 2y$ при условии $x^2 + y^2 = 5$."
      ]
    },
    {
      "cell_type": "code",
      "metadata": {
        "colab": {
          "base_uri": "https://localhost:8080/",
          "height": 123
        },
        "id": "jD5cGW2_aQpW",
        "outputId": "3aeb187e-3400-4e8c-c810-cda1fb637e65"
      },
      "source": [
        "x, y, lam = symbols('x y lamda')# нужны символы без ограничений по знаку!\n",
        "varrs = [x, y, lam]\n",
        "z = x + 2*y\n",
        "restriction = x**2 + y**2 - 5\n",
        "L = z + lam*restriction\n",
        "stat_points = nonlinsolve([L.diff(var)for var in varrs], varrs)\n",
        "display(stat_points, *varrs)"
      ],
      "execution_count": 30,
      "outputs": [
        {
          "output_type": "display_data",
          "data": {
            "text/latex": "$\\displaystyle \\left\\{\\left( -1, \\  -2, \\  \\frac{1}{2}\\right), \\left( 1, \\  2, \\  - \\frac{1}{2}\\right)\\right\\}$",
            "text/plain": [
              "FiniteSet((-1, -2, 1/2), (1, 2, -1/2))"
            ]
          },
          "metadata": {
            "tags": []
          }
        },
        {
          "output_type": "display_data",
          "data": {
            "text/latex": "$\\displaystyle x$",
            "text/plain": [
              "x"
            ]
          },
          "metadata": {
            "tags": []
          }
        },
        {
          "output_type": "display_data",
          "data": {
            "text/latex": "$\\displaystyle y$",
            "text/plain": [
              "y"
            ]
          },
          "metadata": {
            "tags": []
          }
        },
        {
          "output_type": "display_data",
          "data": {
            "text/latex": "$\\displaystyle \\lambda$",
            "text/plain": [
              "lamda"
            ]
          },
          "metadata": {
            "tags": []
          }
        }
      ]
    },
    {
      "cell_type": "code",
      "metadata": {
        "colab": {
          "base_uri": "https://localhost:8080/",
          "height": 39
        },
        "id": "jcfgaK5ZfJ0L",
        "outputId": "004396c6-8b49-4888-d96d-0448d3ca2297"
      },
      "source": [
        "dx, dy, dx2, dy2 = symbols('dx dy dx^2 dy^2')\n",
        "d2L = L.diff(x,2)*dx2 + 2*L.diff(x,y)*dx*dy + L.diff(y,2)*dy2\n",
        "factor(d2L)"
      ],
      "execution_count": 31,
      "outputs": [
        {
          "output_type": "execute_result",
          "data": {
            "text/latex": "$\\displaystyle 2 \\lambda \\left(dx^{2} + dy^{2}\\right)$",
            "text/plain": [
              "2*lamda*(dx^2 + dy^2)"
            ]
          },
          "metadata": {
            "tags": []
          },
          "execution_count": 31
        }
      ]
    },
    {
      "cell_type": "code",
      "metadata": {
        "colab": {
          "base_uri": "https://localhost:8080/",
          "height": 100
        },
        "id": "XxG68ZZXfSk7",
        "outputId": "1f44af69-a913-4c71-a057-61652268e9ab"
      },
      "source": [
        "ff = Symbol('f')\n",
        "for point in stat_points:\n",
        " display(point[:-1], sympy.Eq(ff, z.subs({var: point[j] for j, var in enumerate(varrs)})))"
      ],
      "execution_count": 33,
      "outputs": [
        {
          "output_type": "display_data",
          "data": {
            "text/latex": "$\\displaystyle \\left( -1, \\  -2\\right)$",
            "text/plain": [
              "(-1, -2)"
            ]
          },
          "metadata": {
            "tags": []
          }
        },
        {
          "output_type": "display_data",
          "data": {
            "text/latex": "$\\displaystyle f = -5$",
            "text/plain": [
              "Eq(f, -5)"
            ]
          },
          "metadata": {
            "tags": []
          }
        },
        {
          "output_type": "display_data",
          "data": {
            "text/latex": "$\\displaystyle \\left( 1, \\  2\\right)$",
            "text/plain": [
              "(1, 2)"
            ]
          },
          "metadata": {
            "tags": []
          }
        },
        {
          "output_type": "display_data",
          "data": {
            "text/latex": "$\\displaystyle f = 5$",
            "text/plain": [
              "Eq(f, 5)"
            ]
          },
          "metadata": {
            "tags": []
          }
        }
      ]
    },
    {
      "cell_type": "markdown",
      "metadata": {
        "id": "SolkR6KiaQpW"
      },
      "source": [
        "### Задание 3.\n",
        "С помощью метода Лагранжа найти условный экстремум функции\n",
        "$z=x^2+y^2$ при условии $\\frac{x}{2}+\\frac{y}{3}=1$."
      ]
    },
    {
      "cell_type": "code",
      "metadata": {
        "colab": {
          "base_uri": "https://localhost:8080/",
          "height": 123
        },
        "id": "rbAC2dhOaQpX",
        "outputId": "7d960a4d-ac2a-4d5e-afb3-5b24d35cc261"
      },
      "source": [
        "x, y, lam = symbols('x y lamda')# нужны символы без ограничений по знаку!\n",
        "varrs = [x, y, lam]\n",
        "z = x**2 + y**2\n",
        "restriction = x/2 + y/3 - 1\n",
        "L = z + lam*restriction\n",
        "stat_points = nonlinsolve([L.diff(var)for var in varrs], varrs)\n",
        "display(stat_points, *varrs)"
      ],
      "execution_count": 34,
      "outputs": [
        {
          "output_type": "display_data",
          "data": {
            "text/latex": "$\\displaystyle \\left\\{\\left( \\frac{18}{13}, \\  \\frac{12}{13}, \\  - \\frac{72}{13}\\right)\\right\\}$",
            "text/plain": [
              "FiniteSet((18/13, 12/13, -72/13))"
            ]
          },
          "metadata": {
            "tags": []
          }
        },
        {
          "output_type": "display_data",
          "data": {
            "text/latex": "$\\displaystyle x$",
            "text/plain": [
              "x"
            ]
          },
          "metadata": {
            "tags": []
          }
        },
        {
          "output_type": "display_data",
          "data": {
            "text/latex": "$\\displaystyle y$",
            "text/plain": [
              "y"
            ]
          },
          "metadata": {
            "tags": []
          }
        },
        {
          "output_type": "display_data",
          "data": {
            "text/latex": "$\\displaystyle \\lambda$",
            "text/plain": [
              "lamda"
            ]
          },
          "metadata": {
            "tags": []
          }
        }
      ]
    },
    {
      "cell_type": "code",
      "metadata": {
        "colab": {
          "base_uri": "https://localhost:8080/",
          "height": 39
        },
        "id": "RNj9Az_YfjTT",
        "outputId": "431d9d4a-bbcb-4312-e70f-ec83a2add63d"
      },
      "source": [
        "dx, dy, dx2, dy2 = symbols('dx dy dx^2 dy^2')\n",
        "d2L = L.diff(x,2)*dx2 + 2*L.diff(x,y)*dx*dy + L.diff(y,2)*dy2\n",
        "factor(d2L)"
      ],
      "execution_count": 35,
      "outputs": [
        {
          "output_type": "execute_result",
          "data": {
            "text/latex": "$\\displaystyle 2 \\left(dx^{2} + dy^{2}\\right)$",
            "text/plain": [
              "2*(dx^2 + dy^2)"
            ]
          },
          "metadata": {
            "tags": []
          },
          "execution_count": 35
        }
      ]
    },
    {
      "cell_type": "code",
      "metadata": {
        "colab": {
          "base_uri": "https://localhost:8080/",
          "height": 92
        },
        "id": "_YnPz6Shfmun",
        "outputId": "313821f4-2e4b-4dd7-b7f3-4f07fe32f123"
      },
      "source": [
        "ff = Symbol('f')\n",
        "for point in stat_points:\n",
        " display(point[:-1], sympy.Eq(ff, z.subs({var: point[j] for j, var in enumerate(varrs)})))"
      ],
      "execution_count": 36,
      "outputs": [
        {
          "output_type": "display_data",
          "data": {
            "text/latex": "$\\displaystyle \\left( \\frac{18}{13}, \\  \\frac{12}{13}\\right)$",
            "text/plain": [
              "(18/13, 12/13)"
            ]
          },
          "metadata": {
            "tags": []
          }
        },
        {
          "output_type": "display_data",
          "data": {
            "text/latex": "$\\displaystyle f = \\frac{36}{13}$",
            "text/plain": [
              "Eq(f, 36/13)"
            ]
          },
          "metadata": {
            "tags": []
          }
        }
      ]
    },
    {
      "cell_type": "markdown",
      "metadata": {
        "id": "Icn1XvcoaQpX"
      },
      "source": [
        "### Задание 4.\n",
        "С помощью метода Лагранжа найти экстремум функции $u = x - 2y + 2z$ при условии $x^2 + y^2 + z^2 = 9$."
      ]
    },
    {
      "cell_type": "code",
      "metadata": {
        "colab": {
          "base_uri": "https://localhost:8080/",
          "height": 80
        },
        "id": "1jU1xHa2aQpX",
        "outputId": "d3e183a1-82d5-45a7-b0bc-6702b359888f"
      },
      "source": [
        "x, y, z, lam = symbols('x y z lamda')\n",
        "varrs = [x, y, z, lam]\n",
        "u = x - 2*y + 2*z\n",
        "restriction = x**2 + y**2 + z**2 - 9\n",
        "L = u + lam*restriction\n",
        "stat_points = nonlinsolve([L.diff(var)for var in varrs], varrs)\n",
        "display(stat_points)\n",
        "dx, dy, dz, dx2, dy2, dz2 = symbols('dx dy dz dx^2 dy^2 dz^2')\n",
        "d2L = 0\n",
        "diffs = {x: (dx, dx2), y: (dy, dy2), z: (dz, dz2)}\n",
        "for i, var in enumerate(varrs[:-1]):\n",
        " d2L += L.diff(var, 2)*diffs[var][1]\n",
        " for j in range(i + 1, 3):\n",
        "  d2L += 2*L.diff(var, varrs[j])*diffs[var][0]*diffs[varrs[j]][0]\n",
        "display(d2L)"
      ],
      "execution_count": 41,
      "outputs": [
        {
          "output_type": "display_data",
          "data": {
            "text/latex": "$\\displaystyle \\left\\{\\left( -1, \\  2, \\  -2, \\  \\frac{1}{2}\\right), \\left( 1, \\  -2, \\  2, \\  - \\frac{1}{2}\\right)\\right\\}$",
            "text/plain": [
              "FiniteSet((-1, 2, -2, 1/2), (1, -2, 2, -1/2))"
            ]
          },
          "metadata": {
            "tags": []
          }
        },
        {
          "output_type": "display_data",
          "data": {
            "text/latex": "$\\displaystyle 2 dx^{2} \\lambda + 2 dy^{2} \\lambda + 2 dz^{2} \\lambda$",
            "text/plain": [
              "2*dx^2*lamda + 2*dy^2*lamda + 2*dz^2*lamda"
            ]
          },
          "metadata": {
            "tags": []
          }
        }
      ]
    },
    {
      "cell_type": "code",
      "metadata": {
        "colab": {
          "base_uri": "https://localhost:8080/",
          "height": 82
        },
        "id": "F8DCJwS2gbYY",
        "outputId": "9770abf8-195b-44d2-a09a-e9642ca82a82"
      },
      "source": [
        "L2_points = [d2L.subs(lam, lval) for lval in (-4, -9, -25)]\n",
        "display(*L2_points)"
      ],
      "execution_count": 42,
      "outputs": [
        {
          "output_type": "display_data",
          "data": {
            "text/latex": "$\\displaystyle - 8 dx^{2} - 8 dy^{2} - 8 dz^{2}$",
            "text/plain": [
              "-8*dx^2 - 8*dy^2 - 8*dz^2"
            ]
          },
          "metadata": {
            "tags": []
          }
        },
        {
          "output_type": "display_data",
          "data": {
            "text/latex": "$\\displaystyle - 18 dx^{2} - 18 dy^{2} - 18 dz^{2}$",
            "text/plain": [
              "-18*dx^2 - 18*dy^2 - 18*dz^2"
            ]
          },
          "metadata": {
            "tags": []
          }
        },
        {
          "output_type": "display_data",
          "data": {
            "text/latex": "$\\displaystyle - 50 dx^{2} - 50 dy^{2} - 50 dz^{2}$",
            "text/plain": [
              "-50*dx^2 - 50*dy^2 - 50*dz^2"
            ]
          },
          "metadata": {
            "tags": []
          }
        }
      ]
    },
    {
      "cell_type": "code",
      "metadata": {
        "colab": {
          "base_uri": "https://localhost:8080/",
          "height": 100
        },
        "id": "HLig9G2xgd5C",
        "outputId": "0937aed9-bc49-49a6-f6bd-100add0e9b35"
      },
      "source": [
        "uu = Symbol('u')\n",
        "for point in stat_points:\n",
        " if point[-1] != -9:\n",
        "  display(point[:-1], sympy.Eq(uu, u.subs({var: point[j] for j, var in enumerate(varrs)})))"
      ],
      "execution_count": 44,
      "outputs": [
        {
          "output_type": "display_data",
          "data": {
            "text/latex": "$\\displaystyle \\left( -1, \\  2, \\  -2\\right)$",
            "text/plain": [
              "(-1, 2, -2)"
            ]
          },
          "metadata": {
            "tags": []
          }
        },
        {
          "output_type": "display_data",
          "data": {
            "text/latex": "$\\displaystyle u = -9$",
            "text/plain": [
              "Eq(u, -9)"
            ]
          },
          "metadata": {
            "tags": []
          }
        },
        {
          "output_type": "display_data",
          "data": {
            "text/latex": "$\\displaystyle \\left( 1, \\  -2, \\  2\\right)$",
            "text/plain": [
              "(1, -2, 2)"
            ]
          },
          "metadata": {
            "tags": []
          }
        },
        {
          "output_type": "display_data",
          "data": {
            "text/latex": "$\\displaystyle u = 9$",
            "text/plain": [
              "Eq(u, 9)"
            ]
          },
          "metadata": {
            "tags": []
          }
        }
      ]
    },
    {
      "cell_type": "markdown",
      "metadata": {
        "id": "Fh_3x-ooaQpX"
      },
      "source": [
        "### Индивидуальное задание\n",
        "### Varian 131\n",
        "\n",
        "Найти точки экстремума $f(x, y, z) = x^2 - xy + 5xz - 2x - 3y^2 - 5yz + 4z^2 - 2z$."
      ]
    },
    {
      "cell_type": "code",
      "metadata": {
        "colab": {
          "base_uri": "https://localhost:8080/",
          "height": 58
        },
        "id": "1whTIxsmaQpX",
        "outputId": "8202826e-90d8-43da-cf03-b97a39c4d405"
      },
      "source": [
        "x, y, z = symbols('x y z', positive=True)\n",
        "u = x**2 - x*y + 5*x*z - 2*x - 3*y**2 - 5*y*z + 4*z**2 - 2*z\n",
        "stat_points = nonlinsolve([u.diff(x), u.diff(y), u.diff(z)], [x, y, z]) \n",
        "display(*stat_points)"
      ],
      "execution_count": 54,
      "outputs": [
        {
          "output_type": "display_data",
          "data": {
            "text/latex": "$\\displaystyle \\left( - \\frac{38}{23}, \\  - \\frac{12}{23}, \\  \\frac{22}{23}\\right)$",
            "text/plain": [
              "(-38/23, -12/23, 22/23)"
            ]
          },
          "metadata": {
            "tags": []
          }
        }
      ]
    },
    {
      "cell_type": "code",
      "metadata": {
        "colab": {
          "base_uri": "https://localhost:8080/",
          "height": 76
        },
        "id": "rC6Sin50iyK9",
        "outputId": "801f92ac-211f-4820-e098-e4ffddf1f571"
      },
      "source": [
        "def Delta(u, x, y, z):\n",
        " return Matrix([[u.diff(x, 2), u.diff(x, y), u.diff(x, z)], \n",
        " [u.diff(y, x), u.diff(y, 2), u.diff(y, z)],\n",
        " [u.diff(z, x), u.diff(z, y), u.diff(z,2)],]).det()\n",
        "for point in stat_points:\n",
        " x0, y0, z0 = point\n",
        " if x0.is_real and y0.is_real and z0.is_real:\n",
        "  if Delta(u, x, y, z).subs({x: x0, y: y0, z: z0}) > 0:\n",
        "    A = u.diff(x, 2).subs({x: x0, y: y0, z: z0})\n",
        "    B = u.diff(y, 2).subs({x: x0, y: y0, z: z0})\n",
        "    C = u.diff(z, 2).subs({x: x0, y: y0, z: z0})\n",
        "    if A > 0 or B > 0 or C > 0:\n",
        "      display('minimum', point)\n",
        "    elif A < 0 or B < 0 or C < 0:\n",
        "      display('maximum', point)"
      ],
      "execution_count": 55,
      "outputs": [
        {
          "output_type": "display_data",
          "data": {
            "application/vnd.google.colaboratory.intrinsic+json": {
              "type": "string"
            },
            "text/plain": [
              "'minimum'"
            ]
          },
          "metadata": {
            "tags": []
          }
        },
        {
          "output_type": "display_data",
          "data": {
            "text/latex": "$\\displaystyle \\left( - \\frac{38}{23}, \\  - \\frac{12}{23}, \\  \\frac{22}{23}\\right)$",
            "text/plain": [
              "(-38/23, -12/23, 22/23)"
            ]
          },
          "metadata": {
            "tags": []
          }
        }
      ]
    },
    {
      "cell_type": "markdown",
      "metadata": {
        "id": "80sKZprvjB5j"
      },
      "source": [
        "Ответ: точка $(-\\frac{38}{23}, -\\frac{12}{23}, \\frac{22}{23})$ - точка минимума, минимальное значение функции"
      ]
    }
  ]
}