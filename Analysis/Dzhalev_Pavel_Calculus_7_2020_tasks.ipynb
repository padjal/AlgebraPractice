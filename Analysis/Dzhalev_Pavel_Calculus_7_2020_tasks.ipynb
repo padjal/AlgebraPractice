{
  "nbformat": 4,
  "nbformat_minor": 0,
  "metadata": {
    "kernelspec": {
      "display_name": "Python 3",
      "language": "python",
      "name": "python3"
    },
    "language_info": {
      "codemirror_mode": {
        "name": "ipython",
        "version": 3
      },
      "file_extension": ".py",
      "mimetype": "text/x-python",
      "name": "python",
      "nbconvert_exporter": "python",
      "pygments_lexer": "ipython3",
      "version": "3.7.3"
    },
    "colab": {
      "name": "Dzhalev_Pavel_Calculus_7_2020_tasks.ipynb",
      "provenance": []
    }
  },
  "cells": [
    {
      "cell_type": "markdown",
      "metadata": {
        "id": "2F71V9l4wgzX"
      },
      "source": [
        "## Занятие 7\n",
        "## Математический анализ\n",
        "## Исследование функции с sympy.calculus.util и sympy.calculus.singularities"
      ]
    },
    {
      "cell_type": "code",
      "metadata": {
        "colab": {
          "base_uri": "https://localhost:8080/"
        },
        "id": "-ano1hdnwuB9",
        "outputId": "4f8f9ddd-f4a4-478f-c9c7-8085c9d140cb"
      },
      "source": [
        "!python -m pip install sympy --upgrade \n",
        "!python -m pip install sympy --upgrade !python -m pip install -U matplotlib "
      ],
      "execution_count": null,
      "outputs": [
        {
          "output_type": "stream",
          "text": [
            "Requirement already up-to-date: sympy in /usr/local/lib/python3.7/dist-packages (1.7.1)\n",
            "Requirement already satisfied, skipping upgrade: mpmath>=0.19 in /usr/local/lib/python3.7/dist-packages (from sympy) (1.2.1)\n",
            "\n",
            "Usage:   \n",
            "  /usr/bin/python3 -m pip install [options] <requirement specifier> [package-index-options] ...\n",
            "  /usr/bin/python3 -m pip install [options] -r <requirements file> [package-index-options] ...\n",
            "  /usr/bin/python3 -m pip install [options] [-e] <vcs project url> ...\n",
            "  /usr/bin/python3 -m pip install [options] [-e] <local project path> ...\n",
            "  /usr/bin/python3 -m pip install [options] <archive url/path> ...\n",
            "\n",
            "no such option: -m\n"
          ],
          "name": "stdout"
        }
      ]
    },
    {
      "cell_type": "code",
      "metadata": {
        "id": "yLnK0-_TwgzZ"
      },
      "source": [
        "import sympy\n",
        "from sympy import S, Interval, plot, Symbol\n",
        "from sympy import sin as Sin\n",
        "from sympy import cos as Cos\n",
        "from sympy import exp as Exp\n",
        "from sympy import log as Log\n",
        "from sympy import pi as Pi\n",
        "from sympy.calculus.util import continuous_domain, function_range, periodicity, stationary_points, maximum, minimum, AccumBounds\n",
        "from sympy.calculus.singularities import singularities, is_increasing, is_decreasing, is_monotonic\n",
        "from sympy.calculus.singularities import is_strictly_increasing, is_strictly_decreasing\n",
        "%matplotlib inline"
      ],
      "execution_count": null,
      "outputs": []
    },
    {
      "cell_type": "markdown",
      "metadata": {
        "id": "s80K5Ut_wgza"
      },
      "source": [
        "## Схема анализа функции.\n",
        "1. Область определения\n",
        "\n",
        "sympy.calculus.util.continuous_domain(f, symbol, domain)\n",
        "\n",
        "f - выражение, описывающее функцию, \n",
        "\n",
        "symbol - переменная, от которой зависит исследуемая функция,\n",
        "\n",
        "domain - область значений переменной, на которой рассматривается функция,\n",
        "\n",
        "если функция рассматривается на всей вещественной прямой, то domain=S.Reals\n",
        "\n",
        "Сингулярные точки (точки, в которых функция не существует) находятся с помощью\n",
        "\n",
        "sympy.calculus.singularities.singularities(f, symbol, domain=None)\n",
        "\n",
        "2. Область значений\n",
        "\n",
        "sympy.calculus.util.function_range(f, symbol, domain)\n",
        "\n",
        "3. Периодичность\n",
        "\n",
        "sympy.calculus.util.periodicity(f, symbol, check=False)\n",
        "\n",
        "4. Стационарные точки \n",
        "\n",
        "sympy.calculus.util.stationary_points(f, symbol, domain=Reals)\n",
        "\n",
        "5. Точки экстремума\n",
        "\n",
        "sympy.calculus.util.maximum(f, symbol, domain=Reals)\n",
        "\n",
        "sympy.calculus.util.minimum(f, symbol, domain=Reals)\n",
        "\n",
        "6. Монотонность\n",
        "\n",
        "sympy.calculus.singularities.is_decreasing(f, interval=Reals, symbol=None)\n",
        "\n",
        "sympy.calculus.singularities.is_increasing(f, interval=Reals, symbol=None)\n",
        "\n",
        "sympy.calculus.singularities.is_monotonic(f, interval=Reals, symbol=None)\n",
        "\n",
        "sympy.calculus.singularities.is_strictly_decreasing(f, interval=Reals, symbol=None)\n",
        "\n",
        "sympy.calculus.singularities.is_strictly_increasing(f, interval=Reals, symbol=None)\n",
        "\n",
        "7. Минимальное и максимальное значение функции на интервале \n",
        "\n",
        "sympy.calculus.util.AccumulationBounds(min, max)\n",
        "\n",
        "Свойства: delta, max, min, mid\n",
        "\n",
        "### Задание 1.  \n",
        "Исследовать функцию по п.1 - 5 на области определения и по п. 1 - 7 на одном периоде, построить график.\n",
        "$$\n",
        "f(x) = e^{\\sin(x)}.\n",
        "$$\n",
        "###### 1. Область определения"
      ]
    },
    {
      "cell_type": "code",
      "metadata": {
        "colab": {
          "base_uri": "https://localhost:8080/",
          "height": 38
        },
        "id": "GiuY3W-jwgza",
        "outputId": "eb58c5e8-8832-49c1-c04a-24ca17f8c026"
      },
      "source": [
        "x = Symbol('x')\n",
        "f = Exp(Sin(x))\n",
        "domainf = S.Reals\n",
        "continuous_domain(f, x, domainf)"
      ],
      "execution_count": null,
      "outputs": [
        {
          "output_type": "execute_result",
          "data": {
            "text/latex": "$\\displaystyle \\mathbb{R}$",
            "text/plain": [
              "Reals"
            ]
          },
          "metadata": {
            "tags": []
          },
          "execution_count": 3
        }
      ]
    },
    {
      "cell_type": "markdown",
      "metadata": {
        "id": "vOPWF_31wgza"
      },
      "source": [
        "Сингулярные точки (точки, где функция не определена)"
      ]
    },
    {
      "cell_type": "code",
      "metadata": {
        "colab": {
          "base_uri": "https://localhost:8080/",
          "height": 37
        },
        "id": "NkmoF91vwgzb",
        "outputId": "3324b1ae-97f7-47df-b7dc-d8a6308b21f9"
      },
      "source": [
        "singularities(f, x, domainf)"
      ],
      "execution_count": null,
      "outputs": [
        {
          "output_type": "execute_result",
          "data": {
            "text/latex": "$\\displaystyle \\emptyset$",
            "text/plain": [
              "EmptySet"
            ]
          },
          "metadata": {
            "tags": []
          },
          "execution_count": 4
        }
      ]
    },
    {
      "cell_type": "markdown",
      "metadata": {
        "id": "R9x8BkKVwgzb"
      },
      "source": [
        "###### 2. Область значений"
      ]
    },
    {
      "cell_type": "code",
      "metadata": {
        "colab": {
          "base_uri": "https://localhost:8080/",
          "height": 39
        },
        "id": "UqSuepRFwgzb",
        "outputId": "44b7b103-a916-449f-9519-1347642b11ff"
      },
      "source": [
        "function_range(f, x, domainf)"
      ],
      "execution_count": null,
      "outputs": [
        {
          "output_type": "execute_result",
          "data": {
            "text/latex": "$\\displaystyle \\left[e^{-1}, e\\right]$",
            "text/plain": [
              "Interval(exp(-1), E)"
            ]
          },
          "metadata": {
            "tags": []
          },
          "execution_count": 5
        }
      ]
    },
    {
      "cell_type": "markdown",
      "metadata": {
        "id": "FCM65nEMwgzb"
      },
      "source": [
        "###### 3. Периодичность"
      ]
    },
    {
      "cell_type": "code",
      "metadata": {
        "colab": {
          "base_uri": "https://localhost:8080/",
          "height": 39
        },
        "id": "B0aJBcqLwgzb",
        "outputId": "de4323fb-7124-4565-dff3-62996ef9c63c"
      },
      "source": [
        "periodicity(f, x)"
      ],
      "execution_count": null,
      "outputs": [
        {
          "output_type": "execute_result",
          "data": {
            "text/latex": "$\\displaystyle 2 \\pi$",
            "text/plain": [
              "2*pi"
            ]
          },
          "metadata": {
            "tags": []
          },
          "execution_count": 6
        }
      ]
    },
    {
      "cell_type": "markdown",
      "metadata": {
        "id": "uTfxLC3uwgzb"
      },
      "source": [
        "###### 4. Стационарные точки"
      ]
    },
    {
      "cell_type": "code",
      "metadata": {
        "colab": {
          "base_uri": "https://localhost:8080/",
          "height": 57
        },
        "id": "PwxAcEWlwgzc",
        "outputId": "8aa0b6b6-b452-4ac7-9375-0cada77fc6fa"
      },
      "source": [
        "sp = stationary_points(f, x, domainf)\n",
        "sp"
      ],
      "execution_count": null,
      "outputs": [
        {
          "output_type": "execute_result",
          "data": {
            "text/latex": "$\\displaystyle \\left\\{2 n \\pi + \\frac{\\pi}{2}\\; |\\; n \\in \\mathbb{Z}\\right\\} \\cup \\left\\{2 n \\pi + \\frac{3 \\pi}{2}\\; |\\; n \\in \\mathbb{Z}\\right\\}$",
            "text/plain": [
              "Union(ImageSet(Lambda(_n, 2*_n*pi + pi/2), Integers), ImageSet(Lambda(_n, 2*_n*pi + 3*pi/2), Integers))"
            ]
          },
          "metadata": {
            "tags": []
          },
          "execution_count": 7
        }
      ]
    },
    {
      "cell_type": "markdown",
      "metadata": {
        "id": "Sj05BG8Cwgzc"
      },
      "source": [
        "###### 5. Максимальное и минимальное значения функции"
      ]
    },
    {
      "cell_type": "code",
      "metadata": {
        "colab": {
          "base_uri": "https://localhost:8080/",
          "height": 61
        },
        "id": "9NgE035zwgzc",
        "outputId": "bdc45231-11ed-4534-fb39-d2ba2fd722ad"
      },
      "source": [
        "display(minimum(f, x, domainf))\n",
        "display(maximum(f, x, domainf))"
      ],
      "execution_count": null,
      "outputs": [
        {
          "output_type": "display_data",
          "data": {
            "text/latex": "$\\displaystyle e^{-1}$",
            "text/plain": [
              "exp(-1)"
            ]
          },
          "metadata": {
            "tags": []
          }
        },
        {
          "output_type": "display_data",
          "data": {
            "text/latex": "$\\displaystyle e$",
            "text/plain": [
              "E"
            ]
          },
          "metadata": {
            "tags": []
          }
        }
      ]
    },
    {
      "cell_type": "markdown",
      "metadata": {
        "id": "4EQ7QgVpwgzc"
      },
      "source": [
        "##### Исследование периодической функции на одном периоде.\n",
        "Найти пересечение с периодом области определения, множества сингулярных точек и стационарных точек.\n",
        "###### 1. Область определения"
      ]
    },
    {
      "cell_type": "code",
      "metadata": {
        "id": "oPrW_hh8wgzc"
      },
      "source": [
        "period_pi = Interval(0, 2*Pi)"
      ],
      "execution_count": null,
      "outputs": []
    },
    {
      "cell_type": "markdown",
      "metadata": {
        "id": "ziGB902lwgzc"
      },
      "source": [
        "Сингулярные точки (точки, где функция не определена)"
      ]
    },
    {
      "cell_type": "code",
      "metadata": {
        "colab": {
          "base_uri": "https://localhost:8080/",
          "height": 37
        },
        "id": "UTai1n1gwgzc",
        "outputId": "cbdc42e4-b968-497b-8a34-d636111b5149"
      },
      "source": [
        "singularities(f, x, period_pi)"
      ],
      "execution_count": null,
      "outputs": [
        {
          "output_type": "execute_result",
          "data": {
            "text/latex": "$\\displaystyle \\emptyset$",
            "text/plain": [
              "EmptySet"
            ]
          },
          "metadata": {
            "tags": []
          },
          "execution_count": 10
        }
      ]
    },
    {
      "cell_type": "markdown",
      "metadata": {
        "id": "XYEaxDKdwgzc"
      },
      "source": [
        "###### 2. Область значений"
      ]
    },
    {
      "cell_type": "code",
      "metadata": {
        "colab": {
          "base_uri": "https://localhost:8080/",
          "height": 39
        },
        "id": "3j_4LLglwgzc",
        "outputId": "3e2dd543-2e46-41eb-f379-0798f05f7b36"
      },
      "source": [
        "function_range(f, x, period_pi)"
      ],
      "execution_count": null,
      "outputs": [
        {
          "output_type": "execute_result",
          "data": {
            "text/latex": "$\\displaystyle \\left[e^{-1}, e\\right]$",
            "text/plain": [
              "Interval(exp(-1), E)"
            ]
          },
          "metadata": {
            "tags": []
          },
          "execution_count": 11
        }
      ]
    },
    {
      "cell_type": "markdown",
      "metadata": {
        "id": "SLg4Rdqdwgzd"
      },
      "source": [
        "###### 4. Стационарные точки "
      ]
    },
    {
      "cell_type": "code",
      "metadata": {
        "colab": {
          "base_uri": "https://localhost:8080/",
          "height": 57
        },
        "id": "OT23WQJUwgzd",
        "outputId": "902adb24-fc40-4469-f282-6324a9c01387"
      },
      "source": [
        "stationary_points(f, x, period_pi)"
      ],
      "execution_count": null,
      "outputs": [
        {
          "output_type": "execute_result",
          "data": {
            "text/latex": "$\\displaystyle \\left\\{\\frac{\\pi}{2}, \\frac{3 \\pi}{2}\\right\\}$",
            "text/plain": [
              "FiniteSet(pi/2, 3*pi/2)"
            ]
          },
          "metadata": {
            "tags": []
          },
          "execution_count": 12
        }
      ]
    },
    {
      "cell_type": "markdown",
      "metadata": {
        "id": "5EU0JtHgwgzd"
      },
      "source": [
        "###### 5. Максимальное и минимальное значения функции"
      ]
    },
    {
      "cell_type": "code",
      "metadata": {
        "colab": {
          "base_uri": "https://localhost:8080/",
          "height": 61
        },
        "id": "6zQGzktFwgzd",
        "outputId": "75583b43-76ba-4757-d346-6b574570da4f"
      },
      "source": [
        "display(minimum(f, x, period_pi))\n",
        "display(maximum(f, x, period_pi))"
      ],
      "execution_count": null,
      "outputs": [
        {
          "output_type": "display_data",
          "data": {
            "text/latex": "$\\displaystyle e^{-1}$",
            "text/plain": [
              "exp(-1)"
            ]
          },
          "metadata": {
            "tags": []
          }
        },
        {
          "output_type": "display_data",
          "data": {
            "text/latex": "$\\displaystyle e$",
            "text/plain": [
              "E"
            ]
          },
          "metadata": {
            "tags": []
          }
        }
      ]
    },
    {
      "cell_type": "markdown",
      "metadata": {
        "id": "1SQ_gwBawgzd"
      },
      "source": [
        "###### 6. Монотонность\n",
        "Исследовать на периоде открытые интервалы (Interval.open), на которые период разбивают стационарные точки."
      ]
    },
    {
      "cell_type": "code",
      "metadata": {
        "colab": {
          "base_uri": "https://localhost:8080/",
          "height": 35
        },
        "id": "ni55tgn7wgzd",
        "outputId": "aa9762ec-e4aa-4acd-d3ba-bca0c4409782"
      },
      "source": [
        "#int1 = Interval.Open()\n",
        "display(is_monotonic(f, period_pi))"
      ],
      "execution_count": null,
      "outputs": [
        {
          "output_type": "display_data",
          "data": {
            "text/plain": [
              "False"
            ]
          },
          "metadata": {
            "tags": []
          }
        }
      ]
    },
    {
      "cell_type": "markdown",
      "metadata": {
        "id": "D9RsvNkrwgzd"
      },
      "source": [
        "###### 7. Минимальное и максимальное значение функции на интервале \n",
        "Найти максимальное и минимальное значение функции на каждом из интервалов монотонности в пределах одного периода"
      ]
    },
    {
      "cell_type": "code",
      "metadata": {
        "colab": {
          "base_uri": "https://localhost:8080/",
          "height": 61
        },
        "id": "kAa9pJEywgzd",
        "outputId": "31f0be6c-a3b5-4569-c260-c0c8ae31fb91"
      },
      "source": [
        "display(minimum(f, x, period_pi))\n",
        "display(maximum(f, x, period_pi))"
      ],
      "execution_count": null,
      "outputs": [
        {
          "output_type": "display_data",
          "data": {
            "text/latex": "$\\displaystyle e^{-1}$",
            "text/plain": [
              "exp(-1)"
            ]
          },
          "metadata": {
            "tags": []
          }
        },
        {
          "output_type": "display_data",
          "data": {
            "text/latex": "$\\displaystyle e$",
            "text/plain": [
              "E"
            ]
          },
          "metadata": {
            "tags": []
          }
        }
      ]
    },
    {
      "cell_type": "markdown",
      "metadata": {
        "id": "pExOgMERwgzd"
      },
      "source": [
        "###### График функции на одном периоде."
      ]
    },
    {
      "cell_type": "code",
      "metadata": {
        "colab": {
          "base_uri": "https://localhost:8080/",
          "height": 593
        },
        "id": "-oZ8HolLwgzd",
        "outputId": "b5c55d17-2b76-4fe7-bd4c-5f3e6944e5c8"
      },
      "source": [
        "plot(f, 0, 2*Pi)\n",
        "\n",
        "plot(f)"
      ],
      "execution_count": null,
      "outputs": [
        {
          "output_type": "display_data",
          "data": {
            "image/png": "[encoded data removed]",
            "text/plain": [
              "<Figure size 432x288 with 1 Axes>"
            ]
          },
          "metadata": {
            "tags": [],
            "needs_background": "light"
          }
        },
        {
          "output_type": "display_data",
          "data": {
            "image/png": "[encoded data removed]",
            "text/plain": [
              "<Figure size 432x288 with 1 Axes>"
            ]
          },
          "metadata": {
            "tags": [],
            "needs_background": "light"
          }
        },
        {
          "output_type": "execute_result",
          "data": {
            "text/plain": [
              "<sympy.plotting.plot.Plot at 0x7fb73c2acfd0>"
            ]
          },
          "metadata": {
            "tags": []
          },
          "execution_count": 16
        }
      ]
    },
    {
      "cell_type": "code",
      "metadata": {
        "id": "UbvFuvZYZYvf"
      },
      "source": [
        ""
      ],
      "execution_count": null,
      "outputs": []
    },
    {
      "cell_type": "markdown",
      "metadata": {
        "id": "YFv7Iiz-wgze"
      },
      "source": [
        "### Задание 2.  \n",
        "Исследовать функцию по п.1 - 5 на области определения и по п. 1 - 7  на одном периоде, построить график.\n",
        "$$\n",
        "f(x) = \\frac{1}{\\sin(x) + \\cos(x)}.\n",
        "$$\n",
        "###### 1. Область определения"
      ]
    },
    {
      "cell_type": "code",
      "metadata": {
        "id": "5KngJFhzwgze",
        "colab": {
          "base_uri": "https://localhost:8080/"
        },
        "outputId": "7867f680-4e44-42a7-dd16-42a1ddabf8eb"
      },
      "source": [
        "#Хочу исключить 3pi/4 и 7pi/4 из S.Reals, потому что там функция не определена\n",
        "f2 = 1/(Sin(x) + Cos(x))\n",
        "dom =  continuous_domain(f2, x, S.Reals)\n",
        "display(dom)"
      ],
      "execution_count": null,
      "outputs": [
        {
          "output_type": "display_data",
          "data": {
            "text/latex": "$\\displaystyle \\mathbb{R} \\setminus \\left(\\left\\{2 n \\pi + \\frac{3 \\pi}{4}\\; |\\; n \\in \\mathbb{Z}\\right\\} \\cup \\left\\{2 n \\pi + \\frac{7 \\pi}{4}\\; |\\; n \\in \\mathbb{Z}\\right\\}\\right)$",
            "text/plain": [
              "Complement(Reals, Union(ImageSet(Lambda(_n, 2*_n*pi + 3*pi/4), Integers), ImageSet(Lambda(_n, 2*_n*pi + 7*pi/4), Integers)))"
            ]
          },
          "metadata": {
            "tags": []
          }
        }
      ]
    },
    {
      "cell_type": "markdown",
      "metadata": {
        "id": "RnwCjCpMwgze"
      },
      "source": [
        "Сингулярные точки (точки, где функция не определена)"
      ]
    },
    {
      "cell_type": "code",
      "metadata": {
        "colab": {
          "base_uri": "https://localhost:8080/"
        },
        "id": "RBdj9gqswgze",
        "outputId": "d5180537-fcce-4e86-a52f-ad5911cea42b"
      },
      "source": [
        "singularities(f2, x)"
      ],
      "execution_count": null,
      "outputs": [
        {
          "output_type": "execute_result",
          "data": {
            "text/latex": "$\\displaystyle \\left\\{2 n \\pi + \\frac{3 \\pi}{4}\\; |\\; n \\in \\mathbb{Z}\\right\\} \\cup \\left\\{2 n \\pi + \\frac{7 \\pi}{4}\\; |\\; n \\in \\mathbb{Z}\\right\\}$",
            "text/plain": [
              "Union(ImageSet(Lambda(_n, 2*_n*pi + 3*pi/4), Integers), ImageSet(Lambda(_n, 2*_n*pi + 7*pi/4), Integers))"
            ]
          },
          "metadata": {
            "tags": []
          },
          "execution_count": 18
        }
      ]
    },
    {
      "cell_type": "markdown",
      "metadata": {
        "id": "s1ZvxESOwgze"
      },
      "source": [
        "###### 2. Область значений"
      ]
    },
    {
      "cell_type": "code",
      "metadata": {
        "colab": {
          "base_uri": "https://localhost:8080/"
        },
        "id": "SRzJOi8fwgze",
        "outputId": "be5b1c54-cd34-43d4-9a8e-b8f548c22e7b"
      },
      "source": [
        "function_range(f2, x, S.Reals)"
      ],
      "execution_count": null,
      "outputs": [
        {
          "output_type": "execute_result",
          "data": {
            "text/latex": "$\\displaystyle \\left(-\\infty, - \\frac{\\sqrt{2}}{2}\\right] \\cup \\left[\\frac{\\sqrt{2}}{2}, \\infty\\right)$",
            "text/plain": [
              "Union(Interval(-oo, -sqrt(2)/2), Interval(sqrt(2)/2, oo))"
            ]
          },
          "metadata": {
            "tags": []
          },
          "execution_count": 19
        }
      ]
    },
    {
      "cell_type": "markdown",
      "metadata": {
        "id": "equcWOSLwgzf"
      },
      "source": [
        "###### 3. Периодичность"
      ]
    },
    {
      "cell_type": "code",
      "metadata": {
        "colab": {
          "base_uri": "https://localhost:8080/"
        },
        "id": "UcH3Hqgwwgzf",
        "outputId": "65ba4d29-ff68-4c76-c8f7-8a48e2b60a94"
      },
      "source": [
        "periodicity(f2, x)"
      ],
      "execution_count": null,
      "outputs": [
        {
          "output_type": "execute_result",
          "data": {
            "text/latex": "$\\displaystyle 2 \\pi$",
            "text/plain": [
              "2*pi"
            ]
          },
          "metadata": {
            "tags": []
          },
          "execution_count": 20
        }
      ]
    },
    {
      "cell_type": "markdown",
      "metadata": {
        "id": "oFZIJdQuwgzf"
      },
      "source": [
        "###### 4. Стационарные точки"
      ]
    },
    {
      "cell_type": "code",
      "metadata": {
        "colab": {
          "base_uri": "https://localhost:8080/"
        },
        "id": "TJ2DG2Fiwgzf",
        "outputId": "37914c36-5637-4853-911b-91acc0ffe25c"
      },
      "source": [
        "stationary_points(f2, x, dom)"
      ],
      "execution_count": null,
      "outputs": [
        {
          "output_type": "execute_result",
          "data": {
            "text/latex": "$\\displaystyle \\left(\\left\\{2 n \\pi + \\frac{5 \\pi}{4}\\; |\\; n \\in \\mathbb{Z}\\right\\} \\setminus \\left(\\left\\{2 n \\pi + \\frac{3 \\pi}{4}\\; |\\; n \\in \\mathbb{Z}\\right\\} \\cup \\left\\{2 n \\pi + \\frac{7 \\pi}{4}\\; |\\; n \\in \\mathbb{Z}\\right\\}\\right)\\right) \\cup \\left(\\left\\{2 n \\pi + \\frac{\\pi}{4}\\; |\\; n \\in \\mathbb{Z}\\right\\} \\setminus \\left(\\left\\{2 n \\pi + \\frac{3 \\pi}{4}\\; |\\; n \\in \\mathbb{Z}\\right\\} \\cup \\left\\{2 n \\pi + \\frac{7 \\pi}{4}\\; |\\; n \\in \\mathbb{Z}\\right\\}\\right)\\right)$",
            "text/plain": [
              "Union(Complement(ImageSet(Lambda(_n, 2*_n*pi + 5*pi/4), Integers), Union(ImageSet(Lambda(_n, 2*_n*pi + 3*pi/4), Integers), ImageSet(Lambda(_n, 2*_n*pi + 7*pi/4), Integers))), Complement(ImageSet(Lambda(_n, 2*_n*pi + pi/4), Integers), Union(ImageSet(Lambda(_n, 2*_n*pi + 3*pi/4), Integers), ImageSet(Lambda(_n, 2*_n*pi + 7*pi/4), Integers))))"
            ]
          },
          "metadata": {
            "tags": []
          },
          "execution_count": 21
        }
      ]
    },
    {
      "cell_type": "markdown",
      "metadata": {
        "id": "QqKgVcLjwgzf"
      },
      "source": [
        "###### 5. Максимальное и минимальное значения функции"
      ]
    },
    {
      "cell_type": "code",
      "metadata": {
        "colab": {
          "base_uri": "https://localhost:8080/"
        },
        "id": "mY41acORwgzf",
        "outputId": "e490da00-374a-4a71-e1a9-129d7a190d44"
      },
      "source": [
        "display(minimum(f2, x, S.Reals))\n",
        "display(maximum(f2, x))"
      ],
      "execution_count": null,
      "outputs": [
        {
          "output_type": "display_data",
          "data": {
            "text/latex": "$\\displaystyle -\\infty$",
            "text/plain": [
              "-oo"
            ]
          },
          "metadata": {
            "tags": []
          }
        },
        {
          "output_type": "display_data",
          "data": {
            "text/latex": "$\\displaystyle \\infty$",
            "text/plain": [
              "oo"
            ]
          },
          "metadata": {
            "tags": []
          }
        }
      ]
    },
    {
      "cell_type": "markdown",
      "metadata": {
        "id": "Fjw68Ocswgzf"
      },
      "source": [
        "##### Исследование периодической функции на одном периоде.\n",
        "Найти пересечение с периодом области определения, множества сингулярных точек и стационарных точек.\n",
        "###### 1. Область определения"
      ]
    },
    {
      "cell_type": "code",
      "metadata": {
        "id": "gUQ-9LZYwgzf"
      },
      "source": [
        "#Период тоже самый"
      ],
      "execution_count": null,
      "outputs": []
    },
    {
      "cell_type": "markdown",
      "metadata": {
        "id": "iCljJyDZwgzf"
      },
      "source": [
        "Сингулярные точки (точки, где функция не определена)"
      ]
    },
    {
      "cell_type": "code",
      "metadata": {
        "colab": {
          "base_uri": "https://localhost:8080/"
        },
        "id": "UwWIwYl7wgzg",
        "outputId": "0848e62c-99dd-4d2c-baab-c9ceb7206d18"
      },
      "source": [
        "singularities(f2, x, period_pi)"
      ],
      "execution_count": null,
      "outputs": [
        {
          "output_type": "execute_result",
          "data": {
            "text/latex": "$\\displaystyle \\left\\{\\frac{3 \\pi}{4}, \\frac{7 \\pi}{4}\\right\\}$",
            "text/plain": [
              "FiniteSet(3*pi/4, 7*pi/4)"
            ]
          },
          "metadata": {
            "tags": []
          },
          "execution_count": 24
        }
      ]
    },
    {
      "cell_type": "markdown",
      "metadata": {
        "id": "eT8eu2P8wgzg"
      },
      "source": [
        "###### 2. Область значений"
      ]
    },
    {
      "cell_type": "code",
      "metadata": {
        "colab": {
          "base_uri": "https://localhost:8080/"
        },
        "id": "28EgF6Qdwgzg",
        "outputId": "6a6a100e-73c4-4e27-b602-24fc378985f9"
      },
      "source": [
        "function_range(f2, x, period_pi)"
      ],
      "execution_count": null,
      "outputs": [
        {
          "output_type": "execute_result",
          "data": {
            "text/latex": "$\\displaystyle \\left(-\\infty, - \\frac{\\sqrt{2}}{2}\\right] \\cup \\left[\\frac{\\sqrt{2}}{2}, \\infty\\right)$",
            "text/plain": [
              "Union(Interval(-oo, -sqrt(2)/2), Interval(sqrt(2)/2, oo))"
            ]
          },
          "metadata": {
            "tags": []
          },
          "execution_count": 25
        }
      ]
    },
    {
      "cell_type": "markdown",
      "metadata": {
        "id": "wLxhW-VWwgzg"
      },
      "source": [
        "###### 4. Стационарные точки"
      ]
    },
    {
      "cell_type": "code",
      "metadata": {
        "colab": {
          "base_uri": "https://localhost:8080/"
        },
        "id": "ii-PbzsUwgzg",
        "outputId": "16e6219f-6869-4c60-8d8c-3e57bf37b0f0"
      },
      "source": [
        "stationary_points(f2, x, period_pi)"
      ],
      "execution_count": null,
      "outputs": [
        {
          "output_type": "execute_result",
          "data": {
            "text/latex": "$\\displaystyle \\left\\{\\frac{\\pi}{4}, \\frac{5 \\pi}{4}\\right\\}$",
            "text/plain": [
              "FiniteSet(pi/4, 5*pi/4)"
            ]
          },
          "metadata": {
            "tags": []
          },
          "execution_count": 26
        }
      ]
    },
    {
      "cell_type": "markdown",
      "metadata": {
        "id": "8bYnOuiYwgzg"
      },
      "source": [
        "###### 5. Максимальное и минимальное значения функции"
      ]
    },
    {
      "cell_type": "code",
      "metadata": {
        "colab": {
          "base_uri": "https://localhost:8080/"
        },
        "id": "dYKX26yNwgzg",
        "outputId": "24ea8a91-87dc-42bd-e542-5f664157117d"
      },
      "source": [
        "display(minimum(f2, x))\n",
        "display(maximum(f2, x))"
      ],
      "execution_count": null,
      "outputs": [
        {
          "output_type": "display_data",
          "data": {
            "text/latex": "$\\displaystyle -\\infty$",
            "text/plain": [
              "-oo"
            ]
          },
          "metadata": {
            "tags": []
          }
        },
        {
          "output_type": "display_data",
          "data": {
            "text/latex": "$\\displaystyle \\infty$",
            "text/plain": [
              "oo"
            ]
          },
          "metadata": {
            "tags": []
          }
        }
      ]
    },
    {
      "cell_type": "markdown",
      "metadata": {
        "id": "2lAkR6jawgzg"
      },
      "source": [
        "###### 6. Монотонность"
      ]
    },
    {
      "cell_type": "code",
      "metadata": {
        "colab": {
          "base_uri": "https://localhost:8080/"
        },
        "id": "ecvNmhbIwgzg",
        "outputId": "682f3334-1c00-4e88-e502-8367eadd01d4"
      },
      "source": [
        "is_monotonic(f2, period_pi)"
      ],
      "execution_count": null,
      "outputs": [
        {
          "output_type": "execute_result",
          "data": {
            "text/plain": [
              "False"
            ]
          },
          "metadata": {
            "tags": []
          },
          "execution_count": 28
        }
      ]
    },
    {
      "cell_type": "markdown",
      "metadata": {
        "id": "R_l4hv-Ewgzh"
      },
      "source": [
        "###### 7. Минимальное и максимальное значение функции на периоде"
      ]
    },
    {
      "cell_type": "code",
      "metadata": {
        "colab": {
          "base_uri": "https://localhost:8080/"
        },
        "id": "8-ZJL7bUwgzh",
        "outputId": "af9e665e-f2aa-47ce-cfb2-854193f7c47a"
      },
      "source": [
        "display(minimum(f2, x, period_pi))\n",
        "display(maximum(f2, x, period_pi))"
      ],
      "execution_count": null,
      "outputs": [
        {
          "output_type": "display_data",
          "data": {
            "text/latex": "$\\displaystyle -\\infty$",
            "text/plain": [
              "-oo"
            ]
          },
          "metadata": {
            "tags": []
          }
        },
        {
          "output_type": "display_data",
          "data": {
            "text/latex": "$\\displaystyle \\infty$",
            "text/plain": [
              "oo"
            ]
          },
          "metadata": {
            "tags": []
          }
        }
      ]
    },
    {
      "cell_type": "markdown",
      "metadata": {
        "id": "d2GWRpWpwgzh"
      },
      "source": [
        "###### График"
      ]
    },
    {
      "cell_type": "code",
      "metadata": {
        "colab": {
          "base_uri": "https://localhost:8080/"
        },
        "id": "bZVGov94wgzh",
        "outputId": "afc376cd-30a0-4707-ee31-4b10593f6d03"
      },
      "source": [
        "plot(f2, -10, 3*Pi/4)"
      ],
      "execution_count": null,
      "outputs": [
        {
          "output_type": "display_data",
          "data": {
            "image/png": "[encoded data removed]",
            "text/plain": [
              "<Figure size 432x288 with 1 Axes>"
            ]
          },
          "metadata": {
            "tags": [],
            "needs_background": "light"
          }
        },
        {
          "output_type": "execute_result",
          "data": {
            "text/plain": [
              "<sympy.plotting.plot.Plot at 0x7fb73bcd86d0>"
            ]
          },
          "metadata": {
            "tags": []
          },
          "execution_count": 30
        }
      ]
    },
    {
      "cell_type": "code",
      "metadata": {
        "id": "lblKx0gbawEZ"
      },
      "source": [
        ""
      ],
      "execution_count": null,
      "outputs": []
    },
    {
      "cell_type": "markdown",
      "metadata": {
        "id": "lOLPmxLuwgzh"
      },
      "source": [
        "### Индивидуальное задание.  \n",
        "Исследовать функцию $f(x)$, найти минимальное и максимальное значение на каком-нибудь конечном интервале, не содержащем точек разрыва, построить график.\n",
        "\n",
        "### Вариант 131\n",
        "\n",
        "$f(x) = 2 x^{2} \\sqrt{1 - x^{2}}$\n",
        "\n",
        "###### 1. Область определения"
      ]
    },
    {
      "cell_type": "code",
      "metadata": {
        "id": "fquGSFYDwgzh",
        "colab": {
          "base_uri": "https://localhost:8080/"
        },
        "outputId": "6c10a4ef-ec0f-4a49-ae41-39fbea8cd774"
      },
      "source": [
        "f = 2*x**2*sympy.sqrt(1-x**2)\n",
        "domain = continuous_domain(f, x, S.Reals)\n",
        "display(domain)"
      ],
      "execution_count": null,
      "outputs": [
        {
          "output_type": "display_data",
          "data": {
            "text/latex": "$\\displaystyle \\left[-1, 1\\right]$",
            "text/plain": [
              "Interval(-1, 1)"
            ]
          },
          "metadata": {
            "tags": []
          }
        }
      ]
    },
    {
      "cell_type": "markdown",
      "metadata": {
        "id": "rWTFLoxFwgzh"
      },
      "source": [
        "Сингулярные точки (точки, где функция не определена)"
      ]
    },
    {
      "cell_type": "code",
      "metadata": {
        "id": "cechCuHWwgzh",
        "colab": {
          "base_uri": "https://localhost:8080/"
        },
        "outputId": "0c3a8a7a-9674-447f-ad69-1fa043ddab03"
      },
      "source": [
        "singularities = singularities(f, x)\n",
        "display(singularities)"
      ],
      "execution_count": null,
      "outputs": [
        {
          "output_type": "display_data",
          "data": {
            "text/latex": "$\\displaystyle \\emptyset$",
            "text/plain": [
              "EmptySet"
            ]
          },
          "metadata": {
            "tags": []
          }
        }
      ]
    },
    {
      "cell_type": "markdown",
      "metadata": {
        "id": "-CwSQrmbwgzh"
      },
      "source": [
        "###### 2. Область значений"
      ]
    },
    {
      "cell_type": "code",
      "metadata": {
        "id": "zQtTWMXrwgzi",
        "colab": {
          "base_uri": "https://localhost:8080/"
        },
        "outputId": "1a9ba455-f4c2-48bd-b7cb-fb0d1cd760c5"
      },
      "source": [
        "range = function_range(f, x, S.Reals)\n",
        "display(range)"
      ],
      "execution_count": null,
      "outputs": [
        {
          "output_type": "display_data",
          "data": {
            "text/latex": "$\\displaystyle \\left[0, \\frac{4 \\sqrt{3}}{9}\\right]$",
            "text/plain": [
              "Interval(0, 4*sqrt(3)/9)"
            ]
          },
          "metadata": {
            "tags": []
          }
        }
      ]
    },
    {
      "cell_type": "markdown",
      "metadata": {
        "id": "eRUamEgiwgzi"
      },
      "source": [
        "###### 3. Периодичность"
      ]
    },
    {
      "cell_type": "code",
      "metadata": {
        "id": "qSsAXmMSwgzi",
        "colab": {
          "base_uri": "https://localhost:8080/"
        },
        "outputId": "b9207ac0-52d9-4933-cab2-accf578cbc12"
      },
      "source": [
        "display(periodicity(f, x, check=False))"
      ],
      "execution_count": null,
      "outputs": [
        {
          "output_type": "display_data",
          "data": {
            "text/plain": [
              "None"
            ]
          },
          "metadata": {
            "tags": []
          }
        }
      ]
    },
    {
      "cell_type": "markdown",
      "metadata": {
        "id": "vIDkDRRswgzi"
      },
      "source": [
        "###### 4. Стационарные точки"
      ]
    },
    {
      "cell_type": "code",
      "metadata": {
        "id": "8jsBq3jAwgzi",
        "colab": {
          "base_uri": "https://localhost:8080/"
        },
        "outputId": "6ec49c48-10cc-42da-de68-6d85e92e1c4d"
      },
      "source": [
        "display(stationary_points(f, x))"
      ],
      "execution_count": null,
      "outputs": [
        {
          "output_type": "display_data",
          "data": {
            "text/latex": "$\\displaystyle \\left\\{0, - \\frac{\\sqrt{6}}{3}, \\frac{\\sqrt{6}}{3}\\right\\}$",
            "text/plain": [
              "FiniteSet(0, -sqrt(6)/3, sqrt(6)/3)"
            ]
          },
          "metadata": {
            "tags": []
          }
        }
      ]
    },
    {
      "cell_type": "markdown",
      "metadata": {
        "id": "o1mgmDL8wgzi"
      },
      "source": [
        "###### 5. Максимальное и минимальное значения функции"
      ]
    },
    {
      "cell_type": "code",
      "metadata": {
        "id": "T0pnHPL1wgzi",
        "colab": {
          "base_uri": "https://localhost:8080/"
        },
        "outputId": "7a9a03f8-8294-4c44-df03-14a8b1fb535d"
      },
      "source": [
        "display(maximum(f, x), minimum(f, x))"
      ],
      "execution_count": null,
      "outputs": [
        {
          "output_type": "display_data",
          "data": {
            "text/latex": "$\\displaystyle \\frac{4 \\sqrt{3}}{9}$",
            "text/plain": [
              "4*sqrt(3)/9"
            ]
          },
          "metadata": {
            "tags": []
          }
        },
        {
          "output_type": "display_data",
          "data": {
            "text/latex": "$\\displaystyle 0$",
            "text/plain": [
              "0"
            ]
          },
          "metadata": {
            "tags": []
          }
        }
      ]
    },
    {
      "cell_type": "markdown",
      "metadata": {
        "id": "_WjPgZITwgzi"
      },
      "source": [
        "###### 6. Монотонность  "
      ]
    },
    {
      "cell_type": "code",
      "metadata": {
        "id": "Kj7YzHOxwgzi",
        "colab": {
          "base_uri": "https://localhost:8080/"
        },
        "outputId": "04a19ce2-5b51-4245-bdf0-37ac2be549a1"
      },
      "source": [
        "display(is_decreasing(f),\n",
        "is_increasing(f),\n",
        "is_monotonic(f),\n",
        "is_strictly_decreasing(f),\n",
        "is_strictly_increasing(f))"
      ],
      "execution_count": null,
      "outputs": [
        {
          "output_type": "display_data",
          "data": {
            "text/plain": [
              "False"
            ]
          },
          "metadata": {
            "tags": []
          }
        },
        {
          "output_type": "display_data",
          "data": {
            "text/plain": [
              "False"
            ]
          },
          "metadata": {
            "tags": []
          }
        },
        {
          "output_type": "display_data",
          "data": {
            "text/plain": [
              "False"
            ]
          },
          "metadata": {
            "tags": []
          }
        },
        {
          "output_type": "display_data",
          "data": {
            "text/plain": [
              "False"
            ]
          },
          "metadata": {
            "tags": []
          }
        },
        {
          "output_type": "display_data",
          "data": {
            "text/plain": [
              "False"
            ]
          },
          "metadata": {
            "tags": []
          }
        }
      ]
    },
    {
      "cell_type": "markdown",
      "metadata": {
        "id": "Ac10o9Xgwgzj"
      },
      "source": [
        "###### 7. Минимальное и максимальное значение функции на интервале "
      ]
    },
    {
      "cell_type": "code",
      "metadata": {
        "id": "JFiA_csHwgzj",
        "colab": {
          "base_uri": "https://localhost:8080/"
        },
        "outputId": "794d0957-235f-441a-9def-e0cfdcf8a8c5"
      },
      "source": [
        "display(maximum(f, x), minimum(f, x))"
      ],
      "execution_count": null,
      "outputs": [
        {
          "output_type": "display_data",
          "data": {
            "text/latex": "$\\displaystyle \\frac{4 \\sqrt{3}}{9}$",
            "text/plain": [
              "4*sqrt(3)/9"
            ]
          },
          "metadata": {
            "tags": []
          }
        },
        {
          "output_type": "display_data",
          "data": {
            "text/latex": "$\\displaystyle 0$",
            "text/plain": [
              "0"
            ]
          },
          "metadata": {
            "tags": []
          }
        }
      ]
    },
    {
      "cell_type": "markdown",
      "metadata": {
        "id": "_NvDqHoHwgzj"
      },
      "source": [
        "###### График"
      ]
    },
    {
      "cell_type": "code",
      "metadata": {
        "id": "YAW0h892wgzj",
        "colab": {
          "base_uri": "https://localhost:8080/"
        },
        "outputId": "18907934-cb7e-429b-f7f4-d3dc6c9c49d0"
      },
      "source": [
        "plot(f, -1, 1)"
      ],
      "execution_count": null,
      "outputs": [
        {
          "output_type": "display_data",
          "data": {
            "image/png": "[encoded data removed]",
            "text/plain": [
              "<Figure size 432x288 with 1 Axes>"
            ]
          },
          "metadata": {
            "tags": [],
            "needs_background": "light"
          }
        },
        {
          "output_type": "execute_result",
          "data": {
            "text/plain": [
              "<sympy.plotting.plot.Plot at 0x7fb73b8950d0>"
            ]
          },
          "metadata": {
            "tags": []
          },
          "execution_count": 39
        }
      ]
    }
  ]
}