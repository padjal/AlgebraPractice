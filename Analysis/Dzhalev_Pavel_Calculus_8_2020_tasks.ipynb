{
  "nbformat": 4,
  "nbformat_minor": 0,
  "metadata": {
    "kernelspec": {
      "display_name": "Python 3",
      "language": "python",
      "name": "python3"
    },
    "language_info": {
      "codemirror_mode": {
        "name": "ipython",
        "version": 3
      },
      "file_extension": ".py",
      "mimetype": "text/x-python",
      "name": "python",
      "nbconvert_exporter": "python",
      "pygments_lexer": "ipython3",
      "version": "3.7.3"
    },
    "colab": {
      "name": "Dzhalev_Pavel_Calculus_8_2020_tasks.ipynb",
      "provenance": [],
      "collapsed_sections": [],
      "include_colab_link": true
    }
  },
  "cells": [
    {
      "cell_type": "markdown",
      "metadata": {
        "id": "view-in-github",
        "colab_type": "text"
      },
      "source": [
        "<a href=\"https://colab.research.google.com/github/padjal/Math-Practice/blob/main/Dzhalev_Pavel_Calculus_8_2020_tasks.ipynb\" target=\"_parent\"><img src=\"https://colab.research.google.com/assets/colab-badge.svg\" alt=\"Open In Colab\"/></a>"
      ]
    },
    {
      "cell_type": "code",
      "metadata": {
        "id": "NHze3QD72AY0"
      },
      "source": [
        "import numpy as np\n",
        "import matplotlib.pyplot as plt\n",
        "import sympy\n",
        "from sympy import Symbol, diff, solve, nsolve, solveset, latex, S, simplify, fraction, Union, Interval, intersection, limit\n",
        "from sympy.calculus.util import continuous_domain\n",
        "from sympy import sin as Sin\n",
        "from sympy import cos as Cos\n",
        "from sympy import pi as Pi\n",
        "%matplotlib inline"
      ],
      "execution_count": 3,
      "outputs": []
    },
    {
      "cell_type": "markdown",
      "metadata": {
        "id": "_OM_Awwp2AY5"
      },
      "source": [
        "## Занятие 8\n",
        "## Математический анализ\n",
        "## Дифференцирование функции, заданной параметрически\n",
        "Пусть зависимость $y$ от $x$ задана параметрически:\n",
        "$$\n",
        "\\left\\{\n",
        "\\begin{matrix}\n",
        "x = \\varphi(t)\\\\\n",
        "y = \\psi(t)\n",
        "\\end{matrix}\n",
        "\\right.\n",
        "$$\n",
        "тогда производная $y$ по $x$  находится по формуле\n",
        "$$\n",
        "y'_x = \\frac{y'_t}{x'_t} = \\frac{\\psi'_t}{\\varphi'_t}\n",
        "$$\n",
        "Вторая производная:\n",
        "$$\n",
        "y''_{xx} = \\frac{x'_t y''_{tt}-x''_{tt}y'_t}{(x'_t)^3}  = \\frac{\\varphi'_t \\psi''_{tt}-\\varphi''_{tt}\\psi'_t}{(\\varphi'_t)^3}\n",
        "$$\n",
        "### Задание 1\n",
        "Найти производные 1 и 2 порядка функции \n",
        "$$\n",
        "\\left\\{\n",
        "\\begin{matrix}\n",
        "x = \\sin(t) - t\\cos(t)\\\\\n",
        "y = \\cos(t) + t\\sin(t)\n",
        "\\end{matrix}\n",
        "\\right.\n",
        "$$"
      ]
    },
    {
      "cell_type": "code",
      "metadata": {
        "colab": {
          "base_uri": "https://localhost:8080/",
          "height": 97
        },
        "id": "ERKMF46J2AY5",
        "outputId": "9c5069e8-6502-4006-c87a-78f454e126f6"
      },
      "source": [
        "t = Symbol('t')\n",
        "x = Sin(t) - t*Cos(t)\n",
        "y = Cos(t) + t*Sin(t)\n",
        "dx = diff(x, t)\n",
        "dy = diff(y, t)\n",
        "dy_x = dy/dx\n",
        "dy2_xx = (dx*diff(y, t, 2) - diff(x, t, 2)*dy)/dx**3\n",
        "display(dy_x, dy2_xx.simplify())"
      ],
      "execution_count": 4,
      "outputs": [
        {
          "output_type": "display_data",
          "data": {
            "text/latex": "$\\displaystyle \\frac{\\cos{\\left(t \\right)}}{\\sin{\\left(t \\right)}}$",
            "text/plain": [
              "cos(t)/sin(t)"
            ]
          },
          "metadata": {
            "tags": []
          }
        },
        {
          "output_type": "display_data",
          "data": {
            "text/latex": "$\\displaystyle - \\frac{1}{t \\sin^{3}{\\left(t \\right)}}$",
            "text/plain": [
              "-1/(t*sin(t)**3)"
            ]
          },
          "metadata": {
            "tags": []
          }
        }
      ]
    },
    {
      "cell_type": "markdown",
      "metadata": {
        "id": "F46Zbnud2AY6"
      },
      "source": [
        "### Задание 2.\n",
        "Найти нули производных первого и второго порядка, а также точки, в которых эти производные не существуют, для функции\n",
        "$$\n",
        "\\left\\{\n",
        "\\begin{matrix}\n",
        "x = t^2 - 2t\\\\\n",
        "y = t^2 + 2t\n",
        "\\end{matrix}\n",
        "\\right.\n",
        "$$"
      ]
    },
    {
      "cell_type": "code",
      "metadata": {
        "colab": {
          "base_uri": "https://localhost:8080/",
          "height": 170
        },
        "id": "n1FTgdPO2AY6",
        "outputId": "2105f63f-3d94-4e74-a551-24ae118550cb"
      },
      "source": [
        "x = t*t - 2*t\n",
        "y = t*t + 2*t\n",
        "dx = diff(x, t)\n",
        "dy = diff(y, t)\n",
        "dy_x = dy/dx\n",
        "dy2_xx = (dx*diff(y, t, 2) - diff(x, t, 2)*dy)/dx**3\n",
        "\n",
        "dy_x_num, dy_x_den = fraction(dy_x)\n",
        "dy_x_num_nul = solveset(dy_x_num)\n",
        "dy_x_den_nul = solveset(dy_x_den)\n",
        "display('Первая производная, нули числителя:', dy_x_num_nul, 'нули знаменателя:', dy_x_den_nul)\n",
        "dy2_xx_num,dy2_xx_den = fraction(dy2_xx)\n",
        "dy2_xx_num_nul = solveset(dy2_xx_num)\n",
        "dy2_xx_den_nul = solveset(dy2_xx_den)\n",
        "display('Вторая производная, нули числителя:', dy2_xx_num_nul, 'нули знаменателя:', dy2_xx_den_nul)"
      ],
      "execution_count": 5,
      "outputs": [
        {
          "output_type": "display_data",
          "data": {
            "application/vnd.google.colaboratory.intrinsic+json": {
              "type": "string"
            },
            "text/plain": [
              "'Первая производная, нули числителя:'"
            ]
          },
          "metadata": {
            "tags": []
          }
        },
        {
          "output_type": "display_data",
          "data": {
            "text/latex": "$\\displaystyle \\left\\{-1\\right\\}$",
            "text/plain": [
              "FiniteSet(-1)"
            ]
          },
          "metadata": {
            "tags": []
          }
        },
        {
          "output_type": "display_data",
          "data": {
            "application/vnd.google.colaboratory.intrinsic+json": {
              "type": "string"
            },
            "text/plain": [
              "'нули знаменателя:'"
            ]
          },
          "metadata": {
            "tags": []
          }
        },
        {
          "output_type": "display_data",
          "data": {
            "text/latex": "$\\displaystyle \\left\\{1\\right\\}$",
            "text/plain": [
              "FiniteSet(1)"
            ]
          },
          "metadata": {
            "tags": []
          }
        },
        {
          "output_type": "display_data",
          "data": {
            "application/vnd.google.colaboratory.intrinsic+json": {
              "type": "string"
            },
            "text/plain": [
              "'Вторая производная, нули числителя:'"
            ]
          },
          "metadata": {
            "tags": []
          }
        },
        {
          "output_type": "display_data",
          "data": {
            "text/latex": "$\\displaystyle \\emptyset$",
            "text/plain": [
              "EmptySet"
            ]
          },
          "metadata": {
            "tags": []
          }
        },
        {
          "output_type": "display_data",
          "data": {
            "application/vnd.google.colaboratory.intrinsic+json": {
              "type": "string"
            },
            "text/plain": [
              "'нули знаменателя:'"
            ]
          },
          "metadata": {
            "tags": []
          }
        },
        {
          "output_type": "display_data",
          "data": {
            "text/latex": "$\\displaystyle \\left\\{1\\right\\}$",
            "text/plain": [
              "FiniteSet(1)"
            ]
          },
          "metadata": {
            "tags": []
          }
        }
      ]
    },
    {
      "cell_type": "markdown",
      "metadata": {
        "id": "0CgiM5tL2AY6"
      },
      "source": [
        "### Задание 3. \n",
        "Найти точки экстремума и точки перегиба функции Задания 2."
      ]
    },
    {
      "cell_type": "code",
      "metadata": {
        "colab": {
          "base_uri": "https://localhost:8080/",
          "height": 37
        },
        "id": "UXwnKlsc2AY6",
        "outputId": "bbbdf43b-21c6-4e35-8087-1d65353a67d7"
      },
      "source": [
        "crit_points = Union(dy_x_num_nul, dy_x_den_nul)\n",
        "crit_points"
      ],
      "execution_count": 6,
      "outputs": [
        {
          "output_type": "execute_result",
          "data": {
            "text/latex": "$\\displaystyle \\left\\{-1, 1\\right\\}$",
            "text/plain": [
              "FiniteSet(-1, 1)"
            ]
          },
          "metadata": {
            "tags": []
          },
          "execution_count": 6
        }
      ]
    },
    {
      "cell_type": "code",
      "metadata": {
        "colab": {
          "base_uri": "https://localhost:8080/",
          "height": 37
        },
        "id": "1cZ2e6PEG9e6",
        "outputId": "678e85b5-3e31-4aa8-a216-4d90e8f44c56"
      },
      "source": [
        "crit_points_interval = crit_points.intersection(Interval.Ropen(-1, 1))\n",
        "crit_points_interval"
      ],
      "execution_count": 7,
      "outputs": [
        {
          "output_type": "execute_result",
          "data": {
            "text/latex": "$\\displaystyle \\left\\{-1\\right\\}$",
            "text/plain": [
              "FiniteSet(-1)"
            ]
          },
          "metadata": {
            "tags": []
          },
          "execution_count": 7
        }
      ]
    },
    {
      "cell_type": "code",
      "metadata": {
        "colab": {
          "base_uri": "https://localhost:8080/"
        },
        "id": "v1I8-JppHP-T",
        "outputId": "fab90fb1-457d-4641-92fa-a5e8e19a1970"
      },
      "source": [
        "crit_points_interval = list(crit_points_interval)\n",
        "crit_points_interval.sort()\n",
        "crit_points_interval"
      ],
      "execution_count": 8,
      "outputs": [
        {
          "output_type": "execute_result",
          "data": {
            "text/plain": [
              "[-1]"
            ]
          },
          "metadata": {
            "tags": []
          },
          "execution_count": 8
        }
      ]
    },
    {
      "cell_type": "code",
      "metadata": {
        "colab": {
          "base_uri": "https://localhost:8080/"
        },
        "id": "LJaX76XsHKYw",
        "outputId": "a1452a91-eaeb-4744-d780-27d4b899152d"
      },
      "source": [
        "points = [-1] + [(item + crit_points_interval[i + 1])/2 for i, item in enumerate(crit_points_interval[:-1])] + [1]\n",
        "points"
      ],
      "execution_count": 9,
      "outputs": [
        {
          "output_type": "execute_result",
          "data": {
            "text/plain": [
              "[-1, 1]"
            ]
          },
          "metadata": {
            "tags": []
          },
          "execution_count": 9
        }
      ]
    },
    {
      "cell_type": "code",
      "metadata": {
        "colab": {
          "base_uri": "https://localhost:8080/",
          "height": 89
        },
        "id": "K8HYM-sfKDrW",
        "outputId": "d9848d40-4148-45cf-fee1-faafef9c9030"
      },
      "source": [
        "max_arr=[]\n",
        "min_arr=[]\n",
        "for i, item in enumerate(crit_points_interval):\n",
        "    x_left = float(x.subs(t, points[i]))\n",
        "    x_right = float(x.subs(t, points[i + 1]))\n",
        "    min_arr.append(item)\n",
        "\n",
        "display('максимум', max_arr, 'минимум', min_arr)"
      ],
      "execution_count": 10,
      "outputs": [
        {
          "output_type": "display_data",
          "data": {
            "application/vnd.google.colaboratory.intrinsic+json": {
              "type": "string"
            },
            "text/plain": [
              "'максимум'"
            ]
          },
          "metadata": {
            "tags": []
          }
        },
        {
          "output_type": "display_data",
          "data": {
            "text/plain": [
              "[]"
            ]
          },
          "metadata": {
            "tags": []
          }
        },
        {
          "output_type": "display_data",
          "data": {
            "application/vnd.google.colaboratory.intrinsic+json": {
              "type": "string"
            },
            "text/plain": [
              "'минимум'"
            ]
          },
          "metadata": {
            "tags": []
          }
        },
        {
          "output_type": "display_data",
          "data": {
            "text/plain": [
              "[-1]"
            ]
          },
          "metadata": {
            "tags": []
          }
        }
      ]
    },
    {
      "cell_type": "markdown",
      "metadata": {
        "id": "sl_FVYBp2AY6"
      },
      "source": [
        "### Задание 4. Точки перегиба\n",
        "Найти точки перегиба функции, график строить не нужно. \n",
        "$$\n",
        "\\left\\{\n",
        "\\begin{matrix}\n",
        "x = e^t\\\\\n",
        "y = te^{2t}\n",
        "\\end{matrix}\n",
        "\\right.\n",
        "$$"
      ]
    },
    {
      "cell_type": "code",
      "metadata": {
        "colab": {
          "base_uri": "https://localhost:8080/",
          "height": 56
        },
        "id": "QAmxFctg2AY7",
        "outputId": "9bae2b7a-c928-4ce5-cd8c-092889225dae"
      },
      "source": [
        "t = Symbol('t')\n",
        "x = sympy.exp(t)\n",
        "y = t*sympy.exp(2*t)\n",
        "dx = diff(x, t)\n",
        "dy = diff(y, t)\n",
        "dy_x = dy/dx\n",
        "dy2_xx = (dx*diff(y, t, 2) - diff(x, t, 2)*dy)/dx**3\n",
        "dy2_xx = dy2_xx.simplify()\n",
        "display(dy2_xx)\n",
        "dy2_xx_num, dy2_xx_den = fraction(dy2_xx)\n",
        "dy2_xx_num_nul = solveset(dy2_xx_num)\n",
        "dy2_xx_den_nul = solveset(dy2_xx_den)\n",
        "dy2_xx_points = list((dy2_xx_num_nul.union(dy2_xx_den_nul)))\n",
        "dy2_xx_points.sort()\n",
        "display(dy2_xx_points)"
      ],
      "execution_count": 11,
      "outputs": [
        {
          "output_type": "display_data",
          "data": {
            "text/latex": "$\\displaystyle 2 t + 3$",
            "text/plain": [
              "2*t + 3"
            ]
          },
          "metadata": {
            "tags": []
          }
        },
        {
          "output_type": "display_data",
          "data": {
            "text/plain": [
              "[-3/2]"
            ]
          },
          "metadata": {
            "tags": []
          }
        }
      ]
    },
    {
      "cell_type": "markdown",
      "metadata": {
        "id": "fgyDmzrY2AY7"
      },
      "source": [
        "## Асимптоты параметрически заданной функции\n",
        "Пусть зависимость $y$ от $x$ задана параметрически:\n",
        "$$\n",
        "\\left\\{\n",
        "\\begin{matrix}\n",
        "x = \\varphi(t)\\\\\n",
        "y = \\psi(t)\n",
        "\\end{matrix}\n",
        "\\right.\n",
        "$$\n",
        "Сначала нужно определить, нет ли таких значений параметра $t$, при которых одна из функций $\\varphi(t)$ или $\\psi(t)$ обращается в бесконечность, а другая остается конечной. При $\\varphi(t_0) = \\infty$, а $\\psi(t_0) = c$ кривая имеет горизонтальную асимптоту  $y = c$. При  $\\psi(t_0) = \\infty$, а $\\varphi(t_0) = c$ кривая имеет вертикальную асимптоту $x = c$. \n",
        "\n",
        "Если $\\varphi(t_0) = \\psi(t_0) = \\infty$ и \n",
        "$$\n",
        "\\lim_{t\\to t_0} \\frac{\\psi(t)}{\\varphi(t)} = k;\\qquad \\lim_{t\\to t_0} [\\psi(t) - k\\varphi(t)] = b,\n",
        "$$\n",
        "то   кривая имеет наклонную асимптоту  $y = kx + b$. \n",
        "\n",
        "### Индивидуальное задание.\n",
        "Найти асимптоты параметрически заданной функции и изобразить на графике функцию и ее асимптоты.\n",
        "\n",
        "## Вариант 131\n",
        "\n",
        "$x = 2 e^{t} + 2 e^{- t}$\n",
        "\n",
        "$y = 7 e^{t} - 7 e^{- t}$"
      ]
    },
    {
      "cell_type": "code",
      "metadata": {
        "colab": {
          "base_uri": "https://localhost:8080/",
          "height": 377
        },
        "id": "DqdJnfox2AY7",
        "outputId": "0d07976e-d1dd-4dfd-b63c-33462e1fdf37"
      },
      "source": [
        "t = Symbol('t')\n",
        "x = 2*sympy.exp(t) + 2*sympy.exp(-t)\n",
        "y = 7*sympy.exp(t) - 7*sympy.exp(-t)\n",
        "display('t -> 0', limit(y/x, t, +sympy.oo))\n",
        "display('t -> +oo', limit(y-x, t, +sympy.oo))\n",
        "\n",
        "T1 = np.linspace(-10, 100, 1000)\n",
        "T2 = np.linspace(-10, 100, 1000)\n",
        "for T in [T1, T2]:\n",
        " plt.plot(2*np.exp(T) + 2*np.exp(-T), 7*np.exp(T) - 7*np.exp(-T), color='green')\n",
        "plt.plot(T, 7/2*T, color = 'magenta', linestyle = '--', label = 'y = 7/2x')\n",
        "plt.plot(T, -7/2*T, color = 'magenta', linestyle = '--', label = 'y = -7/2x')\n",
        "plt.legend()\n",
        "plt.ylim(-100, 100)\n",
        "plt.xlim(-2, 30)"
      ],
      "execution_count": 22,
      "outputs": [
        {
          "output_type": "display_data",
          "data": {
            "application/vnd.google.colaboratory.intrinsic+json": {
              "type": "string"
            },
            "text/plain": [
              "'t -> 0'"
            ]
          },
          "metadata": {
            "tags": []
          }
        },
        {
          "output_type": "display_data",
          "data": {
            "text/latex": "$\\displaystyle \\frac{7}{2}$",
            "text/plain": [
              "7/2"
            ]
          },
          "metadata": {
            "tags": []
          }
        },
        {
          "output_type": "display_data",
          "data": {
            "application/vnd.google.colaboratory.intrinsic+json": {
              "type": "string"
            },
            "text/plain": [
              "'t -> +oo'"
            ]
          },
          "metadata": {
            "tags": []
          }
        },
        {
          "output_type": "display_data",
          "data": {
            "text/latex": "$\\displaystyle \\infty$",
            "text/plain": [
              "oo"
            ]
          },
          "metadata": {
            "tags": []
          }
        },
        {
          "output_type": "execute_result",
          "data": {
            "text/plain": [
              "(-2.0, 30.0)"
            ]
          },
          "metadata": {
            "tags": []
          },
          "execution_count": 22
        },
        {
          "output_type": "display_data",
          "data": {
            "image/png": "[encoded data removed]",
            "text/plain": [
              "<Figure size 432x288 with 1 Axes>"
            ]
          },
          "metadata": {
            "tags": [],
            "needs_background": "light"
          }
        }
      ]
    }
  ]
}