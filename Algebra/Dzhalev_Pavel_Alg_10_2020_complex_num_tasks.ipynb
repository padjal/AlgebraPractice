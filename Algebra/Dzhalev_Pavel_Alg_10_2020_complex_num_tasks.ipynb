{
  "nbformat": 4,
  "nbformat_minor": 0,
  "metadata": {
    "kernelspec": {
      "display_name": "Python 3",
      "language": "python",
      "name": "python3"
    },
    "language_info": {
      "codemirror_mode": {
        "name": "ipython",
        "version": 3
      },
      "file_extension": ".py",
      "mimetype": "text/x-python",
      "name": "python",
      "nbconvert_exporter": "python",
      "pygments_lexer": "ipython3",
      "version": "3.7.3"
    },
    "colab": {
      "name": "Dzhalev_Pavel_Alg_10_2020_complex_num_tasks.ipynb",
      "provenance": []
    }
  },
  "cells": [
    {
      "cell_type": "code",
      "metadata": {
        "id": "Fep4BwRDDdiV"
      },
      "source": [
        "import sympy\n",
        "from sympy import I, S, sqrt, expand_complex, sin, cos, Symbol\n",
        "import numpy as np\n",
        "import matplotlib.pyplot as plt"
      ],
      "execution_count": 1,
      "outputs": []
    },
    {
      "cell_type": "markdown",
      "metadata": {
        "id": "oSwfv4nKDdia"
      },
      "source": [
        "# Занятие 10\n",
        "# Алгебра\n",
        "## Комплексные числа в sympy\n",
        "### Задание 1.\n",
        "Даны комплексные числа\n",
        "$$\n",
        "z_1 = 5\\sqrt{3} + 5i,\\quad z_2 = -3 + 3i,\\quad z_3 = - 1 + i,\\quad z_4 = i,\\quad z_5 = \\frac{12}{13} + \\frac{5}{13}i,\n",
        "$$\n",
        "вычислить (представить в алгебраической форме) с помощью sympy\n",
        "$$\n",
        "z_1 \\cdot z_2,\\quad (z_2 - 5z_3)^6,\\quad \\sqrt{\\frac{z_4}{z_3}},\\quad \\frac{z_1^2 + z_3}{13z_5 - 2z_2}.\n",
        "$$"
      ]
    },
    {
      "cell_type": "code",
      "metadata": {
        "colab": {
          "base_uri": "https://localhost:8080/",
          "height": 159
        },
        "id": "8PA62OYKDdib",
        "outputId": "1a611c24-bca0-4e22-9300-0761b22d9386"
      },
      "source": [
        "z1 = 5*sympy.sqrt(3) + 5*I\n",
        "z2 =-3 + 3*I\n",
        "z3 = -1 + I\n",
        "z4 = I\n",
        "z5 = S(12)/13 + S(5)/13*I\n",
        "\n",
        "#display(z1*z2, (z2-5*z3)**6, sympy.sqrt(z4/z5), (z1**2 + z3)/(13*z5 -2*z2))\n",
        "numbers = [z1*z2, (z2-5*z3)**6, sympy.sqrt(z4/z5), (z1**2 + z3)/(13*z5 -2*z2)]\n",
        "alg_roots = [expand_complex(item) for item in numbers]\n",
        "display(*alg_roots)"
      ],
      "execution_count": 2,
      "outputs": [
        {
          "output_type": "display_data",
          "data": {
            "text/latex": "$\\displaystyle - 15 \\sqrt{3} - 15 + i \\left(-15 + 15 \\sqrt{3}\\right)$",
            "text/plain": [
              "-15*sqrt(3) - 15 + I*(-15 + 15*sqrt(3))"
            ]
          },
          "metadata": {
            "tags": []
          }
        },
        {
          "output_type": "display_data",
          "data": {
            "text/latex": "$\\displaystyle 512 i$",
            "text/plain": [
              "512*I"
            ]
          },
          "metadata": {
            "tags": []
          }
        },
        {
          "output_type": "display_data",
          "data": {
            "text/latex": "$\\displaystyle \\frac{3 \\sqrt{13}}{13} + \\frac{2 \\sqrt{13} i}{13}$",
            "text/plain": [
              "3*sqrt(13)/13 + 2*sqrt(13)*I/13"
            ]
          },
          "metadata": {
            "tags": []
          }
        },
        {
          "output_type": "display_data",
          "data": {
            "text/latex": "$\\displaystyle - \\frac{2 \\sqrt{3}}{13} + \\frac{881}{325} + i \\left(\\frac{67}{325} + \\frac{36 \\sqrt{3}}{13}\\right)$",
            "text/plain": [
              "-2*sqrt(3)/13 + 881/325 + I*(67/325 + 36*sqrt(3)/13)"
            ]
          },
          "metadata": {
            "tags": []
          }
        }
      ]
    },
    {
      "cell_type": "code",
      "metadata": {
        "colab": {
          "base_uri": "https://localhost:8080/",
          "height": 68
        },
        "id": "AkltrfjJMB4F",
        "outputId": "19c75031-eac3-4341-b61a-d397ebfa4deb"
      },
      "source": [
        "display(12/13*2, S(12)/13*2)"
      ],
      "execution_count": 3,
      "outputs": [
        {
          "output_type": "display_data",
          "data": {
            "text/plain": [
              "1.8461538461538463"
            ]
          },
          "metadata": {
            "tags": []
          }
        },
        {
          "output_type": "display_data",
          "data": {
            "text/latex": "$\\displaystyle \\frac{24}{13}$",
            "text/plain": [
              "24/13"
            ]
          },
          "metadata": {
            "tags": []
          }
        }
      ]
    },
    {
      "cell_type": "markdown",
      "metadata": {
        "id": "PDLrqPYzDdic"
      },
      "source": [
        "### Задание  2.\n",
        "Вычисления Примера 1 проделать для мнимой единицы из python (использовать встроенную функцию complex)."
      ]
    },
    {
      "cell_type": "code",
      "metadata": {
        "colab": {
          "base_uri": "https://localhost:8080/",
          "height": 84
        },
        "id": "G1KQyc0iDdic",
        "outputId": "8043d428-0a12-4b82-b69c-720f8e0b1fdd"
      },
      "source": [
        "z1 = complex(5*sympy.sqrt(3), 5)\n",
        "z2 = complex(-3, 3)\n",
        "z3 = complex(-1, 1)\n",
        "z4 = complex(0, 1)\n",
        "z5 = complex(12/13, 5/13)\n",
        "\n",
        "display(z1*z2, (z2-5*z3)**6, (z4/z5)**1/2, (z1**2 + z3)/(13*z5 -2*z2))"
      ],
      "execution_count": 4,
      "outputs": [
        {
          "output_type": "display_data",
          "data": {
            "text/plain": [
              "(-40.98076211353316+10.98076211353316j)"
            ]
          },
          "metadata": {
            "tags": []
          }
        },
        {
          "output_type": "display_data",
          "data": {
            "text/plain": [
              "(-0+512j)"
            ]
          },
          "metadata": {
            "tags": []
          }
        },
        {
          "output_type": "display_data",
          "data": {
            "text/plain": [
              "(0.1923076923076923+0.46153846153846145j)"
            ]
          },
          "metadata": {
            "tags": []
          }
        },
        {
          "output_type": "display_data",
          "data": {
            "text/plain": [
              "(2.4442998757586345+5.0026022363445835j)"
            ]
          },
          "metadata": {
            "tags": []
          }
        }
      ]
    },
    {
      "cell_type": "markdown",
      "metadata": {
        "id": "C7wrNhyfDdic"
      },
      "source": [
        "### Задание  3.\n",
        "Изобразить на координатной плоскости точки, соответствующие корням  $7$-й степени комплексного числа $z = \\frac{3}{5} + i\\frac{3}{5}$. Подписать точки $Ak$, где $k$  - номер корня."
      ]
    },
    {
      "cell_type": "code",
      "metadata": {
        "colab": {
          "base_uri": "https://localhost:8080/",
          "height": 457
        },
        "id": "S7W1cSbNDdic",
        "outputId": "a56083b5-2f47-46fa-ba3a-adf7007f0b66"
      },
      "source": [
        "z = 3/5 + 3/5*I\n",
        "roots = [sympy.root(z, 7, k) for k in range (7)]\n",
        "display(*roots)\n",
        "\n",
        "roots_x = [sympy.re(item) for item in roots]\n",
        "roots_y = [sympy.im(item) for item in roots]\n",
        "plt.scatter(roots_x, roots_y)\n",
        "for k, x_coord in enumerate(roots_x): \n",
        " plt.annotate('$A_' + str(k) + '$',\n",
        " xy=(x_coord, roots_y[k]), \n",
        " xytext=(x_coord + 0.05, roots_y[k] - 0.05)) \n",
        "plt.axis('equal')\n",
        "plt.xlabel(\"Re\")\n",
        "plt.ylabel(\"Im\")\n",
        "plt.xlim(-2.5, 2.5)"
      ],
      "execution_count": 5,
      "outputs": [
        {
          "output_type": "display_data",
          "data": {
            "text/latex": "$\\displaystyle \\sqrt[7]{0.6 + 0.6 i}$",
            "text/plain": [
              "(0.6 + 0.6*I)**(1/7)"
            ]
          },
          "metadata": {
            "tags": []
          }
        },
        {
          "output_type": "display_data",
          "data": {
            "text/latex": "$\\displaystyle \\left(-1\\right)^{\\frac{2}{7}} \\sqrt[7]{0.6 + 0.6 i}$",
            "text/plain": [
              "(-1)**(2/7)*(0.6 + 0.6*I)**(1/7)"
            ]
          },
          "metadata": {
            "tags": []
          }
        },
        {
          "output_type": "display_data",
          "data": {
            "text/latex": "$\\displaystyle \\left(-1\\right)^{\\frac{4}{7}} \\sqrt[7]{0.6 + 0.6 i}$",
            "text/plain": [
              "(-1)**(4/7)*(0.6 + 0.6*I)**(1/7)"
            ]
          },
          "metadata": {
            "tags": []
          }
        },
        {
          "output_type": "display_data",
          "data": {
            "text/latex": "$\\displaystyle \\left(-1\\right)^{\\frac{6}{7}} \\sqrt[7]{0.6 + 0.6 i}$",
            "text/plain": [
              "(-1)**(6/7)*(0.6 + 0.6*I)**(1/7)"
            ]
          },
          "metadata": {
            "tags": []
          }
        },
        {
          "output_type": "display_data",
          "data": {
            "text/latex": "$\\displaystyle - \\sqrt[7]{-1} \\sqrt[7]{0.6 + 0.6 i}$",
            "text/plain": [
              "-(-1)**(1/7)*(0.6 + 0.6*I)**(1/7)"
            ]
          },
          "metadata": {
            "tags": []
          }
        },
        {
          "output_type": "display_data",
          "data": {
            "text/latex": "$\\displaystyle - \\left(-1\\right)^{\\frac{3}{7}} \\sqrt[7]{0.6 + 0.6 i}$",
            "text/plain": [
              "-(-1)**(3/7)*(0.6 + 0.6*I)**(1/7)"
            ]
          },
          "metadata": {
            "tags": []
          }
        },
        {
          "output_type": "display_data",
          "data": {
            "text/latex": "$\\displaystyle - \\left(-1\\right)^{\\frac{5}{7}} \\sqrt[7]{0.6 + 0.6 i}$",
            "text/plain": [
              "-(-1)**(5/7)*(0.6 + 0.6*I)**(1/7)"
            ]
          },
          "metadata": {
            "tags": []
          }
        },
        {
          "output_type": "execute_result",
          "data": {
            "text/plain": [
              "(-2.5, 2.5)"
            ]
          },
          "metadata": {
            "tags": []
          },
          "execution_count": 5
        },
        {
          "output_type": "display_data",
          "data": {
            "image/png": "[encoded data removed]",
            "text/plain": [
              "<Figure size 432x288 with 1 Axes>"
            ]
          },
          "metadata": {
            "tags": [],
            "needs_background": "light"
          }
        }
      ]
    },
    {
      "cell_type": "markdown",
      "metadata": {
        "id": "orA7rRSeDdic"
      },
      "source": [
        "### Задание  4.\n",
        "Изобразить на координатной плоскости точки, соответствующие $z_4 = - \\frac{3}{5} + \\frac{4}{5}i$ и $\\bar{z_4}$, подписать $z_4$ тригонометрической формой, $\\bar{z_4}$ - экспоненциальной ($z = r e^{i\\varphi}$, $r$ и $\\varphi$ такие же, как в тригонометрической форме)."
      ]
    },
    {
      "cell_type": "code",
      "metadata": {
        "colab": {
          "base_uri": "https://localhost:8080/",
          "height": 296
        },
        "id": "FwhpbwPIDdid",
        "outputId": "fddc7b8c-b5ff-4d1b-a7cf-c8de12bd5bc9"
      },
      "source": [
        "z4 = S(-3)/5 + S(4)/5*I\n",
        "z4c =  sympy.conjugate(z4)\n",
        "z4arr = [z4, z4c]\n",
        "numbers_x = [sympy.re(i) for i in z4arr]\n",
        "numbers_y = [sympy.im(i) for i in z4arr]\n",
        "plt.scatter(numbers_x, numbers_y)\n",
        "\n",
        "plt.annotate(f'$z_4 = {sympy.functions.Abs(z4c)}(cos({sympy.functions.arg(z4c)}) + isin({sympy.functions.arg(z4c)})$', \n",
        "             xy=(numbers_x[0], numbers_y[0]), \n",
        "             xytext=(numbers_x[0] + 0.05, numbers_y[0] - 0.05))\n",
        "\n",
        "plt.annotate('${0}exp(i{1})$'.format(sympy.functions.Abs(z4c), sympy.functions.arg(z4c)), \n",
        "             xy=(numbers_x[1], numbers_y[1]), \n",
        "             xytext=(numbers_x[1] + 0.05, numbers_y[1] - 0.05))\n",
        "\n",
        "#for k, numbers_x in enumerate(numbers_x): \n",
        "# plt.annotate('$z_' + str(k) + ' = ' + sympy.latex(z4arr[k]) + '$',\n",
        " #xy=(numbers_x, numbers_y[k]), \n",
        " #xytext=(numbers_x + 0.05, numbers_y[k] - 0.05)) \n",
        "plt.axis('equal')\n",
        "plt.xlabel(\"Re\")\n",
        "plt.ylabel(\"Im\")\n",
        "plt.xlim(-2.5, 2.5)"
      ],
      "execution_count": 6,
      "outputs": [
        {
          "output_type": "execute_result",
          "data": {
            "text/plain": [
              "(-2.5, 2.5)"
            ]
          },
          "metadata": {
            "tags": []
          },
          "execution_count": 6
        },
        {
          "output_type": "display_data",
          "data": {
            "image/png": "[encoded data removed]",
            "text/plain": [
              "<Figure size 432x288 with 1 Axes>"
            ]
          },
          "metadata": {
            "tags": [],
            "needs_background": "light"
          }
        }
      ]
    },
    {
      "cell_type": "markdown",
      "metadata": {
        "id": "T-ev8TBcDdid"
      },
      "source": [
        "#### Задание  5.\n",
        "Изобразить корни 4 степени числа $5e^{\\frac{i\\pi}{8}}$, в полярной системе координат, подписи к точкам - аргументы (углы) сответствующих комплексных чисел. \n",
        "\n",
        "Число вводить в тригонометрической форме, для получения корней комплексного числа $z = r(\\cos(\\varphi) + \\sin(\\varphi))$ использовать формулу \n",
        "$\\sqrt[n]{z} = \\sqrt[n]{r}(\\cos(\\varphi_k) + i \\sin(\\varphi_k))$, \n",
        "$\\varphi_k = \\frac{\\varphi + 2\\pi k}{n}$, $k = 0, ..., n$. \n",
        "\n",
        "Вывести алгебраическую форму полученных корней на экран и сравнить с результатом, полученным с помощью sympy.root (с использованием sympy.expand_complex для упрощения выражения). Аналитическое представление оказывается разным.\n",
        "\n",
        "Для каждого корня найти разность в формате float модуля разности корней, полученных двумя способами (т.е. нужно для каждой пары одинаковых корней, полученных двумя способами находить разность корней, вычислять модуль sympy.Abs этой разности и преобразовывать результат в формат float)."
      ]
    },
    {
      "cell_type": "code",
      "metadata": {
        "id": "mbTkh3oRDdid",
        "colab": {
          "base_uri": "https://localhost:8080/",
          "height": 861
        },
        "outputId": "28316ae7-821f-4a0f-9e18-b84f4c504160"
      },
      "source": [
        "names = [f'{(sympy.pi/8 + 2*sympy.pi*k)/4}'for k in range(4)]\n",
        "#display(*names)\n",
        "r_list = [5**sympy.S(1)/4, 5**sympy.S(1)/4, 5**sympy.S(1)/4, 5**sympy.S(1)/4]\n",
        "arg_list = [(sympy.pi/8 + 2*sympy.pi*k)/4 for k in range(4)]\n",
        "#display(*arg_list)\n",
        "roots = [5**S(1)/4*(cos(k)+I*sin(k)) for k in arg_list]\n",
        "#display(*roots)\n",
        "plt.polar([sympy.functions.arg(k) for k in roots], [sympy.functions.Abs(k) for k in roots], 'go')\n",
        "for k, phi_k in enumerate(arg_list):\n",
        "  plt.annotate(names[k],\n",
        "  xy=(phi_k, r_list[k]),\n",
        "  xytext=(phi_k + 0.15, r_list[k]))\n",
        "\n",
        "display(*roots)\n",
        "roots_trig = [sympy.expand_complex(k) for k in roots]\n",
        "z7 = 5*(cos(sympy.pi/8)+I*sin(sympy.pi/8))\n",
        "roots = [sympy.root(z7, 4, n) for n in range(4)]\n",
        "display(*[sympy.expand_complex(k) for k in roots])\n",
        "display(z7)"
      ],
      "execution_count": 8,
      "outputs": [
        {
          "output_type": "display_data",
          "data": {
            "text/latex": "$\\displaystyle \\frac{5 \\cos{\\left(\\frac{\\pi}{32} \\right)}}{4} + \\frac{5 i \\sin{\\left(\\frac{\\pi}{32} \\right)}}{4}$",
            "text/plain": [
              "5*cos(pi/32)/4 + 5*I*sin(pi/32)/4"
            ]
          },
          "metadata": {
            "tags": []
          }
        },
        {
          "output_type": "display_data",
          "data": {
            "text/latex": "$\\displaystyle - \\frac{5 \\cos{\\left(\\frac{15 \\pi}{32} \\right)}}{4} + \\frac{5 i \\sin{\\left(\\frac{15 \\pi}{32} \\right)}}{4}$",
            "text/plain": [
              "-5*cos(15*pi/32)/4 + 5*I*sin(15*pi/32)/4"
            ]
          },
          "metadata": {
            "tags": []
          }
        },
        {
          "output_type": "display_data",
          "data": {
            "text/latex": "$\\displaystyle - \\frac{5 \\cos{\\left(\\frac{\\pi}{32} \\right)}}{4} - \\frac{5 i \\sin{\\left(\\frac{\\pi}{32} \\right)}}{4}$",
            "text/plain": [
              "-5*cos(pi/32)/4 - 5*I*sin(pi/32)/4"
            ]
          },
          "metadata": {
            "tags": []
          }
        },
        {
          "output_type": "display_data",
          "data": {
            "text/latex": "$\\displaystyle \\frac{5 \\cos{\\left(\\frac{15 \\pi}{32} \\right)}}{4} - \\frac{5 i \\sin{\\left(\\frac{15 \\pi}{32} \\right)}}{4}$",
            "text/plain": [
              "5*cos(15*pi/32)/4 - 5*I*sin(15*pi/32)/4"
            ]
          },
          "metadata": {
            "tags": []
          }
        },
        {
          "output_type": "display_data",
          "data": {
            "text/latex": "$\\displaystyle \\sqrt[4]{5} \\cos{\\left(\\frac{\\operatorname{atan}{\\left(\\frac{\\sqrt{\\frac{1}{2} - \\frac{\\sqrt{2}}{4}}}{\\sqrt{\\frac{\\sqrt{2}}{4} + \\frac{1}{2}}} \\right)}}{4} \\right)} + \\sqrt[4]{5} i \\sin{\\left(\\frac{\\operatorname{atan}{\\left(\\frac{\\sqrt{\\frac{1}{2} - \\frac{\\sqrt{2}}{4}}}{\\sqrt{\\frac{\\sqrt{2}}{4} + \\frac{1}{2}}} \\right)}}{4} \\right)}$",
            "text/plain": [
              "5**(1/4)*cos(atan(sqrt(1/2 - sqrt(2)/4)/sqrt(sqrt(2)/4 + 1/2))/4) + 5**(1/4)*I*sin(atan(sqrt(1/2 - sqrt(2)/4)/sqrt(sqrt(2)/4 + 1/2))/4)"
            ]
          },
          "metadata": {
            "tags": []
          }
        },
        {
          "output_type": "display_data",
          "data": {
            "text/latex": "$\\displaystyle - \\sqrt[4]{5} \\sin{\\left(\\frac{\\operatorname{atan}{\\left(\\frac{\\sqrt{\\frac{1}{2} - \\frac{\\sqrt{2}}{4}}}{\\sqrt{\\frac{\\sqrt{2}}{4} + \\frac{1}{2}}} \\right)}}{4} \\right)} + \\sqrt[4]{5} i \\cos{\\left(\\frac{\\operatorname{atan}{\\left(\\frac{\\sqrt{\\frac{1}{2} - \\frac{\\sqrt{2}}{4}}}{\\sqrt{\\frac{\\sqrt{2}}{4} + \\frac{1}{2}}} \\right)}}{4} \\right)}$",
            "text/plain": [
              "-5**(1/4)*sin(atan(sqrt(1/2 - sqrt(2)/4)/sqrt(sqrt(2)/4 + 1/2))/4) + 5**(1/4)*I*cos(atan(sqrt(1/2 - sqrt(2)/4)/sqrt(sqrt(2)/4 + 1/2))/4)"
            ]
          },
          "metadata": {
            "tags": []
          }
        },
        {
          "output_type": "display_data",
          "data": {
            "text/latex": "$\\displaystyle - \\sqrt[4]{5} \\cos{\\left(\\frac{\\operatorname{atan}{\\left(\\frac{\\sqrt{\\frac{1}{2} - \\frac{\\sqrt{2}}{4}}}{\\sqrt{\\frac{\\sqrt{2}}{4} + \\frac{1}{2}}} \\right)}}{4} \\right)} - \\sqrt[4]{5} i \\sin{\\left(\\frac{\\operatorname{atan}{\\left(\\frac{\\sqrt{\\frac{1}{2} - \\frac{\\sqrt{2}}{4}}}{\\sqrt{\\frac{\\sqrt{2}}{4} + \\frac{1}{2}}} \\right)}}{4} \\right)}$",
            "text/plain": [
              "-5**(1/4)*cos(atan(sqrt(1/2 - sqrt(2)/4)/sqrt(sqrt(2)/4 + 1/2))/4) - 5**(1/4)*I*sin(atan(sqrt(1/2 - sqrt(2)/4)/sqrt(sqrt(2)/4 + 1/2))/4)"
            ]
          },
          "metadata": {
            "tags": []
          }
        },
        {
          "output_type": "display_data",
          "data": {
            "text/latex": "$\\displaystyle \\sqrt[4]{5} \\sin{\\left(\\frac{\\operatorname{atan}{\\left(\\frac{\\sqrt{\\frac{1}{2} - \\frac{\\sqrt{2}}{4}}}{\\sqrt{\\frac{\\sqrt{2}}{4} + \\frac{1}{2}}} \\right)}}{4} \\right)} - \\sqrt[4]{5} i \\cos{\\left(\\frac{\\operatorname{atan}{\\left(\\frac{\\sqrt{\\frac{1}{2} - \\frac{\\sqrt{2}}{4}}}{\\sqrt{\\frac{\\sqrt{2}}{4} + \\frac{1}{2}}} \\right)}}{4} \\right)}$",
            "text/plain": [
              "5**(1/4)*sin(atan(sqrt(1/2 - sqrt(2)/4)/sqrt(sqrt(2)/4 + 1/2))/4) - 5**(1/4)*I*cos(atan(sqrt(1/2 - sqrt(2)/4)/sqrt(sqrt(2)/4 + 1/2))/4)"
            ]
          },
          "metadata": {
            "tags": []
          }
        },
        {
          "output_type": "display_data",
          "data": {
            "text/latex": "$\\displaystyle 5 \\sqrt{\\frac{\\sqrt{2}}{4} + \\frac{1}{2}} + 5 i \\sqrt{\\frac{1}{2} - \\frac{\\sqrt{2}}{4}}$",
            "text/plain": [
              "5*sqrt(sqrt(2)/4 + 1/2) + 5*I*sqrt(1/2 - sqrt(2)/4)"
            ]
          },
          "metadata": {
            "tags": []
          }
        },
        {
          "output_type": "display_data",
          "data": {
            "image/png": "[encoded data removed]",
            "text/plain": [
              "<Figure size 432x288 with 1 Axes>"
            ]
          },
          "metadata": {
            "tags": [],
            "needs_background": "light"
          }
        }
      ]
    },
    {
      "cell_type": "markdown",
      "metadata": {
        "id": "M-6kioagDdid"
      },
      "source": [
        "### Индивидуальное задание.\n",
        "Решить уравнение.\n",
        "Для получения корней использовать sympy.roots.\n",
        "Корни уравнения вывести на экран в алгебраической, тригонометрической и экспоненциальной форме.\n",
        "\n",
        "# Вариант N 131\n",
        "\n",
        "$(3 + 3 i)x^2 + (72 - 24 i)x + 48 - 336 i = 0$"
      ]
    },
    {
      "cell_type": "code",
      "metadata": {
        "id": "0prvdt3sDdid",
        "colab": {
          "base_uri": "https://localhost:8080/",
          "height": 79
        },
        "outputId": "9522bfc6-ee4c-48ac-dbc5-d4ae0f2bacfe"
      },
      "source": [
        "x = Symbol('x')\n",
        "y = (3 + 3*I)*x**2 + (72 - 24*I)*x + 48 - 336*I\n",
        "roots = sympy.roots(y, x)\n",
        "display(*roots)\n",
        "\n",
        "z = -4 + 8*I\n",
        "r = sympy.functions.Abs(z)\n",
        "arg = sympy.functions.arg(z)\n",
        "z_trig = f'${r}(cos({arg}) + isin({arg}))$'\n",
        "display(z_trig)\n",
        "z_exp = r*sympy.exp(I*arg)\n",
        "display(z_exp)"
      ],
      "execution_count": 44,
      "outputs": [
        {
          "output_type": "display_data",
          "data": {
            "text/latex": "$\\displaystyle -4 + 8 i$",
            "text/plain": [
              "-4 + 8*I"
            ]
          },
          "metadata": {
            "tags": []
          }
        },
        {
          "output_type": "display_data",
          "data": {
            "application/vnd.google.colaboratory.intrinsic+json": {
              "type": "string"
            },
            "text/plain": [
              "'$4*sqrt(5)(cos(pi - atan(2)) + isin(pi - atan(2)))$'"
            ]
          },
          "metadata": {
            "tags": []
          }
        },
        {
          "output_type": "display_data",
          "data": {
            "text/latex": "$\\displaystyle 4 \\sqrt{5} e^{i \\left(\\pi - \\operatorname{atan}{\\left(2 \\right)}\\right)}$",
            "text/plain": [
              "4*sqrt(5)*exp(I*(pi - atan(2)))"
            ]
          },
          "metadata": {
            "tags": []
          }
        }
      ]
    }
  ]
}