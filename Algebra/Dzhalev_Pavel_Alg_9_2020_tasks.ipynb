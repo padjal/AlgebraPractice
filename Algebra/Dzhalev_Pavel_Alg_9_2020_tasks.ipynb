{
  "nbformat": 4,
  "nbformat_minor": 0,
  "metadata": {
    "kernelspec": {
      "display_name": "Python 3",
      "language": "python",
      "name": "python3"
    },
    "language_info": {
      "codemirror_mode": {
        "name": "ipython",
        "version": 3
      },
      "file_extension": ".py",
      "mimetype": "text/x-python",
      "name": "python",
      "nbconvert_exporter": "python",
      "pygments_lexer": "ipython3",
      "version": "3.7.3"
    },
    "colab": {
      "name": "Dzhalev_Pavel_Alg_9_2020_tasks.ipynb",
      "provenance": []
    }
  },
  "cells": [
    {
      "cell_type": "code",
      "metadata": {
        "id": "cAUPSUXr6MPh"
      },
      "source": [
        "import sympy\n",
        "from sympy import  Point, Line, Segment, Polygon, RegularPolygon\n",
        "from sympy import sin as Sin\n",
        "from sympy import cos as Cos\n",
        "from sympy import pi as Pi\n",
        "import matplotlib.pyplot as plt"
      ],
      "execution_count": 1,
      "outputs": []
    },
    {
      "cell_type": "markdown",
      "metadata": {
        "id": "Njnqn_oc6MPq"
      },
      "source": [
        "# Занятие 9\n",
        "# Алгебра\n",
        "##  Geometry: многоугольники на плоскости, принадлежность точки многоугольнику.\n",
        "### Задание 1.\n",
        "Построить равнобедренный треугольник АВС (АВ = ВС) с вершиной В в начале координат, так что биссектриса ВD образует угол 45 градусов с положительным направлением оси ОХ и 30 градусов со стороной АВ, точка А расположена между осью OY и лучом ВD,  длина АС равна 3. \n",
        "\n",
        "У полученного треугольника вывести на экран длины сторон.\n",
        "\n",
        "Указание: напротив угла 30 градусов в прямоугольном треугольнике лежит катет, равный половине гипотенузы, в равнобедренном треугольнике биссектриса, проведенная к основанию, является медианой и высотой. Координаты точки равны произведению длины отрезка, соединяющего точку с началом координат и косинуса (синуса) угла, образованного этим отрезком и положительным направлением горизонтальной оси."
      ]
    },
    {
      "cell_type": "code",
      "metadata": {
        "colab": {
          "base_uri": "https://localhost:8080/",
          "height": 176
        },
        "id": "wFEfcgyy6MPr",
        "outputId": "479e604f-14a5-4b56-d159-c52d52f6df54"
      },
      "source": [
        "B = Point(0,0)\r\n",
        "A = Point(Sin(15*Pi/180)*3, Cos(15*Pi/180)*3)\r\n",
        "C = Point(Cos(15*Pi/180)*3, Sin(15*Pi/180)*3)\r\n",
        "\r\n",
        "ABC = Polygon(A, B, C)\r\n",
        "display(ABC)\r\n",
        "display(ABC.angles)\r\n",
        "display('стороны: ', ([sympy.simplify(i.length) for i in ABC.sides]))"
      ],
      "execution_count": 2,
      "outputs": [
        {
          "output_type": "display_data",
          "data": {
            "text/latex": "$\\displaystyle Triangle\\left(Point2D\\left(- \\frac{3 \\sqrt{2}}{4} + \\frac{3 \\sqrt{6}}{4}, \\frac{3 \\sqrt{2}}{4} + \\frac{3 \\sqrt{6}}{4}\\right), Point2D\\left(0, 0\\right), Point2D\\left(\\frac{3 \\sqrt{2}}{4} + \\frac{3 \\sqrt{6}}{4}, - \\frac{3 \\sqrt{2}}{4} + \\frac{3 \\sqrt{6}}{4}\\right)\\right)$",
            "text/plain": [
              "Triangle(Point2D(-3*sqrt(2)/4 + 3*sqrt(6)/4, 3*sqrt(2)/4 + 3*sqrt(6)/4), Point2D(0, 0), Point2D(3*sqrt(2)/4 + 3*sqrt(6)/4, -3*sqrt(2)/4 + 3*sqrt(6)/4))"
            ],
            "image/svg+xml": "<svg xmlns=\"http://www.w3.org/2000/svg\"\n            xmlns:xlink=\"http://www.w3.org/1999/xlink\"\n            width=\"100.0\" height=\"100.0\" viewBox=\"-0.289777747886721 -0.289777747886721 3.47733297464065 3.47733297464065\"\n            preserveAspectRatio=\"xMinYMin meet\">\n            <defs>\n                <marker id=\"markerCircle\" markerWidth=\"8\" markerHeight=\"8\"\n                    refx=\"5\" refy=\"5\" markerUnits=\"strokeWidth\">\n                    <circle cx=\"5\" cy=\"5\" r=\"1.5\" style=\"stroke: none; fill:#000000;\"/>\n                </marker>\n                <marker id=\"markerArrow\" markerWidth=\"13\" markerHeight=\"13\" refx=\"2\" refy=\"4\"\n                       orient=\"auto\" markerUnits=\"strokeWidth\">\n                    <path d=\"M2,2 L2,6 L6,4\" style=\"fill: #000000;\" />\n                </marker>\n                <marker id=\"markerReverseArrow\" markerWidth=\"13\" markerHeight=\"13\" refx=\"6\" refy=\"4\"\n                       orient=\"auto\" markerUnits=\"strokeWidth\">\n                    <path d=\"M6,2 L6,6 L2,4\" style=\"fill: #000000;\" />\n                </marker>\n            </defs><g transform=\"matrix(1,0,0,-1,0,2.89777747886721)\"><path fill-rule=\"evenodd\" fill=\"#66cc99\" stroke=\"#555555\" stroke-width=\"0.0695466594928129\" opacity=\"0.6\" d=\"M 0.776457135307562,2.89777747886721 L 0,0 L 2.89777747886721,0.776457135307562 z\" /></g></svg>"
          },
          "metadata": {
            "tags": []
          }
        },
        {
          "output_type": "display_data",
          "data": {
            "text/plain": [
              "{Point2D(-3*sqrt(2)/4 + 3*sqrt(6)/4, 3*sqrt(2)/4 + 3*sqrt(6)/4): acos((3*sqrt(2)*(-3*sqrt(6)/4 + 3*sqrt(2)/4)/2 - 3*sqrt(2)*(-3*sqrt(6)/4 - 3*sqrt(2)/4)/2)/(3*sqrt((-3*sqrt(2)/4 + 3*sqrt(6)/4)**2 + (3*sqrt(2)/4 + 3*sqrt(6)/4)**2))),\n",
              " Point2D(0, 0): acos(2*(-3*sqrt(2)/4 + 3*sqrt(6)/4)*(3*sqrt(2)/4 + 3*sqrt(6)/4)/((-3*sqrt(6)/4 + 3*sqrt(2)/4)**2 + (-3*sqrt(6)/4 - 3*sqrt(2)/4)**2)),\n",
              " Point2D(3*sqrt(2)/4 + 3*sqrt(6)/4, -3*sqrt(2)/4 + 3*sqrt(6)/4): acos((3*sqrt(2)*(-3*sqrt(6)/4 + 3*sqrt(2)/4)/2 - 3*sqrt(2)*(-3*sqrt(6)/4 - 3*sqrt(2)/4)/2)/(3*sqrt((-3*sqrt(2)/4 + 3*sqrt(6)/4)**2 + (3*sqrt(2)/4 + 3*sqrt(6)/4)**2)))}"
            ]
          },
          "metadata": {
            "tags": []
          }
        },
        {
          "output_type": "display_data",
          "data": {
            "application/vnd.google.colaboratory.intrinsic+json": {
              "type": "string"
            },
            "text/plain": [
              "'стороны: '"
            ]
          },
          "metadata": {
            "tags": []
          }
        },
        {
          "output_type": "display_data",
          "data": {
            "text/plain": [
              "[3, 3, 3]"
            ]
          },
          "metadata": {
            "tags": []
          }
        }
      ]
    },
    {
      "cell_type": "markdown",
      "metadata": {
        "id": "0kttJu746MPr"
      },
      "source": [
        "### Задание 2.\n",
        "Построить четырехугольник ABCD, где точки A, B и C из Примера 1, а точка D - центр ABC. Найти площадь, периметр и центр ABCD.\n",
        "Изобразить ABC и ABCD на графике. Выпуклый ли многоугольник?"
      ]
    },
    {
      "cell_type": "markdown",
      "metadata": {
        "id": "I5_Kh7rSG_wo"
      },
      "source": [
        "нет, не выпуклой."
      ]
    },
    {
      "cell_type": "code",
      "metadata": {
        "id": "xT0tcTRnGLA0"
      },
      "source": [
        "def draw_polygon(polygon, names=None, color='g'):\r\n",
        "  ax = plt.gca()\r\n",
        "  ax.set_aspect('equal')\r\n",
        "  vertices = polygon.vertices\r\n",
        "  points_x = [item.x for item in vertices] + [vertices[0].x]\r\n",
        "  points_y = [item.y for item in vertices] + [vertices[0].y]\r\n",
        "  ax.plot(points_x, points_y, color)\r\n",
        "  if names == None:\r\n",
        "    for i, x_coord in enumerate(points_x[:-1]):\r\n",
        "      ax.annotate('A' + str(i + 1),\r\n",
        "      xy=(x_coord, points_y[i] + 0.1), xycoords='data') # Координаты подписываемой точки, туда ведет стрелка\r\n",
        "  else:\r\n",
        "    for i, vert in enumerate(vertices):\r\n",
        "      ax.annotate(names[vert],\r\n",
        "      xy=(points_x[i], points_y[i] + 0.1), xycoords='data') #Координаты подписываемой точки, туда ведет стрелка"
      ],
      "execution_count": 3,
      "outputs": []
    },
    {
      "cell_type": "code",
      "metadata": {
        "id": "rjI8RlDj6MPr",
        "colab": {
          "base_uri": "https://localhost:8080/",
          "height": 487
        },
        "outputId": "a401d2f2-e73e-4a96-8d6d-f9144de4d62c"
      },
      "source": [
        "D = ABC.centroid\r\n",
        "display(D)\r\n",
        "ABCD = Polygon(A, B, C, D)\r\n",
        "display('площадь: ', ABCD.area, ' периметр: ', ABCD.perimeter,' центр: ', ABCD.centroid)\r\n",
        "point_dict = {A: 'A', B: 'B', C: 'C', D: 'D'}\r\n",
        "draw_polygon(ABCD, point_dict, color='k')"
      ],
      "execution_count": 4,
      "outputs": [
        {
          "output_type": "display_data",
          "data": {
            "text/latex": "$\\displaystyle Point2D\\left(\\frac{\\sqrt{6}}{2}, \\frac{\\sqrt{6}}{2}\\right)$",
            "text/plain": [
              "Point2D(sqrt(6)/2, sqrt(6)/2)"
            ]
          },
          "metadata": {
            "tags": []
          }
        },
        {
          "output_type": "display_data",
          "data": {
            "application/vnd.google.colaboratory.intrinsic+json": {
              "type": "string"
            },
            "text/plain": [
              "'площадь: '"
            ]
          },
          "metadata": {
            "tags": []
          }
        },
        {
          "output_type": "display_data",
          "data": {
            "text/latex": "$\\displaystyle \\frac{3 \\sqrt{3}}{2}$",
            "text/plain": [
              "3*sqrt(3)/2"
            ]
          },
          "metadata": {
            "tags": []
          }
        },
        {
          "output_type": "display_data",
          "data": {
            "application/vnd.google.colaboratory.intrinsic+json": {
              "type": "string"
            },
            "text/plain": [
              "' периметр: '"
            ]
          },
          "metadata": {
            "tags": []
          }
        },
        {
          "output_type": "display_data",
          "data": {
            "text/latex": "$\\displaystyle 2 \\sqrt{3} + 6$",
            "text/plain": [
              "2*sqrt(3) + 6"
            ]
          },
          "metadata": {
            "tags": []
          }
        },
        {
          "output_type": "display_data",
          "data": {
            "application/vnd.google.colaboratory.intrinsic+json": {
              "type": "string"
            },
            "text/plain": [
              "' центр: '"
            ]
          },
          "metadata": {
            "tags": []
          }
        },
        {
          "output_type": "display_data",
          "data": {
            "text/latex": "$\\displaystyle Point2D\\left(\\frac{5 \\sqrt{6}}{12}, \\frac{5 \\sqrt{6}}{12}\\right)$",
            "text/plain": [
              "Point2D(5*sqrt(6)/12, 5*sqrt(6)/12)"
            ]
          },
          "metadata": {
            "tags": []
          }
        },
        {
          "output_type": "display_data",
          "data": {
            "image/png": "[encoded data removed]",
            "text/plain": [
              "<Figure size 432x288 with 1 Axes>"
            ]
          },
          "metadata": {
            "tags": [],
            "needs_background": "light"
          }
        }
      ]
    },
    {
      "cell_type": "markdown",
      "metadata": {
        "id": "_mQFIVIl6MPs"
      },
      "source": [
        "### Задание 3\n",
        "Постоить ромб ALCD с точками A, C и D из Заданий 1 и 2. Найти общую часть треугольника BLC и ромба и вывести на экран в виде имен точек, отрезков и т.п., изобразить на графике  треугольник зеленым, ромб - фиолетовым. \n",
        "\n",
        "Указание: диагонали ромба пересекаются в серединах; имя точки искать в словаре имен."
      ]
    },
    {
      "cell_type": "code",
      "metadata": {
        "id": "HZuyuNcT6MPs",
        "colab": {
          "base_uri": "https://localhost:8080/",
          "height": 374
        },
        "outputId": "1a09dc4c-c661-468c-9c8c-322b9876de9e"
      },
      "source": [
        "display(D)\n",
        "midAC = Segment(A, C).midpoint\n",
        "L = D.rotate(Pi, midAC)\n",
        "ALCD = Polygon(A, L, C, D)\n",
        "BLC = Polygon(B, L, C)\n",
        "display('Intersection: ', ALCD.intersection(BLC))\n",
        "point_dict = {A: 'A',B:'B', L: 'L', C: 'C', D: 'D'}\n",
        "draw_polygon(ALCD, point_dict, color='purple')\n",
        "draw_polygon(BLC, point_dict, color='green')"
      ],
      "execution_count": 37,
      "outputs": [
        {
          "output_type": "display_data",
          "data": {
            "text/latex": "$\\displaystyle Point2D\\left(\\frac{\\sqrt{6}}{2}, \\frac{\\sqrt{6}}{2}\\right)$",
            "text/plain": [
              "Point2D(sqrt(6)/2, sqrt(6)/2)"
            ]
          },
          "metadata": {
            "tags": []
          }
        },
        {
          "output_type": "display_data",
          "data": {
            "application/vnd.google.colaboratory.intrinsic+json": {
              "type": "string"
            },
            "text/plain": [
              "'Intersection: '"
            ]
          },
          "metadata": {
            "tags": []
          }
        },
        {
          "output_type": "display_data",
          "data": {
            "text/plain": [
              "[Point2D(sqrt(6)/2, sqrt(6)/2),\n",
              " Segment2D(Point2D(sqrt(6), sqrt(6)), Point2D(3*sqrt(2)/4 + 3*sqrt(6)/4, -3*sqrt(2)/4 + 3*sqrt(6)/4))]"
            ]
          },
          "metadata": {
            "tags": []
          }
        },
        {
          "output_type": "display_data",
          "data": {
            "image/png": "[encoded data removed]",
            "text/plain": [
              "<Figure size 432x288 with 1 Axes>"
            ]
          },
          "metadata": {
            "tags": [],
            "needs_background": "light"
          }
        }
      ]
    },
    {
      "cell_type": "markdown",
      "metadata": {
        "id": "i6LfDvWO6MPs"
      },
      "source": [
        "### Индивидуальное задание\n",
        "\n",
        "Построить на одном графике правильный треугольник, шестиугольник и восьмиугольник с радиусом описанной окружности $R$, центром в точке O.\n",
        "\n",
        "Повернуть треугольник на $\\alpha$ градусов, изобразить старый и новый треугольники на одном графике.\n",
        "\n",
        "Найти общую область правильного шестиугольника и его копии, повернутой на угол $\\beta$ градусов.\n",
        "\n",
        "Вариант N 132\n",
        "\n",
        "$R = 9$, $\\alpha = -60$, $\\beta = 75$, O(-10, 12)"
      ]
    },
    {
      "cell_type": "code",
      "metadata": {
        "id": "RV9ae4Hg6MPt",
        "colab": {
          "base_uri": "https://localhost:8080/",
          "height": 492
        },
        "outputId": "a836b09e-9216-4513-b65d-7c2cb2a44734"
      },
      "source": [
        "center = Point(-10, 12)\r\n",
        "R = 9\r\n",
        "Poly3 = RegularPolygon(center, R, 3)\r\n",
        "Poly6 = RegularPolygon(center, R, 6)\r\n",
        "Poly8 = RegularPolygon(center, R, 8)\r\n",
        "NewTriangle = Poly3.rotate(Pi/3, center)\r\n",
        "NewHex = Poly6.rotate(-19*Pi/12, center)\r\n",
        "draw_polygon(NewHex, color='y')\r\n",
        "draw_polygon(NewTriangle, color='y')\r\n",
        "draw_polygon(Poly3, color='g')\r\n",
        "draw_polygon(Poly6, color='g')\r\n",
        "draw_polygon(Poly8, color='g')\r\n",
        "display('Intersection hex and copy: ', NewHex.intersection(Poly6))"
      ],
      "execution_count": 45,
      "outputs": [
        {
          "output_type": "display_data",
          "data": {
            "application/vnd.google.colaboratory.intrinsic+json": {
              "type": "string"
            },
            "text/plain": [
              "'Intersection hex and copy: '"
            ]
          },
          "metadata": {
            "tags": []
          }
        },
        {
          "output_type": "display_data",
          "data": {
            "text/plain": [
              "[Point2D(-10 - 9*sqrt(3)/2 + 9*sqrt(6)/2, 9*sqrt(3)/2 + 12),\n",
              " Point2D(-9*sqrt(6)/2 - 10 + 9*sqrt(3)/2, 12 - 9*sqrt(3)/2),\n",
              " Point2D(-67/4 - 9*sqrt(3)/4 + 9*sqrt(6)/4, 9*sqrt(3)/4 + 21/4 + 27*sqrt(2)/4),\n",
              " Point2D(-67/4 - 9*sqrt(6)/4 + 9*sqrt(3)/4, -9*sqrt(3)/4 + 21/4 + 27*sqrt(2)/4),\n",
              " Point2D(-9*sqrt(3)/4 - 13/4 + 9*sqrt(6)/4, -27*sqrt(2)/4 + 9*sqrt(3)/4 + 75/4),\n",
              " Point2D(-9*sqrt(6)/4 - 13/4 + 9*sqrt(3)/4, -27*sqrt(2)/4 - 9*sqrt(3)/4 + 75/4),\n",
              " Point2D(-47/2 - 9*sqrt(3) + 9*sqrt(6)/2 + 27*sqrt(2)/2, 12 - 9*sqrt(3)/2),\n",
              " Point2D(-27*sqrt(2)/2 - 9*sqrt(6)/2 + 7/2 + 9*sqrt(3), 9*sqrt(3)/2 + 12),\n",
              " Point2D(-47/2 - 9*sqrt(3)/2 + 9*sqrt(6)/4 + 27*sqrt(2)/4, -27*sqrt(6)/4 - 27*sqrt(2)/4 + 9*sqrt(3)/2 + 51/2),\n",
              " Point2D(-10 - 27*sqrt(2)/4 - 9*sqrt(6)/4 + 9*sqrt(3)/2, -27*sqrt(6)/4 - 27*sqrt(2)/4 + 9*sqrt(3) + 51/2),\n",
              " Point2D(-10 - 9*sqrt(3)/2 + 9*sqrt(6)/4 + 27*sqrt(2)/4, -9*sqrt(3) - 3/2 + 27*sqrt(2)/4 + 27*sqrt(6)/4),\n",
              " Point2D(-27*sqrt(2)/4 - 9*sqrt(6)/4 + 7/2 + 9*sqrt(3)/2, -9*sqrt(3)/2 - 3/2 + 27*sqrt(2)/4 + 27*sqrt(6)/4)]"
            ]
          },
          "metadata": {
            "tags": []
          }
        },
        {
          "output_type": "display_data",
          "data": {
            "image/png": "[encoded data removed]",
            "text/plain": [
              "<Figure size 432x288 with 1 Axes>"
            ]
          },
          "metadata": {
            "tags": [],
            "needs_background": "light"
          }
        }
      ]
    }
  ]
}