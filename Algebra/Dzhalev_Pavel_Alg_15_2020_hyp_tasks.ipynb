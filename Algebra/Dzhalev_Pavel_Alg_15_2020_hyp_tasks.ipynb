{
  "nbformat": 4,
  "nbformat_minor": 0,
  "metadata": {
    "kernelspec": {
      "display_name": "Python 3",
      "language": "python",
      "name": "python3"
    },
    "language_info": {
      "codemirror_mode": {
        "name": "ipython",
        "version": 3
      },
      "file_extension": ".py",
      "mimetype": "text/x-python",
      "name": "python",
      "nbconvert_exporter": "python",
      "pygments_lexer": "ipython3",
      "version": "3.7.3"
    },
    "colab": {
      "name": "Dzhalev_Pavel_Alg_15_2020_hyp_tasks.ipynb",
      "provenance": [],
      "collapsed_sections": []
    }
  },
  "cells": [
    {
      "cell_type": "code",
      "metadata": {
        "id": "n3TtiCO3CDvT"
      },
      "source": [
        "import numpy as np\n",
        "import sympy\n",
        "from sympy import Expr, Eq, latex, plot_implicit, tan, cot\n",
        "from sympy.core import S, pi, sympify\n",
        "from sympy.core.logic import fuzzy_bool\n",
        "from sympy.core.numbers import Rational, oo\n",
        "from sympy.core.compatibility import ordered\n",
        "from sympy.core.symbol import Dummy, _uniquely_named_symbol, _symbol\n",
        "from sympy.simplify import simplify, trigsimp\n",
        "from sympy.functions.elementary.miscellaneous import sqrt, Max\n",
        "from sympy.functions.elementary.trigonometric import cos, sin\n",
        "from sympy.functions.special.elliptic_integrals import elliptic_e\n",
        "from sympy.geometry.exceptions import GeometryError\n",
        "from sympy.geometry.line import Ray2D, Segment2D, Line2D, LinearEntity3D\n",
        "from sympy.polys import DomainError, Poly, PolynomialError\n",
        "from sympy.polys.polyutils import _not_a_coeff, _nsort\n",
        "from sympy.solvers import solve\n",
        "from sympy.solvers.solveset import linear_coeffs\n",
        "from sympy.utilities.misc import filldedent, func_name\n",
        "from sympy.geometry.entity import GeometryEntity, GeometrySet\n",
        "from sympy.geometry.point import Point, Point2D, Point3D\n",
        "from sympy.geometry.line import Line, Segment\n",
        "from sympy.geometry.util import idiff\n",
        "import matplotlib.pyplot as plt\n",
        "%matplotlib inline"
      ],
      "execution_count": 3,
      "outputs": []
    },
    {
      "cell_type": "markdown",
      "metadata": {
        "id": "vtTLX0McCDvf"
      },
      "source": [
        "# Занятие 15\n",
        "# Алгебра\n",
        "## Кривые второго порядка на плоскости: гипербола"
      ]
    },
    {
      "cell_type": "code",
      "metadata": {
        "id": "qoGzee3LCDvi"
      },
      "source": [
        "class Hyperbola(GeometrySet):\n",
        "    \"\"\"\n",
        "     Attributes\n",
        "    ==========\n",
        "    center\n",
        "    hradius\n",
        "    vradius\n",
        "    eccentricity\n",
        "    periapsis\n",
        "    focus_distance\n",
        "    foci\n",
        "    ==========\n",
        "    конструктор __new__\n",
        "    скопирован из Эллипса,\n",
        "    изменена формула для  hradius и vradius через эсцентриситет\n",
        "    \"\"\"\n",
        "    def __new__(\n",
        "        cls, center=None, hradius=None, vradius=None, eccentricity=None, **kwargs):\n",
        "        hradius = sympify(hradius)\n",
        "        vradius = sympify(vradius)\n",
        "\n",
        "        eccentricity = sympify(eccentricity)\n",
        "\n",
        "        if center is None:\n",
        "            center = Point(0, 0)\n",
        "        else:\n",
        "            center = Point(center, dim=2)\n",
        "\n",
        "        if len(center) != 2:\n",
        "            raise ValueError('The center of \"{0}\" must be a two dimensional point'.format(cls))\n",
        "\n",
        "        if len(list(filter(lambda x: x is not None, (hradius, vradius, eccentricity)))) != 2:\n",
        "            raise ValueError(filldedent('''\n",
        "                Exactly two arguments of \"hradius\", \"vradius\", and\n",
        "                \"eccentricity\" must not be None.'''))\n",
        "\n",
        "        if eccentricity is not None:\n",
        "            if hradius is None:\n",
        "                hradius = vradius/sqrt( eccentricity**2 - 1)\n",
        "            elif vradius is None:\n",
        "                vradius = hradius*sqrt( eccentricity**2 - 1)\n",
        "\n",
        "        if hradius == 0:\n",
        "            return \"Line\"\n",
        "        if vradius == 0:\n",
        "            return \"Rays\"\n",
        "        return GeometryEntity.__new__(cls, center, hradius, vradius, **kwargs)\n",
        "    \n",
        "    @property\n",
        "    def ambient_dimension(self):\n",
        "        return 2\n",
        "    \n",
        "    @property\n",
        "    def center(self):\n",
        "        return self.args[0]\n",
        "\n",
        "    @property\n",
        "    def hradius(self):\n",
        "        return self.args[1]\n",
        "    \n",
        "    @property\n",
        "    def vradius(self):\n",
        "        return self.args[2]\n",
        "    @property\n",
        "    def focus_distance(self):\n",
        "        return sqrt(self.hradius**2 + self.vradius**2)\n",
        "    \n",
        "    @property\n",
        "    def eccentricity(self):\n",
        "        \"\"\"The eccentricity of the ellipse.\"\"\"\n",
        "        return self.focus_distance/self.hradius\n",
        "    \n",
        "    @property\n",
        "    def periapsis(self):\n",
        "        \"\"\"The apoapsis of the hyperbola.\n",
        "        The smallest distance between the focus and the contour.\"\"\"\n",
        "        return self.focus_distance-self.hradius\n",
        "    @property\n",
        "    def foci(self):\n",
        "        return (self.center + Point(-self.focus_distance, 0), self.center + Point(self.focus_distance, 0))\n",
        "    \n",
        "    @property\n",
        "    def major(self):\n",
        "        return self.hradius\n",
        "    \n",
        "    @property\n",
        "    def minor(self):\n",
        "        return self.vradius\n",
        "    \n",
        "    def equation(self, x='x', y='y', _slope=None, equation=False):\n",
        "        \"\"\"\n",
        "        Returns the equation of a hyperbola aligned with the x and y axes;\n",
        "        when slope is given, the equation returned corresponds to a hyperbola \n",
        "        with a major axis having that slope.\n",
        "        Parameters\n",
        "        ==========\n",
        "        x : str, optional\n",
        "            Label for the x-axis. Default value is 'x'.\n",
        "        y : str, optional\n",
        "            Label for the y-axis. Default value is 'y'.\n",
        "        _slope : Expr, optional\n",
        "                The slope of the major axis. Ignored when 'None'.\n",
        "        Returns\n",
        "        =======\n",
        "        equation : sympy expression   \"\"\"\n",
        "\n",
        "        x = _symbol(x, real=True)\n",
        "        y = _symbol(y, real=True)\n",
        "\n",
        "        dx = x - self.center.x\n",
        "        dy = y - self.center.y\n",
        "\n",
        "        if _slope is not None:\n",
        "            L = (dy - _slope*dx)**2\n",
        "            l = (_slope*dy + dx)**2\n",
        "            h = 1 + _slope**2\n",
        "            a = h*self.major**2\n",
        "            b = h*self.minor**2\n",
        "            res= l/a - L/b \n",
        "\n",
        "        else:\n",
        "            t1 = (dx/self.hradius)**2\n",
        "            t2 = (dy/self.vradius)**2\n",
        "            res = t1 - t2 \n",
        "        if not equation:\n",
        "            return res - 1\n",
        "        else:\n",
        "            return Eq(res, 1)\n",
        "\n",
        "    def asymptote(self, x='x', y='y', equation=False):\n",
        "      \"\"\"\n",
        "      A method that returns asymptotes either as equations or expressions.\n",
        "      \"\"\"\n",
        "      x = _symbol(x, real=True)\n",
        "      y = _symbol(y, real=True)\n",
        "\n",
        "      if(equation):\n",
        "        y1 = Eq(y, self.center.y + self.vradius/self.hradius*(x - self.center.x))\n",
        "        y2 = Eq(y, self.center.y - self.vradius/self.hradius*(x - self.center.x))\n",
        "        return [y1, y2]\n",
        "\n",
        "    def directrix(self, x='x', equation=False):\n",
        "      \"\"\"\n",
        "      A method that returns the directrix.\n",
        "      \"\"\"\n",
        "\n",
        "      x = _symbol(x, real=True)\n",
        "\n",
        "      if(equation):\n",
        "        x1 = Eq(x, self.center.x + self.hradius**2/self.focus_distance)\n",
        "        x2 = Eq(x, self.center.x - self.hradius**2/self.focus_distance)\n",
        "        return [x1, x2]\n",
        "\n",
        "    def asymptoteTurned(self, alpha, x='x', y='y', equation=True):\n",
        "      \"\"\"\n",
        "      A method that returns asymptotes either as equations or expressions.\n",
        "      \"\"\"\n",
        "      x = _symbol(x, real=True)\n",
        "      y = _symbol(y, real=True)\n",
        "\n",
        "      k1 = (self.vradius + self.hradius*tan(alpha))/(self.hradius - self.vradius*tan(alpha))\n",
        "      k2 = (-self.vradius + self.hradius*tan(alpha))/(self.hradius - self.vradius*tan(alpha))\n",
        "\n",
        "      if(equation):\n",
        "        y1 = Eq(y, self.center.y + k1*(x - self.center.x))\n",
        "        y2 = Eq(y, self.center.y + k2*(x - self.center.x))\n",
        "        return [y1, y2]\n",
        "\n",
        "    def directrixTurned(self, alpha, x='x', y='y', equation=True):\n",
        "      \"\"\"\n",
        "      A method that returns the directrix.\n",
        "      \"\"\"\n",
        "\n",
        "      x = _symbol(x, real=True)\n",
        "      y = _symbol(y, real=True)\n",
        "\n",
        "      if(equation):\n",
        "        y1 = Eq(y, self.center.y - cot(alpha)*(x - self.center.x) + self.hradius**2/self.focus_distance*sqrt(1 + cot(alpha)))\n",
        "        y2 = Eq(y, self.center.y - cot(alpha)*(x - self.center.x) - self.hradius**2/self.focus_distance*sqrt(1 + cot(alpha)))\n",
        "        return [y1, y2]"
      ],
      "execution_count": 102,
      "outputs": []
    },
    {
      "cell_type": "markdown",
      "metadata": {
        "id": "g09Mub5dCDvm"
      },
      "source": [
        "# Занятие 15\n",
        "# Алгебра\n",
        "### Задание 1.\n",
        "Построить гиперболу с центром в точке А(1, 2), полуосями 12 и 5. Вывести на экран эксцентриситет, фокусное расстояние, фокусы (с координатами), periapsis и уравнение гиперболы."
      ]
    },
    {
      "cell_type": "code",
      "metadata": {
        "id": "SSOc3rl0CDvp",
        "colab": {
          "base_uri": "https://localhost:8080/",
          "height": 244
        },
        "outputId": "5aaa31e3-158b-4481-b64c-bb56bbca5e7b"
      },
      "source": [
        "hyp1 = Hyperbola(center = Point(1, 2),  hradius=12, vradius=5)\n",
        "display('эксцентриситет: ', hyp1.eccentricity,\n",
        "        'фокусное растояние: ', hyp1.focus_distance,\n",
        "        'фокусы: ', hyp1.foci,\n",
        "        'periapsis: ', hyp1.periapsis,\n",
        "        'уравнение хиперболы: ', hyp1.equation(),)"
      ],
      "execution_count": 84,
      "outputs": [
        {
          "output_type": "display_data",
          "data": {
            "application/vnd.google.colaboratory.intrinsic+json": {
              "type": "string"
            },
            "text/plain": [
              "'эксцентриситет: '"
            ]
          },
          "metadata": {
            "tags": []
          }
        },
        {
          "output_type": "display_data",
          "data": {
            "text/latex": "$\\displaystyle \\frac{13}{12}$",
            "text/plain": [
              "13/12"
            ]
          },
          "metadata": {
            "tags": []
          }
        },
        {
          "output_type": "display_data",
          "data": {
            "application/vnd.google.colaboratory.intrinsic+json": {
              "type": "string"
            },
            "text/plain": [
              "'фокусное растояние: '"
            ]
          },
          "metadata": {
            "tags": []
          }
        },
        {
          "output_type": "display_data",
          "data": {
            "text/latex": "$\\displaystyle 13$",
            "text/plain": [
              "13"
            ]
          },
          "metadata": {
            "tags": []
          }
        },
        {
          "output_type": "display_data",
          "data": {
            "application/vnd.google.colaboratory.intrinsic+json": {
              "type": "string"
            },
            "text/plain": [
              "'фокусы: '"
            ]
          },
          "metadata": {
            "tags": []
          }
        },
        {
          "output_type": "display_data",
          "data": {
            "text/plain": [
              "(Point2D(-12, 2), Point2D(14, 2))"
            ]
          },
          "metadata": {
            "tags": []
          }
        },
        {
          "output_type": "display_data",
          "data": {
            "application/vnd.google.colaboratory.intrinsic+json": {
              "type": "string"
            },
            "text/plain": [
              "'periapsis: '"
            ]
          },
          "metadata": {
            "tags": []
          }
        },
        {
          "output_type": "display_data",
          "data": {
            "text/latex": "$\\displaystyle 1$",
            "text/plain": [
              "1"
            ]
          },
          "metadata": {
            "tags": []
          }
        },
        {
          "output_type": "display_data",
          "data": {
            "application/vnd.google.colaboratory.intrinsic+json": {
              "type": "string"
            },
            "text/plain": [
              "'уравнение хиперболы: '"
            ]
          },
          "metadata": {
            "tags": []
          }
        },
        {
          "output_type": "display_data",
          "data": {
            "text/latex": "$\\displaystyle \\left(\\frac{x}{12} - \\frac{1}{12}\\right)^{2} - \\left(\\frac{y}{5} - \\frac{2}{5}\\right)^{2} - 1$",
            "text/plain": [
              "(x/12 - 1/12)**2 - (y/5 - 2/5)**2 - 1"
            ]
          },
          "metadata": {
            "tags": []
          }
        }
      ]
    },
    {
      "cell_type": "markdown",
      "metadata": {
        "id": "IXufojW2CDvr"
      },
      "source": [
        "### Задание 2.\n",
        "Добавить в описание класса гипербол методы \n",
        "\n",
        "asymptote(self, x='x', y='y', equation=False)\n",
        "\n",
        "directrix(self, x='x', equation=False)\n",
        "\n",
        "Для гиперболы Задания 1 вывести на экран уравнения асимптот и директрис."
      ]
    },
    {
      "cell_type": "code",
      "metadata": {
        "id": "Nns4uMoVCDvt",
        "colab": {
          "base_uri": "https://localhost:8080/",
          "height": 190
        },
        "outputId": "a37d646d-ca77-4a63-e38c-40d0bd9ff00c"
      },
      "source": [
        "display('Асимптоты:', *hyp1.asymptote(equation = True),\n",
        "        'Директрисы: ', *hyp1.directrix(equation=True))"
      ],
      "execution_count": 85,
      "outputs": [
        {
          "output_type": "display_data",
          "data": {
            "application/vnd.google.colaboratory.intrinsic+json": {
              "type": "string"
            },
            "text/plain": [
              "'Асимптоты:'"
            ]
          },
          "metadata": {
            "tags": []
          }
        },
        {
          "output_type": "display_data",
          "data": {
            "text/latex": "$\\displaystyle y = \\frac{5 x}{12} + \\frac{19}{12}$",
            "text/plain": [
              "Eq(y, 5*x/12 + 19/12)"
            ]
          },
          "metadata": {
            "tags": []
          }
        },
        {
          "output_type": "display_data",
          "data": {
            "text/latex": "$\\displaystyle y = \\frac{29}{12} - \\frac{5 x}{12}$",
            "text/plain": [
              "Eq(y, 29/12 - 5*x/12)"
            ]
          },
          "metadata": {
            "tags": []
          }
        },
        {
          "output_type": "display_data",
          "data": {
            "application/vnd.google.colaboratory.intrinsic+json": {
              "type": "string"
            },
            "text/plain": [
              "'Директрисы: '"
            ]
          },
          "metadata": {
            "tags": []
          }
        },
        {
          "output_type": "display_data",
          "data": {
            "text/latex": "$\\displaystyle x = \\frac{157}{13}$",
            "text/plain": [
              "Eq(x, 157/13)"
            ]
          },
          "metadata": {
            "tags": []
          }
        },
        {
          "output_type": "display_data",
          "data": {
            "text/latex": "$\\displaystyle x = - \\frac{131}{13}$",
            "text/plain": [
              "Eq(x, -131/13)"
            ]
          },
          "metadata": {
            "tags": []
          }
        }
      ]
    },
    {
      "cell_type": "markdown",
      "metadata": {
        "id": "AiM4Ld0rCDvu"
      },
      "source": [
        "### Задание 3.\n",
        "Вывести на экран уравнение гиперболы из задания 1 с поворотом на 30 градусов против часовой стрелки относительно ее центра.\n",
        "Изобразить повернутую гиперболу с помощью plot_implicit."
      ]
    },
    {
      "cell_type": "code",
      "metadata": {
        "id": "_XGBg68ICDvv",
        "colab": {
          "base_uri": "https://localhost:8080/",
          "height": 69
        },
        "outputId": "6152c931-752b-4ba5-9d06-231ab4261742"
      },
      "source": [
        "hyp2 = hyp1.equation(_slope=tan(pi/6))\n",
        "display(hyp2)"
      ],
      "execution_count": 68,
      "outputs": [
        {
          "output_type": "display_data",
          "data": {
            "text/latex": "$\\displaystyle \\frac{\\left(x + \\frac{\\sqrt{3} \\left(y - 2\\right)}{3} - 1\\right)^{2}}{192} - \\frac{3 \\left(y - \\frac{\\sqrt{3} \\left(x - 1\\right)}{3} - 2\\right)^{2}}{100} - 1$",
            "text/plain": [
              "(x + sqrt(3)*(y - 2)/3 - 1)**2/192 - 3*(y - sqrt(3)*(x - 1)/3 - 2)**2/100 - 1"
            ]
          },
          "metadata": {
            "tags": []
          }
        }
      ]
    },
    {
      "cell_type": "code",
      "metadata": {
        "colab": {
          "base_uri": "https://localhost:8080/",
          "height": 314
        },
        "id": "xorixku-ltDE",
        "outputId": "b06a537d-53c9-433f-a631-2fdfce56e9f3"
      },
      "source": [
        "dict_free = {str(a): a for a in hyp2.free_symbols}\n",
        "plot_implicit(hyp2, (dict_free['x'], -20, 20), (dict_free['y'], -20, 20),\n",
        " line_color='r', aspect_ratio=(1, 1))\n"
      ],
      "execution_count": 72,
      "outputs": [
        {
          "output_type": "display_data",
          "data": {
            "image/png": "[encoded data removed]",
            "text/plain": [
              "<Figure size 432x288 with 1 Axes>"
            ]
          },
          "metadata": {
            "tags": [],
            "needs_background": "light"
          }
        },
        {
          "output_type": "execute_result",
          "data": {
            "text/plain": [
              "<sympy.plotting.plot.Plot at 0x7f20aa548e90>"
            ]
          },
          "metadata": {
            "tags": []
          },
          "execution_count": 72
        }
      ]
    },
    {
      "cell_type": "markdown",
      "metadata": {
        "id": "hzDi5KWpCDvw"
      },
      "source": [
        "## Уравнения директрис и асимптот при повороте на угол $\\alpha$\n",
        "Пусть  $a$ - горизонтальная полуось, $c$ - фокусное расстояние, $x_0$ - горизонтальная координата центра гиперболы, тогда уравнение директрис \n",
        "$$\n",
        "x = x_0 \\pm \\frac{a^2}{c}\n",
        "$$\n",
        "При повороте на угол $\\alpha$ получается уравнение\n",
        "$$\n",
        "y = y_0 -{\\rm ctg} \\alpha(x - x_0) \\pm \\frac{a^2}{c}\\sqrt{1 + {\\rm ctg} \\alpha}\n",
        "$$\n",
        "Уравнение асимптоты\n",
        "$$\n",
        "y = y_0 \\pm \\frac{b}{a}(x - x_0)\n",
        "$$\n",
        "При повороте на угол $\\alpha$ получаются уравнения\n",
        "\\begin{align*}\n",
        "y_1 = y_0 + k_1(x - x_0), \\quad \n",
        "y_2 = y_0 + k_2(x - x_0), \\\\ \n",
        "k_1 = \\frac{b + a{\\rm tg} \\alpha}{a - b{\\rm tg} \\alpha},\\quad \n",
        "k_2 = \\frac{-b + a{\\rm tg} \\alpha}{a + b{\\rm tg} \\alpha}\n",
        "\\end{align*}\n",
        "### Задание 4.\n",
        "Изобразить гиперболу Задания 3 (т.е. повернутую на угол) и ее асимптоты и директрисы на одном графике plot_implicit."
      ]
    },
    {
      "cell_type": "code",
      "metadata": {
        "id": "qxhgFotCCDvy",
        "colab": {
          "base_uri": "https://localhost:8080/",
          "height": 297
        },
        "outputId": "4bfe79e2-3854-4d0b-e0f4-a65d7c1222f3"
      },
      "source": [
        "eq1 = hyp1.equation(x='x', y='y')\n",
        "dict_free = {str(a): a for a in eq1.free_symbols}\n",
        "p = plot_implicit(eq1, (dict_free['x'], -20, 20), (dict_free['y'], -20, 20),\n",
        " line_color='r', aspect_ratio=(1, 1), show=False, adaptive=False)\n",
        "p.extend(plot_implicit(hyp2, (dict_free['x'], -20, 20), (dict_free['y'\n",
        "], -20, 20),\n",
        " line_color='g', aspect_ratio=(1, 1), show=False, adaptive=False))\n",
        "p.show()"
      ],
      "execution_count": 77,
      "outputs": [
        {
          "output_type": "display_data",
          "data": {
            "image/png": "[encoded data removed]",
            "text/plain": [
              "<Figure size 432x288 with 1 Axes>"
            ]
          },
          "metadata": {
            "tags": [],
            "needs_background": "light"
          }
        }
      ]
    },
    {
      "cell_type": "markdown",
      "metadata": {
        "id": "jibp-2IiCDvz"
      },
      "source": [
        "###  Индивидуальное задание\n",
        "Определить гиперболу с центром в точке $5, 0$, полуосями $7$ и $4$.  Вывести на экран эксцентриситет, фокусное расстояние, фокусы (с координатами), periapsis, уравнение гиперболы, уравнения асимптот и директрис. \n",
        "\n",
        "Изобразить гиперболу, повернутую на $\\pi/4$ градусов по часовой стрелки относительно ее центра, соответствующие асимптоты и директрисы. Вывести на экран уравнения повернутой гиперболы, соответствующих асимптот и директрис."
      ]
    },
    {
      "cell_type": "code",
      "metadata": {
        "id": "GDex6Gs2CDv0",
        "colab": {
          "base_uri": "https://localhost:8080/",
          "height": 323
        },
        "outputId": "b02a8d5b-6089-49f9-e5c4-31315865b5a9"
      },
      "source": [
        "hyp3 = Hyperbola(Point(5, 0), hradius=7, vradius=4)\n",
        "display('эксцентриситет: ', hyp3.eccentricity,\n",
        "        'фокусное растояние: ', hyp3.focus_distance,\n",
        "        'фокусы: ', hyp3.foci,\n",
        "        'periapsis: ', hyp3.periapsis,\n",
        "        'уравнение хиперболы: ', hyp3.equation(),\n",
        "        'уравнения асимптот: ', hyp3.asymptote(equation=True),\n",
        "        'директрис: ', hyp3.directrix(equation=True))"
      ],
      "execution_count": 103,
      "outputs": [
        {
          "output_type": "display_data",
          "data": {
            "application/vnd.google.colaboratory.intrinsic+json": {
              "type": "string"
            },
            "text/plain": [
              "'эксцентриситет: '"
            ]
          },
          "metadata": {
            "tags": []
          }
        },
        {
          "output_type": "display_data",
          "data": {
            "text/latex": "$\\displaystyle \\frac{\\sqrt{65}}{7}$",
            "text/plain": [
              "sqrt(65)/7"
            ]
          },
          "metadata": {
            "tags": []
          }
        },
        {
          "output_type": "display_data",
          "data": {
            "application/vnd.google.colaboratory.intrinsic+json": {
              "type": "string"
            },
            "text/plain": [
              "'фокусное растояние: '"
            ]
          },
          "metadata": {
            "tags": []
          }
        },
        {
          "output_type": "display_data",
          "data": {
            "text/latex": "$\\displaystyle \\sqrt{65}$",
            "text/plain": [
              "sqrt(65)"
            ]
          },
          "metadata": {
            "tags": []
          }
        },
        {
          "output_type": "display_data",
          "data": {
            "application/vnd.google.colaboratory.intrinsic+json": {
              "type": "string"
            },
            "text/plain": [
              "'фокусы: '"
            ]
          },
          "metadata": {
            "tags": []
          }
        },
        {
          "output_type": "display_data",
          "data": {
            "text/plain": [
              "(Point2D(5 - sqrt(65), 0), Point2D(5 + sqrt(65), 0))"
            ]
          },
          "metadata": {
            "tags": []
          }
        },
        {
          "output_type": "display_data",
          "data": {
            "application/vnd.google.colaboratory.intrinsic+json": {
              "type": "string"
            },
            "text/plain": [
              "'periapsis: '"
            ]
          },
          "metadata": {
            "tags": []
          }
        },
        {
          "output_type": "display_data",
          "data": {
            "text/latex": "$\\displaystyle -7 + \\sqrt{65}$",
            "text/plain": [
              "-7 + sqrt(65)"
            ]
          },
          "metadata": {
            "tags": []
          }
        },
        {
          "output_type": "display_data",
          "data": {
            "application/vnd.google.colaboratory.intrinsic+json": {
              "type": "string"
            },
            "text/plain": [
              "'уравнение хиперболы: '"
            ]
          },
          "metadata": {
            "tags": []
          }
        },
        {
          "output_type": "display_data",
          "data": {
            "text/latex": "$\\displaystyle - \\frac{y^{2}}{16} + \\left(\\frac{x}{7} - \\frac{5}{7}\\right)^{2} - 1$",
            "text/plain": [
              "-y**2/16 + (x/7 - 5/7)**2 - 1"
            ]
          },
          "metadata": {
            "tags": []
          }
        },
        {
          "output_type": "display_data",
          "data": {
            "application/vnd.google.colaboratory.intrinsic+json": {
              "type": "string"
            },
            "text/plain": [
              "'уравнения асимптот: '"
            ]
          },
          "metadata": {
            "tags": []
          }
        },
        {
          "output_type": "display_data",
          "data": {
            "text/plain": [
              "[Eq(y, 4*x/7 - 20/7), Eq(y, 20/7 - 4*x/7)]"
            ]
          },
          "metadata": {
            "tags": []
          }
        },
        {
          "output_type": "display_data",
          "data": {
            "application/vnd.google.colaboratory.intrinsic+json": {
              "type": "string"
            },
            "text/plain": [
              "'директрис: '"
            ]
          },
          "metadata": {
            "tags": []
          }
        },
        {
          "output_type": "display_data",
          "data": {
            "text/plain": [
              "[Eq(x, 5 + 49*sqrt(65)/65), Eq(x, 5 - 49*sqrt(65)/65)]"
            ]
          },
          "metadata": {
            "tags": []
          }
        }
      ]
    },
    {
      "cell_type": "code",
      "metadata": {
        "colab": {
          "base_uri": "https://localhost:8080/",
          "height": 244
        },
        "id": "o2R5d_nBooi9",
        "outputId": "59baba69-9e7a-48b7-a4d6-d7f59507807c"
      },
      "source": [
        "eq3Turned = hyp3.equation(_slope=-tan(pi/4))\n",
        "display('гиперболу, повернутую на  π/4  градусов по часовой стрелки', eq3Turned,\n",
        "        'асимптот', *hyp3.asymptoteTurned(alpha=pi/4),\n",
        "        'дирекстрис', *hyp3.directrixTurned(alpha=pi/4))"
      ],
      "execution_count": 104,
      "outputs": [
        {
          "output_type": "display_data",
          "data": {
            "application/vnd.google.colaboratory.intrinsic+json": {
              "type": "string"
            },
            "text/plain": [
              "'гиперболу, повернутую на  π/4  градусов по часовой стрелки'"
            ]
          },
          "metadata": {
            "tags": []
          }
        },
        {
          "output_type": "display_data",
          "data": {
            "text/latex": "$\\displaystyle \\frac{\\left(x - y - 5\\right)^{2}}{98} - \\frac{\\left(x + y - 5\\right)^{2}}{32} - 1$",
            "text/plain": [
              "(x - y - 5)**2/98 - (x + y - 5)**2/32 - 1"
            ]
          },
          "metadata": {
            "tags": []
          }
        },
        {
          "output_type": "display_data",
          "data": {
            "application/vnd.google.colaboratory.intrinsic+json": {
              "type": "string"
            },
            "text/plain": [
              "'асимптот'"
            ]
          },
          "metadata": {
            "tags": []
          }
        },
        {
          "output_type": "display_data",
          "data": {
            "text/latex": "$\\displaystyle y = \\frac{11 x}{3} - \\frac{55}{3}$",
            "text/plain": [
              "Eq(y, 11*x/3 - 55/3)"
            ]
          },
          "metadata": {
            "tags": []
          }
        },
        {
          "output_type": "display_data",
          "data": {
            "text/latex": "$\\displaystyle y = x - 5$",
            "text/plain": [
              "Eq(y, x - 5)"
            ]
          },
          "metadata": {
            "tags": []
          }
        },
        {
          "output_type": "display_data",
          "data": {
            "application/vnd.google.colaboratory.intrinsic+json": {
              "type": "string"
            },
            "text/plain": [
              "'дирекстрис'"
            ]
          },
          "metadata": {
            "tags": []
          }
        },
        {
          "output_type": "display_data",
          "data": {
            "text/latex": "$\\displaystyle y = - x + 5 + \\frac{49 \\sqrt{130}}{65}$",
            "text/plain": [
              "Eq(y, -x + 5 + 49*sqrt(130)/65)"
            ]
          },
          "metadata": {
            "tags": []
          }
        },
        {
          "output_type": "display_data",
          "data": {
            "text/latex": "$\\displaystyle y = - x - \\frac{49 \\sqrt{130}}{65} + 5$",
            "text/plain": [
              "Eq(y, -x - 49*sqrt(130)/65 + 5)"
            ]
          },
          "metadata": {
            "tags": []
          }
        }
      ]
    }
  ]
}