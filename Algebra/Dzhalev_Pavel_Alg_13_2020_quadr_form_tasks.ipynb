{
  "nbformat": 4,
  "nbformat_minor": 0,
  "metadata": {
    "kernelspec": {
      "display_name": "Python 3",
      "language": "python",
      "name": "python3"
    },
    "language_info": {
      "codemirror_mode": {
        "name": "ipython",
        "version": 3
      },
      "file_extension": ".py",
      "mimetype": "text/x-python",
      "name": "python",
      "nbconvert_exporter": "python",
      "pygments_lexer": "ipython3",
      "version": "3.7.3"
    },
    "colab": {
      "name": "Dzhalev_Pavel_Alg_13_2020_quadr_form_tasks.ipynb",
      "provenance": [],
      "collapsed_sections": []
    }
  },
  "cells": [
    {
      "cell_type": "code",
      "metadata": {
        "id": "7itB0fvvKJJm"
      },
      "source": [
        "import sympy\n",
        "from sympy import Eq, S, latex, plot_implicit, Matrix, symbols, simplify, expand, collect, solve, solveset, sqrt\n",
        "from sympy import pi as Pi\n",
        "from sympy import cos as Cos\n",
        "from sympy import sin as Sin\n",
        "import matplotlib.pyplot as plt\n",
        "%matplotlib inline"
      ],
      "execution_count": 4,
      "outputs": []
    },
    {
      "cell_type": "markdown",
      "metadata": {
        "id": "y2OqrnDwKJJo"
      },
      "source": [
        "# Занятие 13\n",
        "# Алгебра\n",
        "### Задание 1.\n",
        "Составить матрицу квадратичной формы $7x^2+10\\sqrt{3}xy-3y^2−20z^2$, проверить, что она определяет именно заданное уравнение. Найти и вывести на экран собственные числа и собственные векторы матрицы квадратичной формы. "
      ]
    },
    {
      "cell_type": "code",
      "metadata": {
        "colab": {
          "base_uri": "https://localhost:8080/",
          "height": 496
        },
        "id": "tbL3SrOIKJJp",
        "outputId": "44bfd10b-1d2e-441e-cdd1-e33f15e79bd5"
      },
      "source": [
        "from sympy.abc import x, y, z\n",
        "u = 7*x**2 + 10*sqrt(3)*x*y - 3*y**2 - 20*z**2\n",
        "A = Matrix([[7, 5*sqrt(3), 0], [5*sqrt(3), -3, 0], [0, 0, -20]])\n",
        "display(A)\n",
        "X = Matrix([x, y, z])\n",
        "res = simplify(expand(X.T*A*X))\n",
        "display(X, res, res[0] - u)\n",
        "\n",
        "ev = A.eigenvects()\n",
        "P = Matrix([])\n",
        "for item in ev:\n",
        "  degree = item[1]\n",
        "  print('собственное число', item[0], 'кратность', degree, 'собственный вектор')\n",
        "  for i in range(degree): # это на случай кратных собственных чисел\n",
        "    e_i = item[2][i]\n",
        "    display(e_i)\n",
        "    P = P.row_join(e_i.normalized()) # нормируем собственные векторы матрицы $A$\n",
        "display(P)"
      ],
      "execution_count": 8,
      "outputs": [
        {
          "output_type": "display_data",
          "data": {
            "text/latex": "$\\displaystyle \\left[\\begin{matrix}7 & 5 \\sqrt{3} & 0\\\\5 \\sqrt{3} & -3 & 0\\\\0 & 0 & -20\\end{matrix}\\right]$",
            "text/plain": [
              "Matrix([\n",
              "[        7, 5*sqrt(3),   0],\n",
              "[5*sqrt(3),        -3,   0],\n",
              "[        0,         0, -20]])"
            ]
          },
          "metadata": {
            "tags": []
          }
        },
        {
          "output_type": "display_data",
          "data": {
            "text/latex": "$\\displaystyle \\left[\\begin{matrix}x\\\\y\\\\z\\end{matrix}\\right]$",
            "text/plain": [
              "Matrix([\n",
              "[x],\n",
              "[y],\n",
              "[z]])"
            ]
          },
          "metadata": {
            "tags": []
          }
        },
        {
          "output_type": "display_data",
          "data": {
            "text/latex": "$\\displaystyle \\left[\\begin{matrix}7 x^{2} + 10 \\sqrt{3} x y - 3 y^{2} - 20 z^{2}\\end{matrix}\\right]$",
            "text/plain": [
              "Matrix([[7*x**2 + 10*sqrt(3)*x*y - 3*y**2 - 20*z**2]])"
            ]
          },
          "metadata": {
            "tags": []
          }
        },
        {
          "output_type": "display_data",
          "data": {
            "text/latex": "$\\displaystyle 0$",
            "text/plain": [
              "0"
            ]
          },
          "metadata": {
            "tags": []
          }
        },
        {
          "output_type": "stream",
          "text": [
            "собственное число -20 кратность 1 собственный вектор\n"
          ],
          "name": "stdout"
        },
        {
          "output_type": "display_data",
          "data": {
            "text/latex": "$\\displaystyle \\left[\\begin{matrix}0\\\\0\\\\1\\end{matrix}\\right]$",
            "text/plain": [
              "Matrix([\n",
              "[0],\n",
              "[0],\n",
              "[1]])"
            ]
          },
          "metadata": {
            "tags": []
          }
        },
        {
          "output_type": "stream",
          "text": [
            "собственное число -8 кратность 1 собственный вектор\n"
          ],
          "name": "stdout"
        },
        {
          "output_type": "display_data",
          "data": {
            "text/latex": "$\\displaystyle \\left[\\begin{matrix}- \\frac{\\sqrt{3}}{3}\\\\1\\\\0\\end{matrix}\\right]$",
            "text/plain": [
              "Matrix([\n",
              "[-sqrt(3)/3],\n",
              "[         1],\n",
              "[         0]])"
            ]
          },
          "metadata": {
            "tags": []
          }
        },
        {
          "output_type": "stream",
          "text": [
            "собственное число 12 кратность 1 собственный вектор\n"
          ],
          "name": "stdout"
        },
        {
          "output_type": "display_data",
          "data": {
            "text/latex": "$\\displaystyle \\left[\\begin{matrix}\\sqrt{3}\\\\1\\\\0\\end{matrix}\\right]$",
            "text/plain": [
              "Matrix([\n",
              "[sqrt(3)],\n",
              "[      1],\n",
              "[      0]])"
            ]
          },
          "metadata": {
            "tags": []
          }
        },
        {
          "output_type": "display_data",
          "data": {
            "text/latex": "$\\displaystyle \\left[\\begin{matrix}0 & - \\frac{1}{2} & \\frac{\\sqrt{3}}{2}\\\\0 & \\frac{\\sqrt{3}}{2} & \\frac{1}{2}\\\\1 & 0 & 0\\end{matrix}\\right]$",
            "text/plain": [
              "Matrix([\n",
              "[0,      -1/2, sqrt(3)/2],\n",
              "[0, sqrt(3)/2,       1/2],\n",
              "[1,         0,         0]])"
            ]
          },
          "metadata": {
            "tags": []
          }
        }
      ]
    },
    {
      "cell_type": "markdown",
      "metadata": {
        "id": "C-j3tyQSKJJp"
      },
      "source": [
        "### Задание 2.\n",
        "Привести квадратичную форму Примера 1 к каноническому виду с помощью перехода к новому базису из собственных векторов."
      ]
    },
    {
      "cell_type": "code",
      "metadata": {
        "colab": {
          "base_uri": "https://localhost:8080/",
          "height": 99
        },
        "id": "zY8IIfDMKJJp",
        "outputId": "9328fcc0-30af-4b12-e685-07d3304ff4a6"
      },
      "source": [
        "A_new = P.T * A * P\n",
        "display(simplify(A_new))\n",
        "\n",
        "res = simplify(expand(X.T * A_new*X))\n",
        "display(res)"
      ],
      "execution_count": 17,
      "outputs": [
        {
          "output_type": "display_data",
          "data": {
            "text/latex": "$\\displaystyle \\left[\\begin{matrix}-20 & 0 & 0\\\\0 & -8 & 0\\\\0 & 0 & 12\\end{matrix}\\right]$",
            "text/plain": [
              "Matrix([\n",
              "[-20,  0,  0],\n",
              "[  0, -8,  0],\n",
              "[  0,  0, 12]])"
            ]
          },
          "metadata": {
            "tags": []
          }
        },
        {
          "output_type": "display_data",
          "data": {
            "text/latex": "$\\displaystyle \\left[\\begin{matrix}- 20 x^{2} - 8 y^{2} + 12 z^{2}\\end{matrix}\\right]$",
            "text/plain": [
              "Matrix([[-20*x**2 - 8*y**2 + 12*z**2]])"
            ]
          },
          "metadata": {
            "tags": []
          }
        }
      ]
    },
    {
      "cell_type": "markdown",
      "metadata": {
        "id": "vRjpiNu-KJJp"
      },
      "source": [
        "### Задание 3.\n",
        "Определить тип кривой второго порядка, заданной уравнением\n",
        "$$\n",
        "97x^2 - 144xy + 97y^2 + 482x - 532y = 3452\n",
        "$$\n",
        "Построить в одной координатной плоскости график заданного уравнения и канонического уравнения соответствующей кривой, каноническое уравнение сделать названием графика. "
      ]
    },
    {
      "cell_type": "code",
      "metadata": {
        "colab": {
          "base_uri": "https://localhost:8080/",
          "height": 140
        },
        "id": "ky662jJOKJJq",
        "outputId": "59f1e6df-b8a3-40b3-baf9-151346f325cf"
      },
      "source": [
        "u2 = 97*x**2 -144*x*y + 97*y**2 + 482*x - 532*y\n",
        "\n",
        "A3 = Matrix([[97, -72, 241], [-72, 97, -266], [241, -266, -3452]])\n",
        "X3 = Matrix([x, y, 1])\n",
        "display(A3, X3)"
      ],
      "execution_count": 42,
      "outputs": [
        {
          "output_type": "display_data",
          "data": {
            "text/latex": "$\\displaystyle \\left[\\begin{matrix}97 & -72 & 241\\\\-72 & 97 & -266\\\\241 & -266 & -3452\\end{matrix}\\right]$",
            "text/plain": [
              "Matrix([\n",
              "[ 97,  -72,   241],\n",
              "[-72,   97,  -266],\n",
              "[241, -266, -3452]])"
            ]
          },
          "metadata": {
            "tags": []
          }
        },
        {
          "output_type": "display_data",
          "data": {
            "text/latex": "$\\displaystyle \\left[\\begin{matrix}x\\\\y\\\\1\\end{matrix}\\right]$",
            "text/plain": [
              "Matrix([\n",
              "[x],\n",
              "[y],\n",
              "[1]])"
            ]
          },
          "metadata": {
            "tags": []
          }
        }
      ]
    },
    {
      "cell_type": "code",
      "metadata": {
        "colab": {
          "base_uri": "https://localhost:8080/",
          "height": 39
        },
        "id": "Eb2NPgzkRIMK",
        "outputId": "16c9f440-d479-4cb0-a6c7-460a7baa1fe5"
      },
      "source": [
        "eq3 = Eq(simplify(expand(X3.transpose()*A3*X3))[0], 0)\n",
        "display(eq3)"
      ],
      "execution_count": 43,
      "outputs": [
        {
          "output_type": "display_data",
          "data": {
            "text/latex": "$\\displaystyle 97 x^{2} - 144 x y + 482 x + 97 y^{2} - 532 y - 3452 = 0$",
            "text/plain": [
              "Eq(97*x**2 - 144*x*y + 482*x + 97*y**2 - 532*y - 3452, 0)"
            ]
          },
          "metadata": {
            "tags": []
          }
        }
      ]
    },
    {
      "cell_type": "code",
      "metadata": {
        "colab": {
          "base_uri": "https://localhost:8080/",
          "height": 90
        },
        "id": "VKEbGpWsRNj_",
        "outputId": "0033141b-531c-4895-e6b3-3a47c49fa9fd"
      },
      "source": [
        "alpha = sympy.acot((A3[0, 0] - A3[1, 1])/(2*A3[0, 1]))/2\n",
        "P = Matrix([[Cos(alpha), -Sin(alpha), 0], [Sin(alpha), Cos(alpha), 0], [0, 0, 1]])\n",
        "display(P)"
      ],
      "execution_count": 44,
      "outputs": [
        {
          "output_type": "display_data",
          "data": {
            "text/latex": "$\\displaystyle \\left[\\begin{matrix}\\frac{\\sqrt{2}}{2} & - \\frac{\\sqrt{2}}{2} & 0\\\\\\frac{\\sqrt{2}}{2} & \\frac{\\sqrt{2}}{2} & 0\\\\0 & 0 & 1\\end{matrix}\\right]$",
            "text/plain": [
              "Matrix([\n",
              "[sqrt(2)/2, -sqrt(2)/2, 0],\n",
              "[sqrt(2)/2,  sqrt(2)/2, 0],\n",
              "[        0,          0, 1]])"
            ]
          },
          "metadata": {
            "tags": []
          }
        }
      ]
    },
    {
      "cell_type": "code",
      "metadata": {
        "colab": {
          "base_uri": "https://localhost:8080/",
          "height": 90
        },
        "id": "6SXVLFSnRQ7l",
        "outputId": "dfbbf97f-28c5-4441-9447-b5388dcac02c"
      },
      "source": [
        "A3 = simplify(expand((P.transpose()*A3*P)))\n",
        "display(A3)"
      ],
      "execution_count": 45,
      "outputs": [
        {
          "output_type": "display_data",
          "data": {
            "text/latex": "$\\displaystyle \\left[\\begin{matrix}25 & 0 & - \\frac{25 \\sqrt{2}}{2}\\\\0 & 169 & - \\frac{507 \\sqrt{2}}{2}\\\\- \\frac{25 \\sqrt{2}}{2} & - \\frac{507 \\sqrt{2}}{2} & -3452\\end{matrix}\\right]$",
            "text/plain": [
              "Matrix([\n",
              "[           25,              0,  -25*sqrt(2)/2],\n",
              "[            0,            169, -507*sqrt(2)/2],\n",
              "[-25*sqrt(2)/2, -507*sqrt(2)/2,          -3452]])"
            ]
          },
          "metadata": {
            "tags": []
          }
        }
      ]
    },
    {
      "cell_type": "code",
      "metadata": {
        "colab": {
          "base_uri": "https://localhost:8080/",
          "height": 41
        },
        "id": "8tJbp9N4RWes",
        "outputId": "7f47cbf0-16eb-4ef1-9572-a55206bf13ef"
      },
      "source": [
        "from sympy.abc import X, Y, Z\n",
        "X3 = Matrix((X, Y, 1))\n",
        "simplify(expand((X3.T*A3*X3)[0]))"
      ],
      "execution_count": 46,
      "outputs": [
        {
          "output_type": "execute_result",
          "data": {
            "text/latex": "$\\displaystyle 25 X^{2} - 25 \\sqrt{2} X + 169 Y^{2} - 507 \\sqrt{2} Y - 3452$",
            "text/plain": [
              "25*X**2 - 25*sqrt(2)*X + 169*Y**2 - 507*sqrt(2)*Y - 3452"
            ]
          },
          "metadata": {
            "tags": []
          },
          "execution_count": 46
        }
      ]
    },
    {
      "cell_type": "code",
      "metadata": {
        "colab": {
          "base_uri": "https://localhost:8080/",
          "height": 110
        },
        "id": "buI3NZnPRbAD",
        "outputId": "7b172587-701b-49b6-e2c1-1d70b1faccf2"
      },
      "source": [
        "X3_new = Matrix((X - A3[0, 2]/A3[0, 0], Y - A3[1, 2]/A3[1, 1], 1))\n",
        "eq3_new = simplify(expand(X3_new.T*A3*X3_new))[0]\n",
        "display(X3_new, eq3_new)"
      ],
      "execution_count": 47,
      "outputs": [
        {
          "output_type": "display_data",
          "data": {
            "text/latex": "$\\displaystyle \\left[\\begin{matrix}X + \\frac{\\sqrt{2}}{2}\\\\Y + \\frac{3 \\sqrt{2}}{2}\\\\1\\end{matrix}\\right]$",
            "text/plain": [
              "Matrix([\n",
              "[  X + sqrt(2)/2],\n",
              "[Y + 3*sqrt(2)/2],\n",
              "[              1]])"
            ]
          },
          "metadata": {
            "tags": []
          }
        },
        {
          "output_type": "display_data",
          "data": {
            "text/latex": "$\\displaystyle 25 X^{2} + 169 Y^{2} - 4225$",
            "text/plain": [
              "25*X**2 + 169*Y**2 - 4225"
            ]
          },
          "metadata": {
            "tags": []
          }
        }
      ]
    },
    {
      "cell_type": "code",
      "metadata": {
        "colab": {
          "base_uri": "https://localhost:8080/",
          "height": 54
        },
        "id": "q524S4mvRfVy",
        "outputId": "a1a98d7b-e256-4740-a559-41154c48679f"
      },
      "source": [
        "free = eq3_new.subs({X: 0, Y: 0})\n",
        "eq3_last = eq3_new/(-free) + 1\n",
        "Eq(eq3_last, 1)"
      ],
      "execution_count": 49,
      "outputs": [
        {
          "output_type": "execute_result",
          "data": {
            "text/latex": "$\\displaystyle \\frac{X^{2}}{169} + \\frac{Y^{2}}{25} = 1$",
            "text/plain": [
              "Eq(X**2/169 + Y**2/25, 1)"
            ]
          },
          "metadata": {
            "tags": []
          },
          "execution_count": 49
        }
      ]
    },
    {
      "cell_type": "code",
      "metadata": {
        "colab": {
          "base_uri": "https://localhost:8080/",
          "height": 54
        },
        "id": "hQ3g5kJ9RvG2",
        "outputId": "bdb0f2c4-95ac-4ab1-c9bb-0f6b12fe767e"
      },
      "source": [
        "eq3_last_xy = Eq(eq3_last.subs({X: x, Y: y}), 1)\n",
        "display(eq3_last_xy)"
      ],
      "execution_count": 50,
      "outputs": [
        {
          "output_type": "display_data",
          "data": {
            "text/latex": "$\\displaystyle \\frac{x^{2}}{169} + \\frac{y^{2}}{25} = 1$",
            "text/plain": [
              "Eq(x**2/169 + y**2/25, 1)"
            ]
          },
          "metadata": {
            "tags": []
          }
        }
      ]
    },
    {
      "cell_type": "code",
      "metadata": {
        "colab": {
          "base_uri": "https://localhost:8080/",
          "height": 297
        },
        "id": "-ZaQ6CvWRw9m",
        "outputId": "e87481d7-8833-4ac3-8a81-e41f9da37af2"
      },
      "source": [
        "p = plot_implicit(eq3, (x, -15, 15), (y, -15, 15), line_color='g', aspect_ratio=(1, 1), xlabel='$x$', ylabel='$y$',\n",
        " title=latex(eq3_last_xy, mode='inline') + '\\n', adaptive=False, show=False)\n",
        "p.extend(plot_implicit(eq3_last_xy, (x, -15, 15), (y, -15, 15), line_color='m', aspect_ratio=(1, 1), adaptive=False, show=False))\n",
        "p.show()"
      ],
      "execution_count": 54,
      "outputs": [
        {
          "output_type": "display_data",
          "data": {
            "image/png": "[encoded data removed]",
            "text/plain": [
              "<Figure size 432x288 with 1 Axes>"
            ]
          },
          "metadata": {
            "tags": [],
            "needs_background": "light"
          }
        }
      ]
    },
    {
      "cell_type": "markdown",
      "metadata": {
        "id": "Ga1vnAHjKJJq"
      },
      "source": [
        "### Задание 4.\n",
        "Определить тип кривой второго порядка, заданной уравнением\n",
        "$$\n",
        "x^2+2xy+y^2-4x+4y=4\n",
        "$$\n",
        "Построить в одной координатной плоскости график заданного уравнения и канонического уравнения соответствующей кривой, каноническое уравнение сделать названием графика. \n",
        "\n",
        "Указание: каноническое уравнение параболы $y^2 = 2px$ или $x^2 = 2py$; для того, чтобы выразить $x$ или $y$ можно воспользоваться solve или solveset."
      ]
    },
    {
      "cell_type": "code",
      "metadata": {
        "colab": {
          "base_uri": "https://localhost:8080/",
          "height": 140
        },
        "id": "2UxncsYoSUnk",
        "outputId": "0a5e47b8-61b8-47c8-cf76-7acc45b64aa1"
      },
      "source": [
        "u3 = x**2 + 2*x*y + y**2 - 4*x + 4*y - 4\n",
        "\n",
        "A3 = Matrix([[1, 1, -2], [1, 1, 2], [-2, 2, -4]])\n",
        "X3 = Matrix([x, y, 1])\n",
        "display(A3, X3)"
      ],
      "execution_count": 69,
      "outputs": [
        {
          "output_type": "display_data",
          "data": {
            "text/latex": "$\\displaystyle \\left[\\begin{matrix}1 & 1 & -2\\\\1 & 1 & 2\\\\-2 & 2 & -4\\end{matrix}\\right]$",
            "text/plain": [
              "Matrix([\n",
              "[ 1, 1, -2],\n",
              "[ 1, 1,  2],\n",
              "[-2, 2, -4]])"
            ]
          },
          "metadata": {
            "tags": []
          }
        },
        {
          "output_type": "display_data",
          "data": {
            "text/latex": "$\\displaystyle \\left[\\begin{matrix}x\\\\y\\\\1\\end{matrix}\\right]$",
            "text/plain": [
              "Matrix([\n",
              "[x],\n",
              "[y],\n",
              "[1]])"
            ]
          },
          "metadata": {
            "tags": []
          }
        }
      ]
    },
    {
      "cell_type": "code",
      "metadata": {
        "colab": {
          "base_uri": "https://localhost:8080/",
          "height": 39
        },
        "id": "ghwcrEnkKJJq",
        "outputId": "b8861a8d-920b-4b18-887b-6598127ece85"
      },
      "source": [
        "eq3 = Eq(simplify(expand(X3.transpose()*A3*X3))[0], 0)\n",
        "display(eq3)"
      ],
      "execution_count": 70,
      "outputs": [
        {
          "output_type": "display_data",
          "data": {
            "text/latex": "$\\displaystyle x^{2} + 2 x y - 4 x + y^{2} + 4 y - 4 = 0$",
            "text/plain": [
              "Eq(x**2 + 2*x*y - 4*x + y**2 + 4*y - 4, 0)"
            ]
          },
          "metadata": {
            "tags": []
          }
        }
      ]
    },
    {
      "cell_type": "code",
      "metadata": {
        "colab": {
          "base_uri": "https://localhost:8080/",
          "height": 90
        },
        "id": "DixoIErjW_s-",
        "outputId": "b903d50c-098a-4a51-b974-ab4100b44777"
      },
      "source": [
        "alpha = sympy.acot((A3[0, 0] - A3[1, 1])/(2*A3[0, 1]))/2\n",
        "P = Matrix([[Cos(alpha), -Sin(alpha), 0], [Sin(alpha), Cos(alpha), 0], [0, 0, 1]])\n",
        "display(P)"
      ],
      "execution_count": 71,
      "outputs": [
        {
          "output_type": "display_data",
          "data": {
            "text/latex": "$\\displaystyle \\left[\\begin{matrix}\\frac{\\sqrt{2}}{2} & - \\frac{\\sqrt{2}}{2} & 0\\\\\\frac{\\sqrt{2}}{2} & \\frac{\\sqrt{2}}{2} & 0\\\\0 & 0 & 1\\end{matrix}\\right]$",
            "text/plain": [
              "Matrix([\n",
              "[sqrt(2)/2, -sqrt(2)/2, 0],\n",
              "[sqrt(2)/2,  sqrt(2)/2, 0],\n",
              "[        0,          0, 1]])"
            ]
          },
          "metadata": {
            "tags": []
          }
        }
      ]
    },
    {
      "cell_type": "code",
      "metadata": {
        "colab": {
          "base_uri": "https://localhost:8080/",
          "height": 81
        },
        "id": "5FaCB3LaXCjR",
        "outputId": "0b65ff99-34fb-4be9-cb6e-d95e0133a053"
      },
      "source": [
        "A3 = simplify(expand((P.transpose()*A3*P)))\n",
        "display(A3)"
      ],
      "execution_count": 72,
      "outputs": [
        {
          "output_type": "display_data",
          "data": {
            "text/latex": "$\\displaystyle \\left[\\begin{matrix}2 & 0 & 0\\\\0 & 0 & 2 \\sqrt{2}\\\\0 & 2 \\sqrt{2} & -4\\end{matrix}\\right]$",
            "text/plain": [
              "Matrix([\n",
              "[2,         0,         0],\n",
              "[0,         0, 2*sqrt(2)],\n",
              "[0, 2*sqrt(2),        -4]])"
            ]
          },
          "metadata": {
            "tags": []
          }
        }
      ]
    },
    {
      "cell_type": "code",
      "metadata": {
        "colab": {
          "base_uri": "https://localhost:8080/",
          "height": 41
        },
        "id": "vXve716vXFlt",
        "outputId": "b0ced41e-d8fa-4494-b876-6c03676e0f23"
      },
      "source": [
        "from sympy.abc import X, Y, Z\n",
        "X3 = Matrix((X, Y, 1))\n",
        "simplify(expand((X3.T*A3*X3)[0]))"
      ],
      "execution_count": 73,
      "outputs": [
        {
          "output_type": "execute_result",
          "data": {
            "text/latex": "$\\displaystyle 2 X^{2} + 4 \\sqrt{2} Y - 4$",
            "text/plain": [
              "2*X**2 + 4*sqrt(2)*Y - 4"
            ]
          },
          "metadata": {
            "tags": []
          },
          "execution_count": 73
        }
      ]
    },
    {
      "cell_type": "code",
      "metadata": {
        "colab": {
          "base_uri": "https://localhost:8080/",
          "height": 105
        },
        "id": "xBArGDq5XJAb",
        "outputId": "81c32aa9-c63f-473e-f6de-0269346a7890"
      },
      "source": [
        "X3_new = Matrix((X , Y - A3[2, 2]/(2*A3[1, 2]), 1))\n",
        "eq3_new = simplify(expand(X3_new.T*A3*X3_new))[0]\n",
        "display(X3_new, eq3_new)"
      ],
      "execution_count": 84,
      "outputs": [
        {
          "output_type": "display_data",
          "data": {
            "text/latex": "$\\displaystyle \\left[\\begin{matrix}X\\\\Y + \\frac{\\sqrt{2}}{2}\\\\1\\end{matrix}\\right]$",
            "text/plain": [
              "Matrix([\n",
              "[            X],\n",
              "[Y + sqrt(2)/2],\n",
              "[            1]])"
            ]
          },
          "metadata": {
            "tags": []
          }
        },
        {
          "output_type": "display_data",
          "data": {
            "text/latex": "$\\displaystyle 2 X^{2} + 4 \\sqrt{2} Y$",
            "text/plain": [
              "2*X**2 + 4*sqrt(2)*Y"
            ]
          },
          "metadata": {
            "tags": []
          }
        }
      ]
    },
    {
      "cell_type": "code",
      "metadata": {
        "id": "l6qUcVJZccFK"
      },
      "source": [
        "#eq3_new = eq3_new.subs({X: x, Y: y})"
      ],
      "execution_count": 94,
      "outputs": []
    },
    {
      "cell_type": "code",
      "metadata": {
        "colab": {
          "base_uri": "https://localhost:8080/",
          "height": 297
        },
        "id": "DIae5BFsXTnk",
        "outputId": "74672886-44f7-4241-8cd4-5e553e88cf1a"
      },
      "source": [
        "p = plot_implicit(eq3, (x, -15, 15), (y, -15, 15), line_color='g', aspect_ratio=(1, 1), xlabel='$x$', ylabel='$y$', title=latex(eq3_new, mode='inline') + '\\n', adaptive=False, show=False)\n",
        "p.extend(plot_implicit(eq3_new, (x, -15, 15), (y, -15, 15), line_color='m', aspect_ratio=(1, 1), adaptive=False, show=False))\n",
        "p.show()"
      ],
      "execution_count": 106,
      "outputs": [
        {
          "output_type": "display_data",
          "data": {
            "image/png": "[encoded data removed]",
            "text/plain": [
              "<Figure size 432x288 with 1 Axes>"
            ]
          },
          "metadata": {
            "tags": [],
            "needs_background": "light"
          }
        }
      ]
    },
    {
      "cell_type": "markdown",
      "metadata": {
        "id": "GVvU5v6XKJJq"
      },
      "source": [
        "###  Индивидуальное задание\n",
        "Составить матрицу квадратичной формы и привести ее к каноническому виду с помощью перехода к новому базису из собственных векторов. Векторы выводить на экран не нужно. Вывести на экран матрицу в исходном виде и канонической форме, а также саму квадратичную форму в каноническом виде.\n",
        "\n",
        "# Вариант N 131\n",
        "\n",
        "$$Q = - 1309 x^{2} + 108 \\sqrt{11} x y - 2182 \\sqrt{3} x z - 1564 y^{2} - 108 \\sqrt{33} y z + 873 z^{2}$$"
      ]
    },
    {
      "cell_type": "code",
      "metadata": {
        "colab": {
          "base_uri": "https://localhost:8080/",
          "height": 184
        },
        "id": "Vz6IXFpiKJJq",
        "outputId": "804c2098-077a-43df-c518-8a5f585ed510"
      },
      "source": [
        "q = -1309*x**2 + 108*sqrt(11)*x*y - 2182*sqrt(3)*x*z - 1564*y**2 -108*sqrt(33)*y*z + 873*z**2\n",
        "\n",
        "A5 = Matrix([[-1309, 54*sqrt(11), - 1091*sqrt(3)], [54*sqrt(11), - 1564, -54*sqrt(33)], [- 1091*sqrt(3), -54*sqrt(33), 873]])\n",
        "display(A5)\n",
        "\n",
        "X = Matrix([x, y, z])\n",
        "res = simplify(expand(X.T*A5*X))\n",
        "display(X, res, res[0] - q)"
      ],
      "execution_count": 64,
      "outputs": [
        {
          "output_type": "display_data",
          "data": {
            "text/latex": "$\\displaystyle \\left[\\begin{matrix}-1309 & 54 \\sqrt{11} & - 1091 \\sqrt{3}\\\\54 \\sqrt{11} & -1564 & - 54 \\sqrt{33}\\\\- 1091 \\sqrt{3} & - 54 \\sqrt{33} & 873\\end{matrix}\\right]$",
            "text/plain": [
              "Matrix([\n",
              "[        -1309,  54*sqrt(11), -1091*sqrt(3)],\n",
              "[  54*sqrt(11),        -1564,  -54*sqrt(33)],\n",
              "[-1091*sqrt(3), -54*sqrt(33),           873]])"
            ]
          },
          "metadata": {
            "tags": []
          }
        },
        {
          "output_type": "display_data",
          "data": {
            "text/latex": "$\\displaystyle \\left[\\begin{matrix}x\\\\y\\\\z\\end{matrix}\\right]$",
            "text/plain": [
              "Matrix([\n",
              "[x],\n",
              "[y],\n",
              "[z]])"
            ]
          },
          "metadata": {
            "tags": []
          }
        },
        {
          "output_type": "display_data",
          "data": {
            "text/latex": "$\\displaystyle \\left[\\begin{matrix}- 1309 x^{2} + 108 \\sqrt{11} x y - 2182 \\sqrt{3} x z - 1564 y^{2} - 108 \\sqrt{33} y z + 873 z^{2}\\end{matrix}\\right]$",
            "text/plain": [
              "Matrix([[-1309*x**2 + 108*sqrt(11)*x*y - 2182*sqrt(3)*x*z - 1564*y**2 - 108*sqrt(33)*y*z + 873*z**2]])"
            ]
          },
          "metadata": {
            "tags": []
          }
        },
        {
          "output_type": "display_data",
          "data": {
            "text/latex": "$\\displaystyle 0$",
            "text/plain": [
              "0"
            ]
          },
          "metadata": {
            "tags": []
          }
        }
      ]
    },
    {
      "cell_type": "code",
      "metadata": {
        "colab": {
          "base_uri": "https://localhost:8080/",
          "height": 342
        },
        "id": "OBmfcmXlUXpD",
        "outputId": "54ef4f35-6557-4493-ae00-dd14c207a089"
      },
      "source": [
        "ev = A5.eigenvects()\n",
        "P = Matrix([])\n",
        "for item in ev:\n",
        "  degree = item[1]\n",
        "  print('собственное число', item[0], 'кратность', degree, 'собственный вектор')\n",
        "  for i in range(degree): # это на случай кратных собственных чисел\n",
        "    e_i = item[2][i]\n",
        "    display(e_i)\n",
        "    P = P.row_join(e_i.normalized()) # нормируем собственные векторы матрицы $A$\n",
        "display(P)"
      ],
      "execution_count": 65,
      "outputs": [
        {
          "output_type": "stream",
          "text": [
            "собственное число -2400 кратность 1 собственный вектор\n"
          ],
          "name": "stdout"
        },
        {
          "output_type": "display_data",
          "data": {
            "text/latex": "$\\displaystyle \\left[\\begin{matrix}\\sqrt{3}\\\\0\\\\1\\end{matrix}\\right]$",
            "text/plain": [
              "Matrix([\n",
              "[sqrt(3)],\n",
              "[      0],\n",
              "[      1]])"
            ]
          },
          "metadata": {
            "tags": []
          }
        },
        {
          "output_type": "stream",
          "text": [
            "собственное число -1600 кратность 1 собственный вектор\n"
          ],
          "name": "stdout"
        },
        {
          "output_type": "display_data",
          "data": {
            "text/latex": "$\\displaystyle \\left[\\begin{matrix}- \\frac{\\sqrt{3}}{3}\\\\2 \\sqrt{33}\\\\1\\end{matrix}\\right]$",
            "text/plain": [
              "Matrix([\n",
              "[-sqrt(3)/3],\n",
              "[2*sqrt(33)],\n",
              "[         1]])"
            ]
          },
          "metadata": {
            "tags": []
          }
        },
        {
          "output_type": "stream",
          "text": [
            "собственное число 2000 кратность 1 собственный вектор\n"
          ],
          "name": "stdout"
        },
        {
          "output_type": "display_data",
          "data": {
            "text/latex": "$\\displaystyle \\left[\\begin{matrix}- \\frac{\\sqrt{3}}{3}\\\\- \\frac{2 \\sqrt{33}}{99}\\\\1\\end{matrix}\\right]$",
            "text/plain": [
              "Matrix([\n",
              "[    -sqrt(3)/3],\n",
              "[-2*sqrt(33)/99],\n",
              "[             1]])"
            ]
          },
          "metadata": {
            "tags": []
          }
        },
        {
          "output_type": "display_data",
          "data": {
            "text/latex": "$\\displaystyle \\left[\\begin{matrix}\\frac{\\sqrt{3}}{2} & - \\frac{1}{20} & - \\frac{3 \\sqrt{11}}{20}\\\\0 & \\frac{3 \\sqrt{11}}{10} & - \\frac{1}{10}\\\\\\frac{1}{2} & \\frac{\\sqrt{3}}{20} & \\frac{3 \\sqrt{33}}{20}\\end{matrix}\\right]$",
            "text/plain": [
              "Matrix([\n",
              "[sqrt(3)/2,         -1/20, -3*sqrt(11)/20],\n",
              "[        0, 3*sqrt(11)/10,          -1/10],\n",
              "[      1/2,    sqrt(3)/20,  3*sqrt(33)/20]])"
            ]
          },
          "metadata": {
            "tags": []
          }
        }
      ]
    },
    {
      "cell_type": "code",
      "metadata": {
        "colab": {
          "base_uri": "https://localhost:8080/",
          "height": 99
        },
        "id": "VnqNE7BVUdR8",
        "outputId": "439f8bbf-407a-4e7e-dd32-d8f19a660743"
      },
      "source": [
        "A_new = P.T * A5 * P\n",
        "display(simplify(A_new))\n",
        "\n",
        "res = simplify(expand(X.T * A_new*X))\n",
        "display(res)"
      ],
      "execution_count": 66,
      "outputs": [
        {
          "output_type": "display_data",
          "data": {
            "text/latex": "$\\displaystyle \\left[\\begin{matrix}-2400 & 0 & 0\\\\0 & -1600 & 0\\\\0 & 0 & 2000\\end{matrix}\\right]$",
            "text/plain": [
              "Matrix([\n",
              "[-2400,     0,    0],\n",
              "[    0, -1600,    0],\n",
              "[    0,     0, 2000]])"
            ]
          },
          "metadata": {
            "tags": []
          }
        },
        {
          "output_type": "display_data",
          "data": {
            "text/latex": "$\\displaystyle \\left[\\begin{matrix}- 2400 x^{2} - 1600 y^{2} + 2000 z^{2}\\end{matrix}\\right]$",
            "text/plain": [
              "Matrix([[-2400*x**2 - 1600*y**2 + 2000*z**2]])"
            ]
          },
          "metadata": {
            "tags": []
          }
        }
      ]
    }
  ]
}